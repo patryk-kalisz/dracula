{
 "cells": [
  {
   "cell_type": "markdown",
   "metadata": {},
   "source": [
    "# Decrease in GDP of USA\n",
    "> Bar chart created as faceted chart\n",
    "\n",
    "- toc: false\n",
    "- comments: true\n",
    "- image: images/gdp.png\n",
    "- hide: false\n",
    "- search_exclude: false\n",
    "- categories: [jupyter]\n",
    "- author: Shantam Raj\n",
    "- badges: true"
   ]
  },
  {
   "cell_type": "markdown",
   "metadata": {},
   "source": [
    "Tis post will show you how to make the GDP chart in the article by titled [Big Tech Earnings Surge as Economy Slumps](https://www.nytimes.com/live/2020/07/30/business/stock-market-today-coronavirus)\n",
    "\n",
    "![gdp](images/gdp.png)"
   ]
  },
  {
   "cell_type": "markdown",
   "metadata": {},
   "source": [
    "Nothing that it's a percent change from previous quarter data, we will extract the data for this chart as follows from Bureau of Economic Analysis -\n",
    "- Go here - https://apps.bea.gov/iTable/index_nipa.cfm\n",
    "- Click on \"Begin using this data\"\n",
    "- Click on Section 1\n",
    "- Click on Table 1.1.1 - Percent Change From Preceding Period in Real Gross Domestic Product - Annualized\n",
    "- Click on Modify\n",
    "- Select on all years\n",
    "- Repeat the steps for Table 1.1.3 - Real Gross Domestic Product, Quantity Indexes"
   ]
  },
  {
   "cell_type": "markdown",
   "metadata": {},
   "source": [
    "There are however some important things to know before going further which will save you a lot of time and give you a better understanding of what you are doing, which I did not understand the first time and had to dig up a lot to figure. Read this [article](https://www.nytimes.com/2020/07/29/business/economy/us-gdp-report.html) and then [this.](https://www.dallasfed.org/research/basics/annualizing.aspx\n",
    ")"
   ]
  },
  {
   "cell_type": "markdown",
   "metadata": {},
   "source": [
    "Now you know that GDP is reported in a rather peculiar way - annulazied GDP. It mean's they report values of GDP such that if the current state of affairs continue then what would happen by the end of the year"
   ]
  },
  {
   "cell_type": "markdown",
   "metadata": {},
   "source": [
    "The formula for annunalizing is -\n",
    "\n",
    "$ g_{m} = \\left[ \\left( \\frac{X_{m}}{X_{m-1}} \\right)^n -1 \\right]\\cdot100 $\n",
    "\n",
    "where n is 4 for quarterly available data and 12 for monthly data"
   ]
  },
  {
   "cell_type": "code",
   "execution_count": 100,
   "metadata": {},
   "outputs": [],
   "source": [
    "import pandas as pd\n",
    "import altair as alt\n",
    "from functools import wraps\n",
    "import datetime as dt\n",
    "\n",
    "alt.renderers.set_embed_options(actions=False)\n",
    "\n",
    "def log_step(func):\n",
    "    @wraps(func)\n",
    "    def wrapper(*args, **kwargs):\n",
    "        \"\"\"timing or logging etc\"\"\"\n",
    "        start = dt.datetime.now()\n",
    "        output = func(*args, **kwargs)\n",
    "        end = dt.datetime.now()\n",
    "        print(f\"After function {func.__name__} ran, shape of dataframe is - {output.shape}, execution time is - {end-start}\")\n",
    "        return output\n",
    "    return wrapper\n",
    "\n",
    "@log_step\n",
    "def read_transpose_gdp_data(path, if_uri):\n",
    "    if if_uri:\n",
    "        pass\n",
    "    else:      \n",
    "        cols = pd.read_csv(path, skiprows=4, header=None, nrows=1) \n",
    "        us_gdp = pd.read_csv(path, skiprows=4, header=None, usecols=[i for i in cols if i != 0])\n",
    "        us_gdp = us_gdp.T\n",
    "        us_gdp.iloc[0,0] = 'year'\n",
    "        us_gdp.iloc[0,1] = 'quarter'\n",
    "        us_gdp.columns = us_gdp.iloc[0]\n",
    "        us_gdp = us_gdp[1:]\n",
    "        return us_gdp\n",
    "\n",
    "@log_step\n",
    "def clean_gdp_data(df):\n",
    "    df.columns = [x.strip() for x in df.columns]\n",
    "    #df.columns = [x.strip() if type(x) != float else x for x in list(df.columns)]\n",
    "    df['Gross domestic product'] = df['Gross domestic product'].astype(float)\n",
    "    df['year'] = df['year'].astype(int)\n",
    "    df = df.reset_index(drop=True)\n",
    "    #df.rename(columns={'Gross domestic product': 'gdp'}, inplace=True)\n",
    "    #df['year'] = pd.to_datetime(df['year'], format=\"%Y\")\n",
    "    df.drop(df.columns[3:], inplace=True, axis=1)\n",
    "    return df\n",
    "\n",
    "@log_step\n",
    "def rename_cols(df, col_dict):\n",
    "    df.rename(columns=col_dict, inplace=True)\n",
    "    return df\n",
    "\n",
    "@log_step\n",
    "def assign_columns(df):\n",
    "    df = df.assign(non_annualized_gdp = df['real_gdp'].diff()/df['real_gdp'].shift(1)*100)\n",
    "    return df\n",
    "\n",
    "@log_step\n",
    "def reshape_concat_column(df, col):\n",
    "    df = df[1:].reset_index()\n",
    "    df = df.assign(annualized_gdp = col)\n",
    "    return df\n",
    "\n",
    "def year_as_time(df):\n",
    "    df['year'] = pd.to_datetime(df['year'], format=\"%Y\")\n",
    "    return df"
   ]
  },
  {
   "cell_type": "markdown",
   "metadata": {},
   "source": [
    "### Annualized GDP"
   ]
  },
  {
   "cell_type": "code",
   "execution_count": 101,
   "metadata": {},
   "outputs": [
    {
     "name": "stdout",
     "output_type": "stream",
     "text": [
      "After function read_transpose_gdp_data ran, shape of dataframe is - (293, 30), execution time is - 0:00:00.080267\n",
      "After function clean_gdp_data ran, shape of dataframe is - (293, 3), execution time is - 0:00:00.004031\n",
      "After function rename_cols ran, shape of dataframe is - (293, 3), execution time is - 0:00:00.000345\n"
     ]
    },
    {
     "data": {
      "text/html": [
       "<div>\n",
       "<style scoped>\n",
       "    .dataframe tbody tr th:only-of-type {\n",
       "        vertical-align: middle;\n",
       "    }\n",
       "\n",
       "    .dataframe tbody tr th {\n",
       "        vertical-align: top;\n",
       "    }\n",
       "\n",
       "    .dataframe thead th {\n",
       "        text-align: right;\n",
       "    }\n",
       "</style>\n",
       "<table border=\"1\" class=\"dataframe\">\n",
       "  <thead>\n",
       "    <tr style=\"text-align: right;\">\n",
       "      <th></th>\n",
       "      <th>year</th>\n",
       "      <th>quarter</th>\n",
       "      <th>ann_gdp</th>\n",
       "    </tr>\n",
       "  </thead>\n",
       "  <tbody>\n",
       "    <tr>\n",
       "      <th>0</th>\n",
       "      <td>1947</td>\n",
       "      <td>Q2</td>\n",
       "      <td>-1.0</td>\n",
       "    </tr>\n",
       "    <tr>\n",
       "      <th>1</th>\n",
       "      <td>1947</td>\n",
       "      <td>Q3</td>\n",
       "      <td>-0.8</td>\n",
       "    </tr>\n",
       "    <tr>\n",
       "      <th>2</th>\n",
       "      <td>1947</td>\n",
       "      <td>Q4</td>\n",
       "      <td>6.4</td>\n",
       "    </tr>\n",
       "    <tr>\n",
       "      <th>3</th>\n",
       "      <td>1948</td>\n",
       "      <td>Q1</td>\n",
       "      <td>6.2</td>\n",
       "    </tr>\n",
       "    <tr>\n",
       "      <th>4</th>\n",
       "      <td>1948</td>\n",
       "      <td>Q2</td>\n",
       "      <td>6.8</td>\n",
       "    </tr>\n",
       "  </tbody>\n",
       "</table>\n",
       "</div>"
      ],
      "text/plain": [
       "   year quarter  ann_gdp\n",
       "0  1947      Q2     -1.0\n",
       "1  1947      Q3     -0.8\n",
       "2  1947      Q4      6.4\n",
       "3  1948      Q1      6.2\n",
       "4  1948      Q2      6.8"
      ]
     },
     "execution_count": 101,
     "metadata": {},
     "output_type": "execute_result"
    }
   ],
   "source": [
    "ann_gdp = (read_transpose_gdp_data(path='usa_gdp.csv', if_uri=False)\n",
    "          .pipe(clean_gdp_data)\n",
    "          .pipe(rename_cols, col_dict={'Gross domestic product': 'ann_gdp'})\n",
    "         )\n",
    "\n",
    "ann_gdp.head()"
   ]
  },
  {
   "cell_type": "markdown",
   "metadata": {},
   "source": [
    "When we plot this we will find that it looks very much like the graph in the article. We just have to play around the facet spacings to make it look continuous like a single bar chart instead of a faceted chart"
   ]
  },
  {
   "cell_type": "code",
   "execution_count": 102,
   "metadata": {},
   "outputs": [
    {
     "data": {
      "text/html": [
       "\n",
       "<div id=\"altair-viz-72b74488b2a44a048e95aed5eeb464e7\"></div>\n",
       "<script type=\"text/javascript\">\n",
       "  (function(spec, embedOpt){\n",
       "    let outputDiv = document.currentScript.previousElementSibling;\n",
       "    if (outputDiv.id !== \"altair-viz-72b74488b2a44a048e95aed5eeb464e7\") {\n",
       "      outputDiv = document.getElementById(\"altair-viz-72b74488b2a44a048e95aed5eeb464e7\");\n",
       "    }\n",
       "    const paths = {\n",
       "      \"vega\": \"https://cdn.jsdelivr.net/npm//vega@5?noext\",\n",
       "      \"vega-lib\": \"https://cdn.jsdelivr.net/npm//vega-lib?noext\",\n",
       "      \"vega-lite\": \"https://cdn.jsdelivr.net/npm//vega-lite@4.8.1?noext\",\n",
       "      \"vega-embed\": \"https://cdn.jsdelivr.net/npm//vega-embed@6?noext\",\n",
       "    };\n",
       "\n",
       "    function loadScript(lib) {\n",
       "      return new Promise(function(resolve, reject) {\n",
       "        var s = document.createElement('script');\n",
       "        s.src = paths[lib];\n",
       "        s.async = true;\n",
       "        s.onload = () => resolve(paths[lib]);\n",
       "        s.onerror = () => reject(`Error loading script: ${paths[lib]}`);\n",
       "        document.getElementsByTagName(\"head\")[0].appendChild(s);\n",
       "      });\n",
       "    }\n",
       "\n",
       "    function showError(err) {\n",
       "      outputDiv.innerHTML = `<div class=\"error\" style=\"color:red;\">${err}</div>`;\n",
       "      throw err;\n",
       "    }\n",
       "\n",
       "    function displayChart(vegaEmbed) {\n",
       "      vegaEmbed(outputDiv, spec, embedOpt)\n",
       "        .catch(err => showError(`Javascript Error: ${err.message}<br>This usually means there's a typo in your chart specification. See the javascript console for the full traceback.`));\n",
       "    }\n",
       "\n",
       "    if(typeof define === \"function\" && define.amd) {\n",
       "      requirejs.config({paths});\n",
       "      require([\"vega-embed\"], displayChart, err => showError(`Error loading script: ${err.message}`));\n",
       "    } else if (typeof vegaEmbed === \"function\") {\n",
       "      displayChart(vegaEmbed);\n",
       "    } else {\n",
       "      loadScript(\"vega\")\n",
       "        .then(() => loadScript(\"vega-lite\"))\n",
       "        .then(() => loadScript(\"vega-embed\"))\n",
       "        .catch(showError)\n",
       "        .then(() => displayChart(vegaEmbed));\n",
       "    }\n",
       "  })({\"config\": {\"view\": {\"continuousWidth\": 400, \"continuousHeight\": 300, \"step\": 5, \"strokeWidth\": 1}, \"axis\": {\"grid\": false}}, \"data\": {\"name\": \"data-804224c7dddca80b0480feebe7f3f6e1\"}, \"mark\": {\"type\": \"bar\", \"width\": 5}, \"encoding\": {\"color\": {\"condition\": {\"value\": \"green\", \"test\": \"(datum.ann_gdp > 0)\"}, \"value\": \"red\"}, \"facet\": {\"type\": \"ordinal\", \"bounds\": \"flush\", \"field\": \"year\", \"header\": {\"labels\": false, \"title\": null}, \"spacing\": {\"column\": 0}}, \"x\": {\"type\": \"ordinal\", \"axis\": {\"labels\": false, \"ticks\": false}, \"field\": \"quarter\", \"title\": null}, \"y\": {\"type\": \"quantitative\", \"field\": \"ann_gdp\"}}, \"$schema\": \"https://vega.github.io/schema/vega-lite/v4.8.1.json\", \"datasets\": {\"data-804224c7dddca80b0480feebe7f3f6e1\": [{\"year\": 1947, \"quarter\": \"Q2\", \"ann_gdp\": -1.0}, {\"year\": 1947, \"quarter\": \"Q3\", \"ann_gdp\": -0.8}, {\"year\": 1947, \"quarter\": \"Q4\", \"ann_gdp\": 6.4}, {\"year\": 1948, \"quarter\": \"Q1\", \"ann_gdp\": 6.2}, {\"year\": 1948, \"quarter\": \"Q2\", \"ann_gdp\": 6.8}, {\"year\": 1948, \"quarter\": \"Q3\", \"ann_gdp\": 2.3}, {\"year\": 1948, \"quarter\": \"Q4\", \"ann_gdp\": 0.4}, {\"year\": 1949, \"quarter\": \"Q1\", \"ann_gdp\": -5.4}, {\"year\": 1949, \"quarter\": \"Q2\", \"ann_gdp\": -1.4}, {\"year\": 1949, \"quarter\": \"Q3\", \"ann_gdp\": 4.2}, {\"year\": 1949, \"quarter\": \"Q4\", \"ann_gdp\": -3.3}, {\"year\": 1950, \"quarter\": \"Q1\", \"ann_gdp\": 16.7}, {\"year\": 1950, \"quarter\": \"Q2\", \"ann_gdp\": 12.8}, {\"year\": 1950, \"quarter\": \"Q3\", \"ann_gdp\": 16.4}, {\"year\": 1950, \"quarter\": \"Q4\", \"ann_gdp\": 7.9}, {\"year\": 1951, \"quarter\": \"Q1\", \"ann_gdp\": 5.5}, {\"year\": 1951, \"quarter\": \"Q2\", \"ann_gdp\": 7.1}, {\"year\": 1951, \"quarter\": \"Q3\", \"ann_gdp\": 8.5}, {\"year\": 1951, \"quarter\": \"Q4\", \"ann_gdp\": 0.9}, {\"year\": 1952, \"quarter\": \"Q1\", \"ann_gdp\": 4.3}, {\"year\": 1952, \"quarter\": \"Q2\", \"ann_gdp\": 0.9}, {\"year\": 1952, \"quarter\": \"Q3\", \"ann_gdp\": 2.9}, {\"year\": 1952, \"quarter\": \"Q4\", \"ann_gdp\": 13.8}, {\"year\": 1953, \"quarter\": \"Q1\", \"ann_gdp\": 7.6}, {\"year\": 1953, \"quarter\": \"Q2\", \"ann_gdp\": 3.1}, {\"year\": 1953, \"quarter\": \"Q3\", \"ann_gdp\": -2.2}, {\"year\": 1953, \"quarter\": \"Q4\", \"ann_gdp\": -5.9}, {\"year\": 1954, \"quarter\": \"Q1\", \"ann_gdp\": -1.9}, {\"year\": 1954, \"quarter\": \"Q2\", \"ann_gdp\": 0.4}, {\"year\": 1954, \"quarter\": \"Q3\", \"ann_gdp\": 4.6}, {\"year\": 1954, \"quarter\": \"Q4\", \"ann_gdp\": 8.1}, {\"year\": 1955, \"quarter\": \"Q1\", \"ann_gdp\": 11.9}, {\"year\": 1955, \"quarter\": \"Q2\", \"ann_gdp\": 6.7}, {\"year\": 1955, \"quarter\": \"Q3\", \"ann_gdp\": 5.5}, {\"year\": 1955, \"quarter\": \"Q4\", \"ann_gdp\": 2.4}, {\"year\": 1956, \"quarter\": \"Q1\", \"ann_gdp\": -1.5}, {\"year\": 1956, \"quarter\": \"Q2\", \"ann_gdp\": 3.3}, {\"year\": 1956, \"quarter\": \"Q3\", \"ann_gdp\": -0.4}, {\"year\": 1956, \"quarter\": \"Q4\", \"ann_gdp\": 6.7}, {\"year\": 1957, \"quarter\": \"Q1\", \"ann_gdp\": 2.6}, {\"year\": 1957, \"quarter\": \"Q2\", \"ann_gdp\": -0.9}, {\"year\": 1957, \"quarter\": \"Q3\", \"ann_gdp\": 4.0}, {\"year\": 1957, \"quarter\": \"Q4\", \"ann_gdp\": -4.1}, {\"year\": 1958, \"quarter\": \"Q1\", \"ann_gdp\": -10.0}, {\"year\": 1958, \"quarter\": \"Q2\", \"ann_gdp\": 2.7}, {\"year\": 1958, \"quarter\": \"Q3\", \"ann_gdp\": 9.6}, {\"year\": 1958, \"quarter\": \"Q4\", \"ann_gdp\": 9.7}, {\"year\": 1959, \"quarter\": \"Q1\", \"ann_gdp\": 7.9}, {\"year\": 1959, \"quarter\": \"Q2\", \"ann_gdp\": 9.3}, {\"year\": 1959, \"quarter\": \"Q3\", \"ann_gdp\": 0.3}, {\"year\": 1959, \"quarter\": \"Q4\", \"ann_gdp\": 1.1}, {\"year\": 1960, \"quarter\": \"Q1\", \"ann_gdp\": 9.3}, {\"year\": 1960, \"quarter\": \"Q2\", \"ann_gdp\": -2.1}, {\"year\": 1960, \"quarter\": \"Q3\", \"ann_gdp\": 2.0}, {\"year\": 1960, \"quarter\": \"Q4\", \"ann_gdp\": -5.0}, {\"year\": 1961, \"quarter\": \"Q1\", \"ann_gdp\": 2.7}, {\"year\": 1961, \"quarter\": \"Q2\", \"ann_gdp\": 7.0}, {\"year\": 1961, \"quarter\": \"Q3\", \"ann_gdp\": 7.9}, {\"year\": 1961, \"quarter\": \"Q4\", \"ann_gdp\": 8.1}, {\"year\": 1962, \"quarter\": \"Q1\", \"ann_gdp\": 7.3}, {\"year\": 1962, \"quarter\": \"Q2\", \"ann_gdp\": 3.7}, {\"year\": 1962, \"quarter\": \"Q3\", \"ann_gdp\": 5.0}, {\"year\": 1962, \"quarter\": \"Q4\", \"ann_gdp\": 1.3}, {\"year\": 1963, \"quarter\": \"Q1\", \"ann_gdp\": 4.4}, {\"year\": 1963, \"quarter\": \"Q2\", \"ann_gdp\": 4.6}, {\"year\": 1963, \"quarter\": \"Q3\", \"ann_gdp\": 9.1}, {\"year\": 1963, \"quarter\": \"Q4\", \"ann_gdp\": 2.6}, {\"year\": 1964, \"quarter\": \"Q1\", \"ann_gdp\": 8.7}, {\"year\": 1964, \"quarter\": \"Q2\", \"ann_gdp\": 4.4}, {\"year\": 1964, \"quarter\": \"Q3\", \"ann_gdp\": 6.4}, {\"year\": 1964, \"quarter\": \"Q4\", \"ann_gdp\": 1.2}, {\"year\": 1965, \"quarter\": \"Q1\", \"ann_gdp\": 10.0}, {\"year\": 1965, \"quarter\": \"Q2\", \"ann_gdp\": 5.1}, {\"year\": 1965, \"quarter\": \"Q3\", \"ann_gdp\": 9.2}, {\"year\": 1965, \"quarter\": \"Q4\", \"ann_gdp\": 9.5}, {\"year\": 1966, \"quarter\": \"Q1\", \"ann_gdp\": 10.1}, {\"year\": 1966, \"quarter\": \"Q2\", \"ann_gdp\": 1.4}, {\"year\": 1966, \"quarter\": \"Q3\", \"ann_gdp\": 3.4}, {\"year\": 1966, \"quarter\": \"Q4\", \"ann_gdp\": 3.3}, {\"year\": 1967, \"quarter\": \"Q1\", \"ann_gdp\": 3.6}, {\"year\": 1967, \"quarter\": \"Q2\", \"ann_gdp\": 0.2}, {\"year\": 1967, \"quarter\": \"Q3\", \"ann_gdp\": 3.8}, {\"year\": 1967, \"quarter\": \"Q4\", \"ann_gdp\": 3.0}, {\"year\": 1968, \"quarter\": \"Q1\", \"ann_gdp\": 8.4}, {\"year\": 1968, \"quarter\": \"Q2\", \"ann_gdp\": 6.9}, {\"year\": 1968, \"quarter\": \"Q3\", \"ann_gdp\": 3.1}, {\"year\": 1968, \"quarter\": \"Q4\", \"ann_gdp\": 1.6}, {\"year\": 1969, \"quarter\": \"Q1\", \"ann_gdp\": 6.4}, {\"year\": 1969, \"quarter\": \"Q2\", \"ann_gdp\": 1.2}, {\"year\": 1969, \"quarter\": \"Q3\", \"ann_gdp\": 2.7}, {\"year\": 1969, \"quarter\": \"Q4\", \"ann_gdp\": -1.9}, {\"year\": 1970, \"quarter\": \"Q1\", \"ann_gdp\": -0.6}, {\"year\": 1970, \"quarter\": \"Q2\", \"ann_gdp\": 0.6}, {\"year\": 1970, \"quarter\": \"Q3\", \"ann_gdp\": 3.7}, {\"year\": 1970, \"quarter\": \"Q4\", \"ann_gdp\": -4.2}, {\"year\": 1971, \"quarter\": \"Q1\", \"ann_gdp\": 11.3}, {\"year\": 1971, \"quarter\": \"Q2\", \"ann_gdp\": 2.2}, {\"year\": 1971, \"quarter\": \"Q3\", \"ann_gdp\": 3.3}, {\"year\": 1971, \"quarter\": \"Q4\", \"ann_gdp\": 0.9}, {\"year\": 1972, \"quarter\": \"Q1\", \"ann_gdp\": 7.6}, {\"year\": 1972, \"quarter\": \"Q2\", \"ann_gdp\": 9.4}, {\"year\": 1972, \"quarter\": \"Q3\", \"ann_gdp\": 3.8}, {\"year\": 1972, \"quarter\": \"Q4\", \"ann_gdp\": 6.9}, {\"year\": 1973, \"quarter\": \"Q1\", \"ann_gdp\": 10.3}, {\"year\": 1973, \"quarter\": \"Q2\", \"ann_gdp\": 4.4}, {\"year\": 1973, \"quarter\": \"Q3\", \"ann_gdp\": -2.1}, {\"year\": 1973, \"quarter\": \"Q4\", \"ann_gdp\": 3.8}, {\"year\": 1974, \"quarter\": \"Q1\", \"ann_gdp\": -3.4}, {\"year\": 1974, \"quarter\": \"Q2\", \"ann_gdp\": 1.0}, {\"year\": 1974, \"quarter\": \"Q3\", \"ann_gdp\": -3.7}, {\"year\": 1974, \"quarter\": \"Q4\", \"ann_gdp\": -1.5}, {\"year\": 1975, \"quarter\": \"Q1\", \"ann_gdp\": -4.8}, {\"year\": 1975, \"quarter\": \"Q2\", \"ann_gdp\": 2.9}, {\"year\": 1975, \"quarter\": \"Q3\", \"ann_gdp\": 7.0}, {\"year\": 1975, \"quarter\": \"Q4\", \"ann_gdp\": 5.5}, {\"year\": 1976, \"quarter\": \"Q1\", \"ann_gdp\": 9.3}, {\"year\": 1976, \"quarter\": \"Q2\", \"ann_gdp\": 3.0}, {\"year\": 1976, \"quarter\": \"Q3\", \"ann_gdp\": 2.2}, {\"year\": 1976, \"quarter\": \"Q4\", \"ann_gdp\": 2.9}, {\"year\": 1977, \"quarter\": \"Q1\", \"ann_gdp\": 4.8}, {\"year\": 1977, \"quarter\": \"Q2\", \"ann_gdp\": 8.0}, {\"year\": 1977, \"quarter\": \"Q3\", \"ann_gdp\": 7.4}, {\"year\": 1977, \"quarter\": \"Q4\", \"ann_gdp\": 0.0}, {\"year\": 1978, \"quarter\": \"Q1\", \"ann_gdp\": 1.3}, {\"year\": 1978, \"quarter\": \"Q2\", \"ann_gdp\": 16.4}, {\"year\": 1978, \"quarter\": \"Q3\", \"ann_gdp\": 4.1}, {\"year\": 1978, \"quarter\": \"Q4\", \"ann_gdp\": 5.5}, {\"year\": 1979, \"quarter\": \"Q1\", \"ann_gdp\": 0.7}, {\"year\": 1979, \"quarter\": \"Q2\", \"ann_gdp\": 0.4}, {\"year\": 1979, \"quarter\": \"Q3\", \"ann_gdp\": 3.0}, {\"year\": 1979, \"quarter\": \"Q4\", \"ann_gdp\": 1.0}, {\"year\": 1980, \"quarter\": \"Q1\", \"ann_gdp\": 1.3}, {\"year\": 1980, \"quarter\": \"Q2\", \"ann_gdp\": -8.0}, {\"year\": 1980, \"quarter\": \"Q3\", \"ann_gdp\": -0.5}, {\"year\": 1980, \"quarter\": \"Q4\", \"ann_gdp\": 7.7}, {\"year\": 1981, \"quarter\": \"Q1\", \"ann_gdp\": 8.1}, {\"year\": 1981, \"quarter\": \"Q2\", \"ann_gdp\": -2.9}, {\"year\": 1981, \"quarter\": \"Q3\", \"ann_gdp\": 4.9}, {\"year\": 1981, \"quarter\": \"Q4\", \"ann_gdp\": -4.3}, {\"year\": 1982, \"quarter\": \"Q1\", \"ann_gdp\": -6.1}, {\"year\": 1982, \"quarter\": \"Q2\", \"ann_gdp\": 1.8}, {\"year\": 1982, \"quarter\": \"Q3\", \"ann_gdp\": -1.5}, {\"year\": 1982, \"quarter\": \"Q4\", \"ann_gdp\": 0.2}, {\"year\": 1983, \"quarter\": \"Q1\", \"ann_gdp\": 5.4}, {\"year\": 1983, \"quarter\": \"Q2\", \"ann_gdp\": 9.4}, {\"year\": 1983, \"quarter\": \"Q3\", \"ann_gdp\": 8.2}, {\"year\": 1983, \"quarter\": \"Q4\", \"ann_gdp\": 8.6}, {\"year\": 1984, \"quarter\": \"Q1\", \"ann_gdp\": 8.1}, {\"year\": 1984, \"quarter\": \"Q2\", \"ann_gdp\": 7.1}, {\"year\": 1984, \"quarter\": \"Q3\", \"ann_gdp\": 3.9}, {\"year\": 1984, \"quarter\": \"Q4\", \"ann_gdp\": 3.3}, {\"year\": 1985, \"quarter\": \"Q1\", \"ann_gdp\": 3.9}, {\"year\": 1985, \"quarter\": \"Q2\", \"ann_gdp\": 3.6}, {\"year\": 1985, \"quarter\": \"Q3\", \"ann_gdp\": 6.2}, {\"year\": 1985, \"quarter\": \"Q4\", \"ann_gdp\": 3.0}, {\"year\": 1986, \"quarter\": \"Q1\", \"ann_gdp\": 3.8}, {\"year\": 1986, \"quarter\": \"Q2\", \"ann_gdp\": 1.8}, {\"year\": 1986, \"quarter\": \"Q3\", \"ann_gdp\": 3.9}, {\"year\": 1986, \"quarter\": \"Q4\", \"ann_gdp\": 2.2}, {\"year\": 1987, \"quarter\": \"Q1\", \"ann_gdp\": 3.0}, {\"year\": 1987, \"quarter\": \"Q2\", \"ann_gdp\": 4.4}, {\"year\": 1987, \"quarter\": \"Q3\", \"ann_gdp\": 3.5}, {\"year\": 1987, \"quarter\": \"Q4\", \"ann_gdp\": 7.0}, {\"year\": 1988, \"quarter\": \"Q1\", \"ann_gdp\": 2.1}, {\"year\": 1988, \"quarter\": \"Q2\", \"ann_gdp\": 5.4}, {\"year\": 1988, \"quarter\": \"Q3\", \"ann_gdp\": 2.4}, {\"year\": 1988, \"quarter\": \"Q4\", \"ann_gdp\": 5.4}, {\"year\": 1989, \"quarter\": \"Q1\", \"ann_gdp\": 4.1}, {\"year\": 1989, \"quarter\": \"Q2\", \"ann_gdp\": 3.1}, {\"year\": 1989, \"quarter\": \"Q3\", \"ann_gdp\": 3.0}, {\"year\": 1989, \"quarter\": \"Q4\", \"ann_gdp\": 0.8}, {\"year\": 1990, \"quarter\": \"Q1\", \"ann_gdp\": 4.4}, {\"year\": 1990, \"quarter\": \"Q2\", \"ann_gdp\": 1.5}, {\"year\": 1990, \"quarter\": \"Q3\", \"ann_gdp\": 0.3}, {\"year\": 1990, \"quarter\": \"Q4\", \"ann_gdp\": -3.6}, {\"year\": 1991, \"quarter\": \"Q1\", \"ann_gdp\": -1.9}, {\"year\": 1991, \"quarter\": \"Q2\", \"ann_gdp\": 3.2}, {\"year\": 1991, \"quarter\": \"Q3\", \"ann_gdp\": 2.0}, {\"year\": 1991, \"quarter\": \"Q4\", \"ann_gdp\": 1.4}, {\"year\": 1992, \"quarter\": \"Q1\", \"ann_gdp\": 4.9}, {\"year\": 1992, \"quarter\": \"Q2\", \"ann_gdp\": 4.4}, {\"year\": 1992, \"quarter\": \"Q3\", \"ann_gdp\": 4.0}, {\"year\": 1992, \"quarter\": \"Q4\", \"ann_gdp\": 4.2}, {\"year\": 1993, \"quarter\": \"Q1\", \"ann_gdp\": 0.7}, {\"year\": 1993, \"quarter\": \"Q2\", \"ann_gdp\": 2.3}, {\"year\": 1993, \"quarter\": \"Q3\", \"ann_gdp\": 1.9}, {\"year\": 1993, \"quarter\": \"Q4\", \"ann_gdp\": 5.6}, {\"year\": 1994, \"quarter\": \"Q1\", \"ann_gdp\": 3.9}, {\"year\": 1994, \"quarter\": \"Q2\", \"ann_gdp\": 5.5}, {\"year\": 1994, \"quarter\": \"Q3\", \"ann_gdp\": 2.4}, {\"year\": 1994, \"quarter\": \"Q4\", \"ann_gdp\": 4.7}, {\"year\": 1995, \"quarter\": \"Q1\", \"ann_gdp\": 1.4}, {\"year\": 1995, \"quarter\": \"Q2\", \"ann_gdp\": 1.2}, {\"year\": 1995, \"quarter\": \"Q3\", \"ann_gdp\": 3.5}, {\"year\": 1995, \"quarter\": \"Q4\", \"ann_gdp\": 2.7}, {\"year\": 1996, \"quarter\": \"Q1\", \"ann_gdp\": 3.0}, {\"year\": 1996, \"quarter\": \"Q2\", \"ann_gdp\": 6.8}, {\"year\": 1996, \"quarter\": \"Q3\", \"ann_gdp\": 3.6}, {\"year\": 1996, \"quarter\": \"Q4\", \"ann_gdp\": 4.2}, {\"year\": 1997, \"quarter\": \"Q1\", \"ann_gdp\": 2.6}, {\"year\": 1997, \"quarter\": \"Q2\", \"ann_gdp\": 6.8}, {\"year\": 1997, \"quarter\": \"Q3\", \"ann_gdp\": 5.1}, {\"year\": 1997, \"quarter\": \"Q4\", \"ann_gdp\": 3.5}, {\"year\": 1998, \"quarter\": \"Q1\", \"ann_gdp\": 4.1}, {\"year\": 1998, \"quarter\": \"Q2\", \"ann_gdp\": 3.8}, {\"year\": 1998, \"quarter\": \"Q3\", \"ann_gdp\": 5.1}, {\"year\": 1998, \"quarter\": \"Q4\", \"ann_gdp\": 6.6}, {\"year\": 1999, \"quarter\": \"Q1\", \"ann_gdp\": 3.8}, {\"year\": 1999, \"quarter\": \"Q2\", \"ann_gdp\": 3.1}, {\"year\": 1999, \"quarter\": \"Q3\", \"ann_gdp\": 5.3}, {\"year\": 1999, \"quarter\": \"Q4\", \"ann_gdp\": 7.0}, {\"year\": 2000, \"quarter\": \"Q1\", \"ann_gdp\": 1.5}, {\"year\": 2000, \"quarter\": \"Q2\", \"ann_gdp\": 7.5}, {\"year\": 2000, \"quarter\": \"Q3\", \"ann_gdp\": 0.5}, {\"year\": 2000, \"quarter\": \"Q4\", \"ann_gdp\": 2.5}, {\"year\": 2001, \"quarter\": \"Q1\", \"ann_gdp\": -1.1}, {\"year\": 2001, \"quarter\": \"Q2\", \"ann_gdp\": 2.4}, {\"year\": 2001, \"quarter\": \"Q3\", \"ann_gdp\": -1.7}, {\"year\": 2001, \"quarter\": \"Q4\", \"ann_gdp\": 1.1}, {\"year\": 2002, \"quarter\": \"Q1\", \"ann_gdp\": 3.5}, {\"year\": 2002, \"quarter\": \"Q2\", \"ann_gdp\": 2.4}, {\"year\": 2002, \"quarter\": \"Q3\", \"ann_gdp\": 1.8}, {\"year\": 2002, \"quarter\": \"Q4\", \"ann_gdp\": 0.6}, {\"year\": 2003, \"quarter\": \"Q1\", \"ann_gdp\": 2.2}, {\"year\": 2003, \"quarter\": \"Q2\", \"ann_gdp\": 3.5}, {\"year\": 2003, \"quarter\": \"Q3\", \"ann_gdp\": 7.0}, {\"year\": 2003, \"quarter\": \"Q4\", \"ann_gdp\": 4.7}, {\"year\": 2004, \"quarter\": \"Q1\", \"ann_gdp\": 2.2}, {\"year\": 2004, \"quarter\": \"Q2\", \"ann_gdp\": 3.1}, {\"year\": 2004, \"quarter\": \"Q3\", \"ann_gdp\": 3.8}, {\"year\": 2004, \"quarter\": \"Q4\", \"ann_gdp\": 4.1}, {\"year\": 2005, \"quarter\": \"Q1\", \"ann_gdp\": 4.5}, {\"year\": 2005, \"quarter\": \"Q2\", \"ann_gdp\": 1.9}, {\"year\": 2005, \"quarter\": \"Q3\", \"ann_gdp\": 3.6}, {\"year\": 2005, \"quarter\": \"Q4\", \"ann_gdp\": 2.6}, {\"year\": 2006, \"quarter\": \"Q1\", \"ann_gdp\": 5.4}, {\"year\": 2006, \"quarter\": \"Q2\", \"ann_gdp\": 0.9}, {\"year\": 2006, \"quarter\": \"Q3\", \"ann_gdp\": 0.6}, {\"year\": 2006, \"quarter\": \"Q4\", \"ann_gdp\": 3.5}, {\"year\": 2007, \"quarter\": \"Q1\", \"ann_gdp\": 0.9}, {\"year\": 2007, \"quarter\": \"Q2\", \"ann_gdp\": 2.3}, {\"year\": 2007, \"quarter\": \"Q3\", \"ann_gdp\": 2.2}, {\"year\": 2007, \"quarter\": \"Q4\", \"ann_gdp\": 2.5}, {\"year\": 2008, \"quarter\": \"Q1\", \"ann_gdp\": -2.3}, {\"year\": 2008, \"quarter\": \"Q2\", \"ann_gdp\": 2.1}, {\"year\": 2008, \"quarter\": \"Q3\", \"ann_gdp\": -2.1}, {\"year\": 2008, \"quarter\": \"Q4\", \"ann_gdp\": -8.4}, {\"year\": 2009, \"quarter\": \"Q1\", \"ann_gdp\": -4.4}, {\"year\": 2009, \"quarter\": \"Q2\", \"ann_gdp\": -0.6}, {\"year\": 2009, \"quarter\": \"Q3\", \"ann_gdp\": 1.5}, {\"year\": 2009, \"quarter\": \"Q4\", \"ann_gdp\": 4.5}, {\"year\": 2010, \"quarter\": \"Q1\", \"ann_gdp\": 1.5}, {\"year\": 2010, \"quarter\": \"Q2\", \"ann_gdp\": 3.7}, {\"year\": 2010, \"quarter\": \"Q3\", \"ann_gdp\": 3.0}, {\"year\": 2010, \"quarter\": \"Q4\", \"ann_gdp\": 2.0}, {\"year\": 2011, \"quarter\": \"Q1\", \"ann_gdp\": -1.0}, {\"year\": 2011, \"quarter\": \"Q2\", \"ann_gdp\": 2.9}, {\"year\": 2011, \"quarter\": \"Q3\", \"ann_gdp\": -0.1}, {\"year\": 2011, \"quarter\": \"Q4\", \"ann_gdp\": 4.7}, {\"year\": 2012, \"quarter\": \"Q1\", \"ann_gdp\": 3.2}, {\"year\": 2012, \"quarter\": \"Q2\", \"ann_gdp\": 1.7}, {\"year\": 2012, \"quarter\": \"Q3\", \"ann_gdp\": 0.5}, {\"year\": 2012, \"quarter\": \"Q4\", \"ann_gdp\": 0.5}, {\"year\": 2013, \"quarter\": \"Q1\", \"ann_gdp\": 3.6}, {\"year\": 2013, \"quarter\": \"Q2\", \"ann_gdp\": 0.5}, {\"year\": 2013, \"quarter\": \"Q3\", \"ann_gdp\": 3.2}, {\"year\": 2013, \"quarter\": \"Q4\", \"ann_gdp\": 3.2}, {\"year\": 2014, \"quarter\": \"Q1\", \"ann_gdp\": -1.1}, {\"year\": 2014, \"quarter\": \"Q2\", \"ann_gdp\": 5.5}, {\"year\": 2014, \"quarter\": \"Q3\", \"ann_gdp\": 5.0}, {\"year\": 2014, \"quarter\": \"Q4\", \"ann_gdp\": 2.3}, {\"year\": 2015, \"quarter\": \"Q1\", \"ann_gdp\": 3.8}, {\"year\": 2015, \"quarter\": \"Q2\", \"ann_gdp\": 2.7}, {\"year\": 2015, \"quarter\": \"Q3\", \"ann_gdp\": 1.5}, {\"year\": 2015, \"quarter\": \"Q4\", \"ann_gdp\": 0.6}, {\"year\": 2016, \"quarter\": \"Q1\", \"ann_gdp\": 2.3}, {\"year\": 2016, \"quarter\": \"Q2\", \"ann_gdp\": 1.3}, {\"year\": 2016, \"quarter\": \"Q3\", \"ann_gdp\": 2.2}, {\"year\": 2016, \"quarter\": \"Q4\", \"ann_gdp\": 2.5}, {\"year\": 2017, \"quarter\": \"Q1\", \"ann_gdp\": 2.3}, {\"year\": 2017, \"quarter\": \"Q2\", \"ann_gdp\": 1.7}, {\"year\": 2017, \"quarter\": \"Q3\", \"ann_gdp\": 2.9}, {\"year\": 2017, \"quarter\": \"Q4\", \"ann_gdp\": 3.9}, {\"year\": 2018, \"quarter\": \"Q1\", \"ann_gdp\": 3.8}, {\"year\": 2018, \"quarter\": \"Q2\", \"ann_gdp\": 2.7}, {\"year\": 2018, \"quarter\": \"Q3\", \"ann_gdp\": 2.1}, {\"year\": 2018, \"quarter\": \"Q4\", \"ann_gdp\": 1.3}, {\"year\": 2019, \"quarter\": \"Q1\", \"ann_gdp\": 2.9}, {\"year\": 2019, \"quarter\": \"Q2\", \"ann_gdp\": 1.5}, {\"year\": 2019, \"quarter\": \"Q3\", \"ann_gdp\": 2.6}, {\"year\": 2019, \"quarter\": \"Q4\", \"ann_gdp\": 2.4}, {\"year\": 2020, \"quarter\": \"Q1\", \"ann_gdp\": -5.0}, {\"year\": 2020, \"quarter\": \"Q2\", \"ann_gdp\": -32.9}]}}, {\"actions\": false, \"mode\": \"vega-lite\"});\n",
       "</script>"
      ],
      "text/plain": [
       "alt.Chart(...)"
      ]
     },
     "execution_count": 102,
     "metadata": {},
     "output_type": "execute_result"
    }
   ],
   "source": [
    "alt.Chart(ann_gdp).mark_bar(width=5).encode(\n",
    "    x=alt.X('quarter:O', title=None, axis=alt.Axis(labels=False, ticks=False)),\n",
    "    y='ann_gdp:Q',\n",
    "    facet=alt.Facet('year:O', bounds='flush', spacing={'column':0}, header=alt.Header(labels=False, title=None)),\n",
    "    #detail='quarter:N',\n",
    "    color=alt.condition(alt.datum.ann_gdp > 0, alt.value('green'), alt.value('red'))\n",
    ").configure_axis(grid=False).configure_view(strokeWidth=1, step=5)"
   ]
  },
  {
   "cell_type": "markdown",
   "metadata": {},
   "source": [
    "### Real GDP"
   ]
  },
  {
   "cell_type": "markdown",
   "metadata": {},
   "source": [
    "The chart you see above is the annualized GDP which suggests that the US economy will shrink by a third if things stay exactly like the way they are now. Which is certainly not representative of current times.\n",
    "Fortunately the BEA also provides the Real GDP as Quantity Index units. If you apply the formaula to that data you get the data above i.e Table 1.1.1. Real GDP is a transformed version of nominal GDP\n",
    "Let's chart Table "
   ]
  },
  {
   "cell_type": "markdown",
   "metadata": {},
   "source": [
    "Nominal GDP is reported as billions or trillions of dollars"
   ]
  },
  {
   "cell_type": "code",
   "execution_count": 103,
   "metadata": {},
   "outputs": [
    {
     "name": "stdout",
     "output_type": "stream",
     "text": [
      "After function read_transpose_gdp_data ran, shape of dataframe is - (294, 28), execution time is - 0:00:00.066090\n",
      "After function clean_gdp_data ran, shape of dataframe is - (294, 3), execution time is - 0:00:00.004825\n",
      "After function rename_cols ran, shape of dataframe is - (294, 3), execution time is - 0:00:00.000353\n"
     ]
    },
    {
     "data": {
      "text/html": [
       "<div>\n",
       "<style scoped>\n",
       "    .dataframe tbody tr th:only-of-type {\n",
       "        vertical-align: middle;\n",
       "    }\n",
       "\n",
       "    .dataframe tbody tr th {\n",
       "        vertical-align: top;\n",
       "    }\n",
       "\n",
       "    .dataframe thead th {\n",
       "        text-align: right;\n",
       "    }\n",
       "</style>\n",
       "<table border=\"1\" class=\"dataframe\">\n",
       "  <thead>\n",
       "    <tr style=\"text-align: right;\">\n",
       "      <th></th>\n",
       "      <th>year</th>\n",
       "      <th>quarter</th>\n",
       "      <th>real_gdp</th>\n",
       "    </tr>\n",
       "  </thead>\n",
       "  <tbody>\n",
       "    <tr>\n",
       "      <th>0</th>\n",
       "      <td>1947</td>\n",
       "      <td>Q1</td>\n",
       "      <td>12.552</td>\n",
       "    </tr>\n",
       "    <tr>\n",
       "      <th>1</th>\n",
       "      <td>1947</td>\n",
       "      <td>Q2</td>\n",
       "      <td>12.519</td>\n",
       "    </tr>\n",
       "    <tr>\n",
       "      <th>2</th>\n",
       "      <td>1947</td>\n",
       "      <td>Q3</td>\n",
       "      <td>12.493</td>\n",
       "    </tr>\n",
       "    <tr>\n",
       "      <th>3</th>\n",
       "      <td>1947</td>\n",
       "      <td>Q4</td>\n",
       "      <td>12.688</td>\n",
       "    </tr>\n",
       "    <tr>\n",
       "      <th>4</th>\n",
       "      <td>1948</td>\n",
       "      <td>Q1</td>\n",
       "      <td>12.879</td>\n",
       "    </tr>\n",
       "  </tbody>\n",
       "</table>\n",
       "</div>"
      ],
      "text/plain": [
       "   year quarter  real_gdp\n",
       "0  1947      Q1    12.552\n",
       "1  1947      Q2    12.519\n",
       "2  1947      Q3    12.493\n",
       "3  1947      Q4    12.688\n",
       "4  1948      Q1    12.879"
      ]
     },
     "execution_count": 103,
     "metadata": {},
     "output_type": "execute_result"
    }
   ],
   "source": [
    "re_gdp = (read_transpose_gdp_data(path='us_gdp.csv', if_uri=False)\n",
    "           .pipe(clean_gdp_data)\n",
    "           .pipe(rename_cols, col_dict={'Gross domestic product': 'real_gdp'}))\n",
    "\n",
    "re_gdp.head()"
   ]
  },
  {
   "cell_type": "markdown",
   "metadata": {},
   "source": [
    "Plotting this we will see how GDP has increased over the years -"
   ]
  },
  {
   "cell_type": "code",
   "execution_count": 105,
   "metadata": {},
   "outputs": [
    {
     "data": {
      "text/html": [
       "\n",
       "<div id=\"altair-viz-84171a61d83b4649965e8a5fbc7acf95\"></div>\n",
       "<script type=\"text/javascript\">\n",
       "  (function(spec, embedOpt){\n",
       "    let outputDiv = document.currentScript.previousElementSibling;\n",
       "    if (outputDiv.id !== \"altair-viz-84171a61d83b4649965e8a5fbc7acf95\") {\n",
       "      outputDiv = document.getElementById(\"altair-viz-84171a61d83b4649965e8a5fbc7acf95\");\n",
       "    }\n",
       "    const paths = {\n",
       "      \"vega\": \"https://cdn.jsdelivr.net/npm//vega@5?noext\",\n",
       "      \"vega-lib\": \"https://cdn.jsdelivr.net/npm//vega-lib?noext\",\n",
       "      \"vega-lite\": \"https://cdn.jsdelivr.net/npm//vega-lite@4.8.1?noext\",\n",
       "      \"vega-embed\": \"https://cdn.jsdelivr.net/npm//vega-embed@6?noext\",\n",
       "    };\n",
       "\n",
       "    function loadScript(lib) {\n",
       "      return new Promise(function(resolve, reject) {\n",
       "        var s = document.createElement('script');\n",
       "        s.src = paths[lib];\n",
       "        s.async = true;\n",
       "        s.onload = () => resolve(paths[lib]);\n",
       "        s.onerror = () => reject(`Error loading script: ${paths[lib]}`);\n",
       "        document.getElementsByTagName(\"head\")[0].appendChild(s);\n",
       "      });\n",
       "    }\n",
       "\n",
       "    function showError(err) {\n",
       "      outputDiv.innerHTML = `<div class=\"error\" style=\"color:red;\">${err}</div>`;\n",
       "      throw err;\n",
       "    }\n",
       "\n",
       "    function displayChart(vegaEmbed) {\n",
       "      vegaEmbed(outputDiv, spec, embedOpt)\n",
       "        .catch(err => showError(`Javascript Error: ${err.message}<br>This usually means there's a typo in your chart specification. See the javascript console for the full traceback.`));\n",
       "    }\n",
       "\n",
       "    if(typeof define === \"function\" && define.amd) {\n",
       "      requirejs.config({paths});\n",
       "      require([\"vega-embed\"], displayChart, err => showError(`Error loading script: ${err.message}`));\n",
       "    } else if (typeof vegaEmbed === \"function\") {\n",
       "      displayChart(vegaEmbed);\n",
       "    } else {\n",
       "      loadScript(\"vega\")\n",
       "        .then(() => loadScript(\"vega-lite\"))\n",
       "        .then(() => loadScript(\"vega-embed\"))\n",
       "        .catch(showError)\n",
       "        .then(() => displayChart(vegaEmbed));\n",
       "    }\n",
       "  })({\"config\": {\"view\": {\"continuousWidth\": 400, \"continuousHeight\": 300, \"step\": 4, \"strokeWidth\": 0}}, \"data\": {\"name\": \"data-f6d6dba304c9a198d41e9b1b7bf73ec7\"}, \"mark\": {\"type\": \"bar\", \"width\": 3.25}, \"encoding\": {\"column\": {\"type\": \"ordinal\", \"field\": \"year\", \"header\": {\"labels\": false, \"title\": null}, \"spacing\": 0}, \"x\": {\"type\": \"ordinal\", \"axis\": {\"labels\": false, \"ticks\": false}, \"field\": \"quarter\", \"title\": null}, \"y\": {\"type\": \"quantitative\", \"field\": \"real_gdp\"}}, \"$schema\": \"https://vega.github.io/schema/vega-lite/v4.8.1.json\", \"datasets\": {\"data-f6d6dba304c9a198d41e9b1b7bf73ec7\": [{\"year\": 1947, \"quarter\": \"Q1\", \"real_gdp\": 12.552}, {\"year\": 1947, \"quarter\": \"Q2\", \"real_gdp\": 12.519}, {\"year\": 1947, \"quarter\": \"Q3\", \"real_gdp\": 12.493}, {\"year\": 1947, \"quarter\": \"Q4\", \"real_gdp\": 12.688}, {\"year\": 1948, \"quarter\": \"Q1\", \"real_gdp\": 12.879}, {\"year\": 1948, \"quarter\": \"Q2\", \"real_gdp\": 13.092}, {\"year\": 1948, \"quarter\": \"Q3\", \"real_gdp\": 13.167}, {\"year\": 1948, \"quarter\": \"Q4\", \"real_gdp\": 13.181}, {\"year\": 1949, \"quarter\": \"Q1\", \"real_gdp\": 13.0}, {\"year\": 1949, \"quarter\": \"Q2\", \"real_gdp\": 12.955}, {\"year\": 1949, \"quarter\": \"Q3\", \"real_gdp\": 13.089}, {\"year\": 1949, \"quarter\": \"Q4\", \"real_gdp\": 12.979}, {\"year\": 1950, \"quarter\": \"Q1\", \"real_gdp\": 13.489}, {\"year\": 1950, \"quarter\": \"Q2\", \"real_gdp\": 13.901}, {\"year\": 1950, \"quarter\": \"Q3\", \"real_gdp\": 14.438}, {\"year\": 1950, \"quarter\": \"Q4\", \"real_gdp\": 14.714}, {\"year\": 1951, \"quarter\": \"Q1\", \"real_gdp\": 14.914}, {\"year\": 1951, \"quarter\": \"Q2\", \"real_gdp\": 15.173}, {\"year\": 1951, \"quarter\": \"Q3\", \"real_gdp\": 15.485}, {\"year\": 1951, \"quarter\": \"Q4\", \"real_gdp\": 15.519}, {\"year\": 1952, \"quarter\": \"Q1\", \"real_gdp\": 15.685}, {\"year\": 1952, \"quarter\": \"Q2\", \"real_gdp\": 15.719}, {\"year\": 1952, \"quarter\": \"Q3\", \"real_gdp\": 15.833}, {\"year\": 1952, \"quarter\": \"Q4\", \"real_gdp\": 16.353}, {\"year\": 1953, \"quarter\": \"Q1\", \"real_gdp\": 16.657}, {\"year\": 1953, \"quarter\": \"Q2\", \"real_gdp\": 16.785}, {\"year\": 1953, \"quarter\": \"Q3\", \"real_gdp\": 16.691}, {\"year\": 1953, \"quarter\": \"Q4\", \"real_gdp\": 16.438}, {\"year\": 1954, \"quarter\": \"Q1\", \"real_gdp\": 16.36}, {\"year\": 1954, \"quarter\": \"Q2\", \"real_gdp\": 16.377}, {\"year\": 1954, \"quarter\": \"Q3\", \"real_gdp\": 16.562}, {\"year\": 1954, \"quarter\": \"Q4\", \"real_gdp\": 16.886}, {\"year\": 1955, \"quarter\": \"Q1\", \"real_gdp\": 17.369}, {\"year\": 1955, \"quarter\": \"Q2\", \"real_gdp\": 17.651}, {\"year\": 1955, \"quarter\": \"Q3\", \"real_gdp\": 17.89}, {\"year\": 1955, \"quarter\": \"Q4\", \"real_gdp\": 17.997}, {\"year\": 1956, \"quarter\": \"Q1\", \"real_gdp\": 17.927}, {\"year\": 1956, \"quarter\": \"Q2\", \"real_gdp\": 18.075}, {\"year\": 1956, \"quarter\": \"Q3\", \"real_gdp\": 18.059}, {\"year\": 1956, \"quarter\": \"Q4\", \"real_gdp\": 18.356}, {\"year\": 1957, \"quarter\": \"Q1\", \"real_gdp\": 18.474}, {\"year\": 1957, \"quarter\": \"Q2\", \"real_gdp\": 18.433}, {\"year\": 1957, \"quarter\": \"Q3\", \"real_gdp\": 18.614}, {\"year\": 1957, \"quarter\": \"Q4\", \"real_gdp\": 18.421}, {\"year\": 1958, \"quarter\": \"Q1\", \"real_gdp\": 17.943}, {\"year\": 1958, \"quarter\": \"Q2\", \"real_gdp\": 18.061}, {\"year\": 1958, \"quarter\": \"Q3\", \"real_gdp\": 18.479}, {\"year\": 1958, \"quarter\": \"Q4\", \"real_gdp\": 18.911}, {\"year\": 1959, \"quarter\": \"Q1\", \"real_gdp\": 19.275}, {\"year\": 1959, \"quarter\": \"Q2\", \"real_gdp\": 19.71}, {\"year\": 1959, \"quarter\": \"Q3\", \"real_gdp\": 19.724}, {\"year\": 1959, \"quarter\": \"Q4\", \"real_gdp\": 19.78}, {\"year\": 1960, \"quarter\": \"Q1\", \"real_gdp\": 20.224}, {\"year\": 1960, \"quarter\": \"Q2\", \"real_gdp\": 20.115}, {\"year\": 1960, \"quarter\": \"Q3\", \"real_gdp\": 20.214}, {\"year\": 1960, \"quarter\": \"Q4\", \"real_gdp\": 19.954}, {\"year\": 1961, \"quarter\": \"Q1\", \"real_gdp\": 20.089}, {\"year\": 1961, \"quarter\": \"Q2\", \"real_gdp\": 20.43}, {\"year\": 1961, \"quarter\": \"Q3\", \"real_gdp\": 20.822}, {\"year\": 1961, \"quarter\": \"Q4\", \"real_gdp\": 21.231}, {\"year\": 1962, \"quarter\": \"Q1\", \"real_gdp\": 21.609}, {\"year\": 1962, \"quarter\": \"Q2\", \"real_gdp\": 21.805}, {\"year\": 1962, \"quarter\": \"Q3\", \"real_gdp\": 22.072}, {\"year\": 1962, \"quarter\": \"Q4\", \"real_gdp\": 22.145}, {\"year\": 1963, \"quarter\": \"Q1\", \"real_gdp\": 22.387}, {\"year\": 1963, \"quarter\": \"Q2\", \"real_gdp\": 22.638}, {\"year\": 1963, \"quarter\": \"Q3\", \"real_gdp\": 23.136}, {\"year\": 1963, \"quarter\": \"Q4\", \"real_gdp\": 23.287}, {\"year\": 1964, \"quarter\": \"Q1\", \"real_gdp\": 23.778}, {\"year\": 1964, \"quarter\": \"Q2\", \"real_gdp\": 24.037}, {\"year\": 1964, \"quarter\": \"Q3\", \"real_gdp\": 24.413}, {\"year\": 1964, \"quarter\": \"Q4\", \"real_gdp\": 24.488}, {\"year\": 1965, \"quarter\": \"Q1\", \"real_gdp\": 25.081}, {\"year\": 1965, \"quarter\": \"Q2\", \"real_gdp\": 25.397}, {\"year\": 1965, \"quarter\": \"Q3\", \"real_gdp\": 25.962}, {\"year\": 1965, \"quarter\": \"Q4\", \"real_gdp\": 26.56}, {\"year\": 1966, \"quarter\": \"Q1\", \"real_gdp\": 27.207}, {\"year\": 1966, \"quarter\": \"Q2\", \"real_gdp\": 27.3}, {\"year\": 1966, \"quarter\": \"Q3\", \"real_gdp\": 27.531}, {\"year\": 1966, \"quarter\": \"Q4\", \"real_gdp\": 27.757}, {\"year\": 1967, \"quarter\": \"Q1\", \"real_gdp\": 28.003}, {\"year\": 1967, \"quarter\": \"Q2\", \"real_gdp\": 28.02}, {\"year\": 1967, \"quarter\": \"Q3\", \"real_gdp\": 28.285}, {\"year\": 1967, \"quarter\": \"Q4\", \"real_gdp\": 28.498}, {\"year\": 1968, \"quarter\": \"Q1\", \"real_gdp\": 29.079}, {\"year\": 1968, \"quarter\": \"Q2\", \"real_gdp\": 29.565}, {\"year\": 1968, \"quarter\": \"Q3\", \"real_gdp\": 29.794}, {\"year\": 1968, \"quarter\": \"Q4\", \"real_gdp\": 29.912}, {\"year\": 1969, \"quarter\": \"Q1\", \"real_gdp\": 30.38}, {\"year\": 1969, \"quarter\": \"Q2\", \"real_gdp\": 30.472}, {\"year\": 1969, \"quarter\": \"Q3\", \"real_gdp\": 30.673}, {\"year\": 1969, \"quarter\": \"Q4\", \"real_gdp\": 30.524}, {\"year\": 1970, \"quarter\": \"Q1\", \"real_gdp\": 30.478}, {\"year\": 1970, \"quarter\": \"Q2\", \"real_gdp\": 30.522}, {\"year\": 1970, \"quarter\": \"Q3\", \"real_gdp\": 30.803}, {\"year\": 1970, \"quarter\": \"Q4\", \"real_gdp\": 30.473}, {\"year\": 1971, \"quarter\": \"Q1\", \"real_gdp\": 31.301}, {\"year\": 1971, \"quarter\": \"Q2\", \"real_gdp\": 31.47}, {\"year\": 1971, \"quarter\": \"Q3\", \"real_gdp\": 31.729}, {\"year\": 1971, \"quarter\": \"Q4\", \"real_gdp\": 31.804}, {\"year\": 1972, \"quarter\": \"Q1\", \"real_gdp\": 32.389}, {\"year\": 1972, \"quarter\": \"Q2\", \"real_gdp\": 33.124}, {\"year\": 1972, \"quarter\": \"Q3\", \"real_gdp\": 33.436}, {\"year\": 1972, \"quarter\": \"Q4\", \"real_gdp\": 33.996}, {\"year\": 1973, \"quarter\": \"Q1\", \"real_gdp\": 34.838}, {\"year\": 1973, \"quarter\": \"Q2\", \"real_gdp\": 35.217}, {\"year\": 1973, \"quarter\": \"Q3\", \"real_gdp\": 35.032}, {\"year\": 1973, \"quarter\": \"Q4\", \"real_gdp\": 35.364}, {\"year\": 1974, \"quarter\": \"Q1\", \"real_gdp\": 35.06}, {\"year\": 1974, \"quarter\": \"Q2\", \"real_gdp\": 35.144}, {\"year\": 1974, \"quarter\": \"Q3\", \"real_gdp\": 34.811}, {\"year\": 1974, \"quarter\": \"Q4\", \"real_gdp\": 34.676}, {\"year\": 1975, \"quarter\": \"Q1\", \"real_gdp\": 34.254}, {\"year\": 1975, \"quarter\": \"Q2\", \"real_gdp\": 34.499}, {\"year\": 1975, \"quarter\": \"Q3\", \"real_gdp\": 35.089}, {\"year\": 1975, \"quarter\": \"Q4\", \"real_gdp\": 35.562}, {\"year\": 1976, \"quarter\": \"Q1\", \"real_gdp\": 36.362}, {\"year\": 1976, \"quarter\": \"Q2\", \"real_gdp\": 36.628}, {\"year\": 1976, \"quarter\": \"Q3\", \"real_gdp\": 36.829}, {\"year\": 1976, \"quarter\": \"Q4\", \"real_gdp\": 37.096}, {\"year\": 1977, \"quarter\": \"Q1\", \"real_gdp\": 37.535}, {\"year\": 1977, \"quarter\": \"Q2\", \"real_gdp\": 38.264}, {\"year\": 1977, \"quarter\": \"Q3\", \"real_gdp\": 38.955}, {\"year\": 1977, \"quarter\": \"Q4\", \"real_gdp\": 38.956}, {\"year\": 1978, \"quarter\": \"Q1\", \"real_gdp\": 39.08}, {\"year\": 1978, \"quarter\": \"Q2\", \"real_gdp\": 40.59}, {\"year\": 1978, \"quarter\": \"Q3\", \"real_gdp\": 40.998}, {\"year\": 1978, \"quarter\": \"Q4\", \"real_gdp\": 41.549}, {\"year\": 1979, \"quarter\": \"Q1\", \"real_gdp\": 41.624}, {\"year\": 1979, \"quarter\": \"Q2\", \"real_gdp\": 41.669}, {\"year\": 1979, \"quarter\": \"Q3\", \"real_gdp\": 41.978}, {\"year\": 1979, \"quarter\": \"Q4\", \"real_gdp\": 42.083}, {\"year\": 1980, \"quarter\": \"Q1\", \"real_gdp\": 42.215}, {\"year\": 1980, \"quarter\": \"Q2\", \"real_gdp\": 41.346}, {\"year\": 1980, \"quarter\": \"Q3\", \"real_gdp\": 41.296}, {\"year\": 1980, \"quarter\": \"Q4\", \"real_gdp\": 42.067}, {\"year\": 1981, \"quarter\": \"Q1\", \"real_gdp\": 42.891}, {\"year\": 1981, \"quarter\": \"Q2\", \"real_gdp\": 42.573}, {\"year\": 1981, \"quarter\": \"Q3\", \"real_gdp\": 43.083}, {\"year\": 1981, \"quarter\": \"Q4\", \"real_gdp\": 42.613}, {\"year\": 1982, \"quarter\": \"Q1\", \"real_gdp\": 41.951}, {\"year\": 1982, \"quarter\": \"Q2\", \"real_gdp\": 42.143}, {\"year\": 1982, \"quarter\": \"Q3\", \"real_gdp\": 41.982}, {\"year\": 1982, \"quarter\": \"Q4\", \"real_gdp\": 41.998}, {\"year\": 1983, \"quarter\": \"Q1\", \"real_gdp\": 42.552}, {\"year\": 1983, \"quarter\": \"Q2\", \"real_gdp\": 43.52}, {\"year\": 1983, \"quarter\": \"Q3\", \"real_gdp\": 44.39}, {\"year\": 1983, \"quarter\": \"Q4\", \"real_gdp\": 45.316}, {\"year\": 1984, \"quarter\": \"Q1\", \"real_gdp\": 46.202}, {\"year\": 1984, \"quarter\": \"Q2\", \"real_gdp\": 47.0}, {\"year\": 1984, \"quarter\": \"Q3\", \"real_gdp\": 47.454}, {\"year\": 1984, \"quarter\": \"Q4\", \"real_gdp\": 47.843}, {\"year\": 1985, \"quarter\": \"Q1\", \"real_gdp\": 48.307}, {\"year\": 1985, \"quarter\": \"Q2\", \"real_gdp\": 48.732}, {\"year\": 1985, \"quarter\": \"Q3\", \"real_gdp\": 49.476}, {\"year\": 1985, \"quarter\": \"Q4\", \"real_gdp\": 49.844}, {\"year\": 1986, \"quarter\": \"Q1\", \"real_gdp\": 50.309}, {\"year\": 1986, \"quarter\": \"Q2\", \"real_gdp\": 50.536}, {\"year\": 1986, \"quarter\": \"Q3\", \"real_gdp\": 51.02}, {\"year\": 1986, \"quarter\": \"Q4\", \"real_gdp\": 51.294}, {\"year\": 1987, \"quarter\": \"Q1\", \"real_gdp\": 51.676}, {\"year\": 1987, \"quarter\": \"Q2\", \"real_gdp\": 52.233}, {\"year\": 1987, \"quarter\": \"Q3\", \"real_gdp\": 52.686}, {\"year\": 1987, \"quarter\": \"Q4\", \"real_gdp\": 53.591}, {\"year\": 1988, \"quarter\": \"Q1\", \"real_gdp\": 53.868}, {\"year\": 1988, \"quarter\": \"Q2\", \"real_gdp\": 54.576}, {\"year\": 1988, \"quarter\": \"Q3\", \"real_gdp\": 54.896}, {\"year\": 1988, \"quarter\": \"Q4\", \"real_gdp\": 55.627}, {\"year\": 1989, \"quarter\": \"Q1\", \"real_gdp\": 56.193}, {\"year\": 1989, \"quarter\": \"Q2\", \"real_gdp\": 56.621}, {\"year\": 1989, \"quarter\": \"Q3\", \"real_gdp\": 57.041}, {\"year\": 1989, \"quarter\": \"Q4\", \"real_gdp\": 57.153}, {\"year\": 1990, \"quarter\": \"Q1\", \"real_gdp\": 57.778}, {\"year\": 1990, \"quarter\": \"Q2\", \"real_gdp\": 57.988}, {\"year\": 1990, \"quarter\": \"Q3\", \"real_gdp\": 58.026}, {\"year\": 1990, \"quarter\": \"Q4\", \"real_gdp\": 57.498}, {\"year\": 1991, \"quarter\": \"Q1\", \"real_gdp\": 57.229}, {\"year\": 1991, \"quarter\": \"Q2\", \"real_gdp\": 57.675}, {\"year\": 1991, \"quarter\": \"Q3\", \"real_gdp\": 57.967}, {\"year\": 1991, \"quarter\": \"Q4\", \"real_gdp\": 58.169}, {\"year\": 1992, \"quarter\": \"Q1\", \"real_gdp\": 58.865}, {\"year\": 1992, \"quarter\": \"Q2\", \"real_gdp\": 59.503}, {\"year\": 1992, \"quarter\": \"Q3\", \"real_gdp\": 60.091}, {\"year\": 1992, \"quarter\": \"Q4\", \"real_gdp\": 60.718}, {\"year\": 1993, \"quarter\": \"Q1\", \"real_gdp\": 60.82}, {\"year\": 1993, \"quarter\": \"Q2\", \"real_gdp\": 61.174}, {\"year\": 1993, \"quarter\": \"Q3\", \"real_gdp\": 61.466}, {\"year\": 1993, \"quarter\": \"Q4\", \"real_gdp\": 62.302}, {\"year\": 1994, \"quarter\": \"Q1\", \"real_gdp\": 62.906}, {\"year\": 1994, \"quarter\": \"Q2\", \"real_gdp\": 63.759}, {\"year\": 1994, \"quarter\": \"Q3\", \"real_gdp\": 64.131}, {\"year\": 1994, \"quarter\": \"Q4\", \"real_gdp\": 64.866}, {\"year\": 1995, \"quarter\": \"Q1\", \"real_gdp\": 65.096}, {\"year\": 1995, \"quarter\": \"Q2\", \"real_gdp\": 65.29}, {\"year\": 1995, \"quarter\": \"Q3\", \"real_gdp\": 65.846}, {\"year\": 1995, \"quarter\": \"Q4\", \"real_gdp\": 66.293}, {\"year\": 1996, \"quarter\": \"Q1\", \"real_gdp\": 66.789}, {\"year\": 1996, \"quarter\": \"Q2\", \"real_gdp\": 67.903}, {\"year\": 1996, \"quarter\": \"Q3\", \"real_gdp\": 68.513}, {\"year\": 1996, \"quarter\": \"Q4\", \"real_gdp\": 69.224}, {\"year\": 1997, \"quarter\": \"Q1\", \"real_gdp\": 69.671}, {\"year\": 1997, \"quarter\": \"Q2\", \"real_gdp\": 70.829}, {\"year\": 1997, \"quarter\": \"Q3\", \"real_gdp\": 71.715}, {\"year\": 1997, \"quarter\": \"Q4\", \"real_gdp\": 72.331}, {\"year\": 1998, \"quarter\": \"Q1\", \"real_gdp\": 73.054}, {\"year\": 1998, \"quarter\": \"Q2\", \"real_gdp\": 73.73}, {\"year\": 1998, \"quarter\": \"Q3\", \"real_gdp\": 74.653}, {\"year\": 1998, \"quarter\": \"Q4\", \"real_gdp\": 75.86}, {\"year\": 1999, \"quarter\": \"Q1\", \"real_gdp\": 76.578}, {\"year\": 1999, \"quarter\": \"Q2\", \"real_gdp\": 77.167}, {\"year\": 1999, \"quarter\": \"Q3\", \"real_gdp\": 78.177}, {\"year\": 1999, \"quarter\": \"Q4\", \"real_gdp\": 79.506}, {\"year\": 2000, \"quarter\": \"Q1\", \"real_gdp\": 79.794}, {\"year\": 2000, \"quarter\": \"Q2\", \"real_gdp\": 81.255}, {\"year\": 2000, \"quarter\": \"Q3\", \"real_gdp\": 81.363}, {\"year\": 2000, \"quarter\": \"Q4\", \"real_gdp\": 81.87}, {\"year\": 2001, \"quarter\": \"Q1\", \"real_gdp\": 81.637}, {\"year\": 2001, \"quarter\": \"Q2\", \"real_gdp\": 82.114}, {\"year\": 2001, \"quarter\": \"Q3\", \"real_gdp\": 81.773}, {\"year\": 2001, \"quarter\": \"Q4\", \"real_gdp\": 81.996}, {\"year\": 2002, \"quarter\": \"Q1\", \"real_gdp\": 82.713}, {\"year\": 2002, \"quarter\": \"Q2\", \"real_gdp\": 83.214}, {\"year\": 2002, \"quarter\": \"Q3\", \"real_gdp\": 83.584}, {\"year\": 2002, \"quarter\": \"Q4\", \"real_gdp\": 83.713}, {\"year\": 2003, \"quarter\": \"Q1\", \"real_gdp\": 84.178}, {\"year\": 2003, \"quarter\": \"Q2\", \"real_gdp\": 84.902}, {\"year\": 2003, \"quarter\": \"Q3\", \"real_gdp\": 86.344}, {\"year\": 2003, \"quarter\": \"Q4\", \"real_gdp\": 87.335}, {\"year\": 2004, \"quarter\": \"Q1\", \"real_gdp\": 87.801}, {\"year\": 2004, \"quarter\": \"Q2\", \"real_gdp\": 88.47}, {\"year\": 2004, \"quarter\": \"Q3\", \"real_gdp\": 89.307}, {\"year\": 2004, \"quarter\": \"Q4\", \"real_gdp\": 90.201}, {\"year\": 2005, \"quarter\": \"Q1\", \"real_gdp\": 91.2}, {\"year\": 2005, \"quarter\": \"Q2\", \"real_gdp\": 91.621}, {\"year\": 2005, \"quarter\": \"Q3\", \"real_gdp\": 92.437}, {\"year\": 2005, \"quarter\": \"Q4\", \"real_gdp\": 93.021}, {\"year\": 2006, \"quarter\": \"Q1\", \"real_gdp\": 94.258}, {\"year\": 2006, \"quarter\": \"Q2\", \"real_gdp\": 94.479}, {\"year\": 2006, \"quarter\": \"Q3\", \"real_gdp\": 94.625}, {\"year\": 2006, \"quarter\": \"Q4\", \"real_gdp\": 95.431}, {\"year\": 2007, \"quarter\": \"Q1\", \"real_gdp\": 95.655}, {\"year\": 2007, \"quarter\": \"Q2\", \"real_gdp\": 96.203}, {\"year\": 2007, \"quarter\": \"Q3\", \"real_gdp\": 96.726}, {\"year\": 2007, \"quarter\": \"Q4\", \"real_gdp\": 97.314}, {\"year\": 2008, \"quarter\": \"Q1\", \"real_gdp\": 96.755}, {\"year\": 2008, \"quarter\": \"Q2\", \"real_gdp\": 97.254}, {\"year\": 2008, \"quarter\": \"Q3\", \"real_gdp\": 96.728}, {\"year\": 2008, \"quarter\": \"Q4\", \"real_gdp\": 94.635}, {\"year\": 2009, \"quarter\": \"Q1\", \"real_gdp\": 93.572}, {\"year\": 2009, \"quarter\": \"Q2\", \"real_gdp\": 93.438}, {\"year\": 2009, \"quarter\": \"Q3\", \"real_gdp\": 93.778}, {\"year\": 2009, \"quarter\": \"Q4\", \"real_gdp\": 94.808}, {\"year\": 2010, \"quarter\": \"Q1\", \"real_gdp\": 95.173}, {\"year\": 2010, \"quarter\": \"Q2\", \"real_gdp\": 96.05}, {\"year\": 2010, \"quarter\": \"Q3\", \"real_gdp\": 96.758}, {\"year\": 2010, \"quarter\": \"Q4\", \"real_gdp\": 97.244}, {\"year\": 2011, \"quarter\": \"Q1\", \"real_gdp\": 97.01}, {\"year\": 2011, \"quarter\": \"Q2\", \"real_gdp\": 97.704}, {\"year\": 2011, \"quarter\": \"Q3\", \"real_gdp\": 97.677}, {\"year\": 2011, \"quarter\": \"Q4\", \"real_gdp\": 98.809}, {\"year\": 2012, \"quarter\": \"Q1\", \"real_gdp\": 99.583}, {\"year\": 2012, \"quarter\": \"Q2\", \"real_gdp\": 100.011}, {\"year\": 2012, \"quarter\": \"Q3\", \"real_gdp\": 100.146}, {\"year\": 2012, \"quarter\": \"Q4\", \"real_gdp\": 100.26}, {\"year\": 2013, \"quarter\": \"Q1\", \"real_gdp\": 101.148}, {\"year\": 2013, \"quarter\": \"Q2\", \"real_gdp\": 101.273}, {\"year\": 2013, \"quarter\": \"Q3\", \"real_gdp\": 102.066}, {\"year\": 2013, \"quarter\": \"Q4\", \"real_gdp\": 102.881}, {\"year\": 2014, \"quarter\": \"Q1\", \"real_gdp\": 102.59}, {\"year\": 2014, \"quarter\": \"Q2\", \"real_gdp\": 103.979}, {\"year\": 2014, \"quarter\": \"Q3\", \"real_gdp\": 105.248}, {\"year\": 2014, \"quarter\": \"Q4\", \"real_gdp\": 105.841}, {\"year\": 2015, \"quarter\": \"Q1\", \"real_gdp\": 106.845}, {\"year\": 2015, \"quarter\": \"Q2\", \"real_gdp\": 107.568}, {\"year\": 2015, \"quarter\": \"Q3\", \"real_gdp\": 107.958}, {\"year\": 2015, \"quarter\": \"Q4\", \"real_gdp\": 108.131}, {\"year\": 2016, \"quarter\": \"Q1\", \"real_gdp\": 108.744}, {\"year\": 2016, \"quarter\": \"Q2\", \"real_gdp\": 109.083}, {\"year\": 2016, \"quarter\": \"Q3\", \"real_gdp\": 109.677}, {\"year\": 2016, \"quarter\": \"Q4\", \"real_gdp\": 110.367}, {\"year\": 2017, \"quarter\": \"Q1\", \"real_gdp\": 110.991}, {\"year\": 2017, \"quarter\": \"Q2\", \"real_gdp\": 111.465}, {\"year\": 2017, \"quarter\": \"Q3\", \"real_gdp\": 112.278}, {\"year\": 2017, \"quarter\": \"Q4\", \"real_gdp\": 113.351}, {\"year\": 2018, \"quarter\": \"Q1\", \"real_gdp\": 114.407}, {\"year\": 2018, \"quarter\": \"Q2\", \"real_gdp\": 115.172}, {\"year\": 2018, \"quarter\": \"Q3\", \"real_gdp\": 115.777}, {\"year\": 2018, \"quarter\": \"Q4\", \"real_gdp\": 116.157}, {\"year\": 2019, \"quarter\": \"Q1\", \"real_gdp\": 116.999}, {\"year\": 2019, \"quarter\": \"Q2\", \"real_gdp\": 117.433}, {\"year\": 2019, \"quarter\": \"Q3\", \"real_gdp\": 118.181}, {\"year\": 2019, \"quarter\": \"Q4\", \"real_gdp\": 118.874}, {\"year\": 2020, \"quarter\": \"Q1\", \"real_gdp\": 117.373}, {\"year\": 2020, \"quarter\": \"Q2\", \"real_gdp\": 106.228}]}}, {\"actions\": false, \"mode\": \"vega-lite\"});\n",
       "</script>"
      ],
      "text/plain": [
       "alt.Chart(...)"
      ]
     },
     "execution_count": 105,
     "metadata": {},
     "output_type": "execute_result"
    }
   ],
   "source": [
    "alt.Chart(re_gdp).mark_bar(width=3.25).encode(\n",
    "    x=alt.X('quarter:O', title=None, axis=alt.Axis(labels=False, ticks=False)),\n",
    "    y='real_gdp:Q',\n",
    "    column = alt.Facet('year:O', spacing=0, header=alt.Header(labels=False, title=None))\n",
    "    \n",
    ").configure_view(strokeWidth=0, step=4)"
   ]
  },
  {
   "cell_type": "markdown",
   "metadata": {},
   "source": [
    "Let's calculate non-annualized gdp from the real gdp -"
   ]
  },
  {
   "cell_type": "code",
   "execution_count": 106,
   "metadata": {},
   "outputs": [
    {
     "name": "stdout",
     "output_type": "stream",
     "text": [
      "After function assign_columns ran, shape of dataframe is - (294, 4), execution time is - 0:00:00.003361\n"
     ]
    },
    {
     "data": {
      "text/html": [
       "<div>\n",
       "<style scoped>\n",
       "    .dataframe tbody tr th:only-of-type {\n",
       "        vertical-align: middle;\n",
       "    }\n",
       "\n",
       "    .dataframe tbody tr th {\n",
       "        vertical-align: top;\n",
       "    }\n",
       "\n",
       "    .dataframe thead th {\n",
       "        text-align: right;\n",
       "    }\n",
       "</style>\n",
       "<table border=\"1\" class=\"dataframe\">\n",
       "  <thead>\n",
       "    <tr style=\"text-align: right;\">\n",
       "      <th></th>\n",
       "      <th>year</th>\n",
       "      <th>quarter</th>\n",
       "      <th>real_gdp</th>\n",
       "      <th>non_annualized_gdp</th>\n",
       "    </tr>\n",
       "  </thead>\n",
       "  <tbody>\n",
       "    <tr>\n",
       "      <th>0</th>\n",
       "      <td>1947</td>\n",
       "      <td>Q1</td>\n",
       "      <td>12.552</td>\n",
       "      <td>NaN</td>\n",
       "    </tr>\n",
       "    <tr>\n",
       "      <th>1</th>\n",
       "      <td>1947</td>\n",
       "      <td>Q2</td>\n",
       "      <td>12.519</td>\n",
       "      <td>-0.262906</td>\n",
       "    </tr>\n",
       "    <tr>\n",
       "      <th>2</th>\n",
       "      <td>1947</td>\n",
       "      <td>Q3</td>\n",
       "      <td>12.493</td>\n",
       "      <td>-0.207684</td>\n",
       "    </tr>\n",
       "    <tr>\n",
       "      <th>3</th>\n",
       "      <td>1947</td>\n",
       "      <td>Q4</td>\n",
       "      <td>12.688</td>\n",
       "      <td>1.560874</td>\n",
       "    </tr>\n",
       "    <tr>\n",
       "      <th>4</th>\n",
       "      <td>1948</td>\n",
       "      <td>Q1</td>\n",
       "      <td>12.879</td>\n",
       "      <td>1.505359</td>\n",
       "    </tr>\n",
       "  </tbody>\n",
       "</table>\n",
       "</div>"
      ],
      "text/plain": [
       "   year quarter  real_gdp  non_annualized_gdp\n",
       "0  1947      Q1    12.552                 NaN\n",
       "1  1947      Q2    12.519           -0.262906\n",
       "2  1947      Q3    12.493           -0.207684\n",
       "3  1947      Q4    12.688            1.560874\n",
       "4  1948      Q1    12.879            1.505359"
      ]
     },
     "execution_count": 106,
     "metadata": {},
     "output_type": "execute_result"
    }
   ],
   "source": [
    "usa_gdp = re_gdp.pipe(assign_columns)\n",
    "usa_gdp.head()"
   ]
  },
  {
   "cell_type": "markdown",
   "metadata": {},
   "source": [
    "**Highlighting the quarters where we had negative growth compared to previous quarter (using non-annualized gdp)** -"
   ]
  },
  {
   "cell_type": "code",
   "execution_count": 107,
   "metadata": {},
   "outputs": [
    {
     "data": {
      "text/html": [
       "\n",
       "<div id=\"altair-viz-c989c2a7168346f396a550ce0217ad3f\"></div>\n",
       "<script type=\"text/javascript\">\n",
       "  (function(spec, embedOpt){\n",
       "    let outputDiv = document.currentScript.previousElementSibling;\n",
       "    if (outputDiv.id !== \"altair-viz-c989c2a7168346f396a550ce0217ad3f\") {\n",
       "      outputDiv = document.getElementById(\"altair-viz-c989c2a7168346f396a550ce0217ad3f\");\n",
       "    }\n",
       "    const paths = {\n",
       "      \"vega\": \"https://cdn.jsdelivr.net/npm//vega@5?noext\",\n",
       "      \"vega-lib\": \"https://cdn.jsdelivr.net/npm//vega-lib?noext\",\n",
       "      \"vega-lite\": \"https://cdn.jsdelivr.net/npm//vega-lite@4.8.1?noext\",\n",
       "      \"vega-embed\": \"https://cdn.jsdelivr.net/npm//vega-embed@6?noext\",\n",
       "    };\n",
       "\n",
       "    function loadScript(lib) {\n",
       "      return new Promise(function(resolve, reject) {\n",
       "        var s = document.createElement('script');\n",
       "        s.src = paths[lib];\n",
       "        s.async = true;\n",
       "        s.onload = () => resolve(paths[lib]);\n",
       "        s.onerror = () => reject(`Error loading script: ${paths[lib]}`);\n",
       "        document.getElementsByTagName(\"head\")[0].appendChild(s);\n",
       "      });\n",
       "    }\n",
       "\n",
       "    function showError(err) {\n",
       "      outputDiv.innerHTML = `<div class=\"error\" style=\"color:red;\">${err}</div>`;\n",
       "      throw err;\n",
       "    }\n",
       "\n",
       "    function displayChart(vegaEmbed) {\n",
       "      vegaEmbed(outputDiv, spec, embedOpt)\n",
       "        .catch(err => showError(`Javascript Error: ${err.message}<br>This usually means there's a typo in your chart specification. See the javascript console for the full traceback.`));\n",
       "    }\n",
       "\n",
       "    if(typeof define === \"function\" && define.amd) {\n",
       "      requirejs.config({paths});\n",
       "      require([\"vega-embed\"], displayChart, err => showError(`Error loading script: ${err.message}`));\n",
       "    } else if (typeof vegaEmbed === \"function\") {\n",
       "      displayChart(vegaEmbed);\n",
       "    } else {\n",
       "      loadScript(\"vega\")\n",
       "        .then(() => loadScript(\"vega-lite\"))\n",
       "        .then(() => loadScript(\"vega-embed\"))\n",
       "        .catch(showError)\n",
       "        .then(() => displayChart(vegaEmbed));\n",
       "    }\n",
       "  })({\"config\": {\"view\": {\"continuousWidth\": 400, \"continuousHeight\": 300, \"step\": 4, \"strokeWidth\": 0}, \"axis\": {\"grid\": true}}, \"data\": {\"name\": \"data-0b495975e1ca313988d800b5612785fc\"}, \"mark\": {\"type\": \"bar\", \"width\": 3.25}, \"encoding\": {\"color\": {\"condition\": {\"value\": \"#76a4a5\", \"test\": \"(datum.non_annualized_gdp > 0)\"}, \"value\": \"#d0573a\"}, \"column\": {\"type\": \"ordinal\", \"field\": \"year\", \"header\": {\"labels\": false, \"title\": null}, \"spacing\": 0}, \"x\": {\"type\": \"ordinal\", \"axis\": {\"labels\": false, \"ticks\": false}, \"field\": \"quarter\", \"title\": null}, \"y\": {\"type\": \"quantitative\", \"field\": \"real_gdp\"}}, \"$schema\": \"https://vega.github.io/schema/vega-lite/v4.8.1.json\", \"datasets\": {\"data-0b495975e1ca313988d800b5612785fc\": [{\"year\": 1947, \"quarter\": \"Q1\", \"real_gdp\": 12.552, \"non_annualized_gdp\": null}, {\"year\": 1947, \"quarter\": \"Q2\", \"real_gdp\": 12.519, \"non_annualized_gdp\": -0.2629063097514298}, {\"year\": 1947, \"quarter\": \"Q3\", \"real_gdp\": 12.493, \"non_annualized_gdp\": -0.20768431983385094}, {\"year\": 1947, \"quarter\": \"Q4\", \"real_gdp\": 12.688, \"non_annualized_gdp\": 1.5608740894901167}, {\"year\": 1948, \"quarter\": \"Q1\", \"real_gdp\": 12.879, \"non_annualized_gdp\": 1.5053593947036485}, {\"year\": 1948, \"quarter\": \"Q2\", \"real_gdp\": 13.092, \"non_annualized_gdp\": 1.6538551129746175}, {\"year\": 1948, \"quarter\": \"Q3\", \"real_gdp\": 13.167, \"non_annualized_gdp\": 0.572868927589362}, {\"year\": 1948, \"quarter\": \"Q4\", \"real_gdp\": 13.181, \"non_annualized_gdp\": 0.10632642211589084}, {\"year\": 1949, \"quarter\": \"Q1\", \"real_gdp\": 13.0, \"non_annualized_gdp\": -1.3731886806767255}, {\"year\": 1949, \"quarter\": \"Q2\", \"real_gdp\": 12.955, \"non_annualized_gdp\": -0.3461538461538456}, {\"year\": 1949, \"quarter\": \"Q3\", \"real_gdp\": 13.089, \"non_annualized_gdp\": 1.034349671941338}, {\"year\": 1949, \"quarter\": \"Q4\", \"real_gdp\": 12.979, \"non_annualized_gdp\": -0.8404003361601436}, {\"year\": 1950, \"quarter\": \"Q1\", \"real_gdp\": 13.489, \"non_annualized_gdp\": 3.9294244548886788}, {\"year\": 1950, \"quarter\": \"Q2\", \"real_gdp\": 13.901, \"non_annualized_gdp\": 3.0543405738008675}, {\"year\": 1950, \"quarter\": \"Q3\", \"real_gdp\": 14.438, \"non_annualized_gdp\": 3.8630314365873017}, {\"year\": 1950, \"quarter\": \"Q4\", \"real_gdp\": 14.714, \"non_annualized_gdp\": 1.9116221083252511}, {\"year\": 1951, \"quarter\": \"Q1\", \"real_gdp\": 14.914, \"non_annualized_gdp\": 1.359249694168814}, {\"year\": 1951, \"quarter\": \"Q2\", \"real_gdp\": 15.173, \"non_annualized_gdp\": 1.7366233069599057}, {\"year\": 1951, \"quarter\": \"Q3\", \"real_gdp\": 15.485, \"non_annualized_gdp\": 2.0562841890199657}, {\"year\": 1951, \"quarter\": \"Q4\", \"real_gdp\": 15.519, \"non_annualized_gdp\": 0.21956732321602}, {\"year\": 1952, \"quarter\": \"Q1\", \"real_gdp\": 15.685, \"non_annualized_gdp\": 1.0696565500354427}, {\"year\": 1952, \"quarter\": \"Q2\", \"real_gdp\": 15.719, \"non_annualized_gdp\": 0.21676761236849806}, {\"year\": 1952, \"quarter\": \"Q3\", \"real_gdp\": 15.833, \"non_annualized_gdp\": 0.7252369743622417}, {\"year\": 1952, \"quarter\": \"Q4\", \"real_gdp\": 16.353, \"non_annualized_gdp\": 3.284279669045673}, {\"year\": 1953, \"quarter\": \"Q1\", \"real_gdp\": 16.657, \"non_annualized_gdp\": 1.858986118754959}, {\"year\": 1953, \"quarter\": \"Q2\", \"real_gdp\": 16.785, \"non_annualized_gdp\": 0.7684456985051337}, {\"year\": 1953, \"quarter\": \"Q3\", \"real_gdp\": 16.691, \"non_annualized_gdp\": -0.5600238308013178}, {\"year\": 1953, \"quarter\": \"Q4\", \"real_gdp\": 16.438, \"non_annualized_gdp\": -1.5157869510514657}, {\"year\": 1954, \"quarter\": \"Q1\", \"real_gdp\": 16.36, \"non_annualized_gdp\": -0.474510281056086}, {\"year\": 1954, \"quarter\": \"Q2\", \"real_gdp\": 16.377, \"non_annualized_gdp\": 0.1039119804400945}, {\"year\": 1954, \"quarter\": \"Q3\", \"real_gdp\": 16.562, \"non_annualized_gdp\": 1.1296330219210007}, {\"year\": 1954, \"quarter\": \"Q4\", \"real_gdp\": 16.886, \"non_annualized_gdp\": 1.9562854727689774}, {\"year\": 1955, \"quarter\": \"Q1\", \"real_gdp\": 17.369, \"non_annualized_gdp\": 2.8603576927632393}, {\"year\": 1955, \"quarter\": \"Q2\", \"real_gdp\": 17.651, \"non_annualized_gdp\": 1.6235822442282228}, {\"year\": 1955, \"quarter\": \"Q3\", \"real_gdp\": 17.89, \"non_annualized_gdp\": 1.3540309330916138}, {\"year\": 1955, \"quarter\": \"Q4\", \"real_gdp\": 17.997, \"non_annualized_gdp\": 0.598099496925653}, {\"year\": 1956, \"quarter\": \"Q1\", \"real_gdp\": 17.927, \"non_annualized_gdp\": -0.3889537145079751}, {\"year\": 1956, \"quarter\": \"Q2\", \"real_gdp\": 18.075, \"non_annualized_gdp\": 0.8255703687175752}, {\"year\": 1956, \"quarter\": \"Q3\", \"real_gdp\": 18.059, \"non_annualized_gdp\": -0.08852005532502483}, {\"year\": 1956, \"quarter\": \"Q4\", \"real_gdp\": 18.356, \"non_annualized_gdp\": 1.644609336065123}, {\"year\": 1957, \"quarter\": \"Q1\", \"real_gdp\": 18.474, \"non_annualized_gdp\": 0.6428415776857624}, {\"year\": 1957, \"quarter\": \"Q2\", \"real_gdp\": 18.433, \"non_annualized_gdp\": -0.22193352820179912}, {\"year\": 1957, \"quarter\": \"Q3\", \"real_gdp\": 18.614, \"non_annualized_gdp\": 0.9819345738621003}, {\"year\": 1957, \"quarter\": \"Q4\", \"real_gdp\": 18.421, \"non_annualized_gdp\": -1.036853980874618}, {\"year\": 1958, \"quarter\": \"Q1\", \"real_gdp\": 17.943, \"non_annualized_gdp\": -2.5948645567558657}, {\"year\": 1958, \"quarter\": \"Q2\", \"real_gdp\": 18.061, \"non_annualized_gdp\": 0.657638076129959}, {\"year\": 1958, \"quarter\": \"Q3\", \"real_gdp\": 18.479, \"non_annualized_gdp\": 2.3143790487791334}, {\"year\": 1958, \"quarter\": \"Q4\", \"real_gdp\": 18.911, \"non_annualized_gdp\": 2.3377888413875327}, {\"year\": 1959, \"quarter\": \"Q1\", \"real_gdp\": 19.275, \"non_annualized_gdp\": 1.9248056686584378}, {\"year\": 1959, \"quarter\": \"Q2\", \"real_gdp\": 19.71, \"non_annualized_gdp\": 2.2568093385214127}, {\"year\": 1959, \"quarter\": \"Q3\", \"real_gdp\": 19.724, \"non_annualized_gdp\": 0.07102993404362935}, {\"year\": 1959, \"quarter\": \"Q4\", \"real_gdp\": 19.78, \"non_annualized_gdp\": 0.2839180693571331}, {\"year\": 1960, \"quarter\": \"Q1\", \"real_gdp\": 20.224, \"non_annualized_gdp\": 2.244691607684525}, {\"year\": 1960, \"quarter\": \"Q2\", \"real_gdp\": 20.115, \"non_annualized_gdp\": -0.5389636075949454}, {\"year\": 1960, \"quarter\": \"Q3\", \"real_gdp\": 20.214, \"non_annualized_gdp\": 0.4921700223713657}, {\"year\": 1960, \"quarter\": \"Q4\", \"real_gdp\": 19.954, \"non_annualized_gdp\": -1.286237261304037}, {\"year\": 1961, \"quarter\": \"Q1\", \"real_gdp\": 20.089, \"non_annualized_gdp\": 0.6765560789816478}, {\"year\": 1961, \"quarter\": \"Q2\", \"real_gdp\": 20.43, \"non_annualized_gdp\": 1.6974463636816224}, {\"year\": 1961, \"quarter\": \"Q3\", \"real_gdp\": 20.822, \"non_annualized_gdp\": 1.91874694077337}, {\"year\": 1961, \"quarter\": \"Q4\", \"real_gdp\": 21.231, \"non_annualized_gdp\": 1.9642685620977933}, {\"year\": 1962, \"quarter\": \"Q1\", \"real_gdp\": 21.609, \"non_annualized_gdp\": 1.7804154302670627}, {\"year\": 1962, \"quarter\": \"Q2\", \"real_gdp\": 21.805, \"non_annualized_gdp\": 0.9070294784580404}, {\"year\": 1962, \"quarter\": \"Q3\", \"real_gdp\": 22.072, \"non_annualized_gdp\": 1.224489795918365}, {\"year\": 1962, \"quarter\": \"Q4\", \"real_gdp\": 22.145, \"non_annualized_gdp\": 0.33073577383110003}, {\"year\": 1963, \"quarter\": \"Q1\", \"real_gdp\": 22.387, \"non_annualized_gdp\": 1.0927974712124673}, {\"year\": 1963, \"quarter\": \"Q2\", \"real_gdp\": 22.638, \"non_annualized_gdp\": 1.1211864028230722}, {\"year\": 1963, \"quarter\": \"Q3\", \"real_gdp\": 23.136, \"non_annualized_gdp\": 2.1998409753511683}, {\"year\": 1963, \"quarter\": \"Q4\", \"real_gdp\": 23.287, \"non_annualized_gdp\": 0.6526625172890724}, {\"year\": 1964, \"quarter\": \"Q1\", \"real_gdp\": 23.778, \"non_annualized_gdp\": 2.108472538326103}, {\"year\": 1964, \"quarter\": \"Q2\", \"real_gdp\": 24.037, \"non_annualized_gdp\": 1.0892421566153603}, {\"year\": 1964, \"quarter\": \"Q3\", \"real_gdp\": 24.413, \"non_annualized_gdp\": 1.564255106710493}, {\"year\": 1964, \"quarter\": \"Q4\", \"real_gdp\": 24.488, \"non_annualized_gdp\": 0.30721336992585624}, {\"year\": 1965, \"quarter\": \"Q1\", \"real_gdp\": 25.081, \"non_annualized_gdp\": 2.421594250245018}, {\"year\": 1965, \"quarter\": \"Q2\", \"real_gdp\": 25.397, \"non_annualized_gdp\": 1.259917866113787}, {\"year\": 1965, \"quarter\": \"Q3\", \"real_gdp\": 25.962, \"non_annualized_gdp\": 2.2246722053785932}, {\"year\": 1965, \"quarter\": \"Q4\", \"real_gdp\": 26.56, \"non_annualized_gdp\": 2.3033664586703604}, {\"year\": 1966, \"quarter\": \"Q1\", \"real_gdp\": 27.207, \"non_annualized_gdp\": 2.435993975903622}, {\"year\": 1966, \"quarter\": \"Q2\", \"real_gdp\": 27.3, \"non_annualized_gdp\": 0.34182379534678564}, {\"year\": 1966, \"quarter\": \"Q3\", \"real_gdp\": 27.531, \"non_annualized_gdp\": 0.8461538461538392}, {\"year\": 1966, \"quarter\": \"Q4\", \"real_gdp\": 27.757, \"non_annualized_gdp\": 0.8208928117395033}, {\"year\": 1967, \"quarter\": \"Q1\", \"real_gdp\": 28.003, \"non_annualized_gdp\": 0.8862629246676466}, {\"year\": 1967, \"quarter\": \"Q2\", \"real_gdp\": 28.02, \"non_annualized_gdp\": 0.060707781309143526}, {\"year\": 1967, \"quarter\": \"Q3\", \"real_gdp\": 28.285, \"non_annualized_gdp\": 0.9457530335474682}, {\"year\": 1967, \"quarter\": \"Q4\", \"real_gdp\": 28.498, \"non_annualized_gdp\": 0.7530493194272617}, {\"year\": 1968, \"quarter\": \"Q1\", \"real_gdp\": 29.079, \"non_annualized_gdp\": 2.038739560670922}, {\"year\": 1968, \"quarter\": \"Q2\", \"real_gdp\": 29.565, \"non_annualized_gdp\": 1.6713091922005592}, {\"year\": 1968, \"quarter\": \"Q3\", \"real_gdp\": 29.794, \"non_annualized_gdp\": 0.7745645188567536}, {\"year\": 1968, \"quarter\": \"Q4\", \"real_gdp\": 29.912, \"non_annualized_gdp\": 0.39605289655634873}, {\"year\": 1969, \"quarter\": \"Q1\", \"real_gdp\": 30.38, \"non_annualized_gdp\": 1.5645894624231076}, {\"year\": 1969, \"quarter\": \"Q2\", \"real_gdp\": 30.472, \"non_annualized_gdp\": 0.3028308097432597}, {\"year\": 1969, \"quarter\": \"Q3\", \"real_gdp\": 30.673, \"non_annualized_gdp\": 0.6596219480178425}, {\"year\": 1969, \"quarter\": \"Q4\", \"real_gdp\": 30.524, \"non_annualized_gdp\": -0.48576924330843857}, {\"year\": 1970, \"quarter\": \"Q1\", \"real_gdp\": 30.478, \"non_annualized_gdp\": -0.15070108766871765}, {\"year\": 1970, \"quarter\": \"Q2\", \"real_gdp\": 30.522, \"non_annualized_gdp\": 0.14436642824331297}, {\"year\": 1970, \"quarter\": \"Q3\", \"real_gdp\": 30.803, \"non_annualized_gdp\": 0.9206474018740658}, {\"year\": 1970, \"quarter\": \"Q4\", \"real_gdp\": 30.473, \"non_annualized_gdp\": -1.0713242216667267}, {\"year\": 1971, \"quarter\": \"Q1\", \"real_gdp\": 31.301, \"non_annualized_gdp\": 2.717159452630195}, {\"year\": 1971, \"quarter\": \"Q2\", \"real_gdp\": 31.47, \"non_annualized_gdp\": 0.5399188524328312}, {\"year\": 1971, \"quarter\": \"Q3\", \"real_gdp\": 31.729, \"non_annualized_gdp\": 0.8230060374960291}, {\"year\": 1971, \"quarter\": \"Q4\", \"real_gdp\": 31.804, \"non_annualized_gdp\": 0.2363768161618686}, {\"year\": 1972, \"quarter\": \"Q1\", \"real_gdp\": 32.389, \"non_annualized_gdp\": 1.8393912715381853}, {\"year\": 1972, \"quarter\": \"Q2\", \"real_gdp\": 33.124, \"non_annualized_gdp\": 2.269288956127078}, {\"year\": 1972, \"quarter\": \"Q3\", \"real_gdp\": 33.436, \"non_annualized_gdp\": 0.9419152276295062}, {\"year\": 1972, \"quarter\": \"Q4\", \"real_gdp\": 33.996, \"non_annualized_gdp\": 1.6748414882163005}, {\"year\": 1973, \"quarter\": \"Q1\", \"real_gdp\": 34.838, \"non_annualized_gdp\": 2.4767619719967016}, {\"year\": 1973, \"quarter\": \"Q2\", \"real_gdp\": 35.217, \"non_annualized_gdp\": 1.0878925311441465}, {\"year\": 1973, \"quarter\": \"Q3\", \"real_gdp\": 35.032, \"non_annualized_gdp\": -0.5253144788028573}, {\"year\": 1973, \"quarter\": \"Q4\", \"real_gdp\": 35.364, \"non_annualized_gdp\": 0.9477049554692875}, {\"year\": 1974, \"quarter\": \"Q1\", \"real_gdp\": 35.06, \"non_annualized_gdp\": -0.8596312634317242}, {\"year\": 1974, \"quarter\": \"Q2\", \"real_gdp\": 35.144, \"non_annualized_gdp\": 0.2395892755276557}, {\"year\": 1974, \"quarter\": \"Q3\", \"real_gdp\": 34.811, \"non_annualized_gdp\": -0.9475301616207558}, {\"year\": 1974, \"quarter\": \"Q4\", \"real_gdp\": 34.676, \"non_annualized_gdp\": -0.38780845135157854}, {\"year\": 1975, \"quarter\": \"Q1\", \"real_gdp\": 34.254, \"non_annualized_gdp\": -1.2169800438343643}, {\"year\": 1975, \"quarter\": \"Q2\", \"real_gdp\": 34.499, \"non_annualized_gdp\": 0.7152449348981275}, {\"year\": 1975, \"quarter\": \"Q3\", \"real_gdp\": 35.089, \"non_annualized_gdp\": 1.710194498391247}, {\"year\": 1975, \"quarter\": \"Q4\", \"real_gdp\": 35.562, \"non_annualized_gdp\": 1.3480007979708712}, {\"year\": 1976, \"quarter\": \"Q1\", \"real_gdp\": 36.362, \"non_annualized_gdp\": 2.2495922614026327}, {\"year\": 1976, \"quarter\": \"Q2\", \"real_gdp\": 36.628, \"non_annualized_gdp\": 0.7315329189813493}, {\"year\": 1976, \"quarter\": \"Q3\", \"real_gdp\": 36.829, \"non_annualized_gdp\": 0.5487605110844177}, {\"year\": 1976, \"quarter\": \"Q4\", \"real_gdp\": 37.096, \"non_annualized_gdp\": 0.7249721686714162}, {\"year\": 1977, \"quarter\": \"Q1\", \"real_gdp\": 37.535, \"non_annualized_gdp\": 1.1834160017252535}, {\"year\": 1977, \"quarter\": \"Q2\", \"real_gdp\": 38.264, \"non_annualized_gdp\": 1.9421872918609469}, {\"year\": 1977, \"quarter\": \"Q3\", \"real_gdp\": 38.955, \"non_annualized_gdp\": 1.8058749738657625}, {\"year\": 1977, \"quarter\": \"Q4\", \"real_gdp\": 38.956, \"non_annualized_gdp\": 0.0025670645616859837}, {\"year\": 1978, \"quarter\": \"Q1\", \"real_gdp\": 39.08, \"non_annualized_gdp\": 0.3183078344799138}, {\"year\": 1978, \"quarter\": \"Q2\", \"real_gdp\": 40.59, \"non_annualized_gdp\": 3.8638689866939746}, {\"year\": 1978, \"quarter\": \"Q3\", \"real_gdp\": 40.998, \"non_annualized_gdp\": 1.005173688100503}, {\"year\": 1978, \"quarter\": \"Q4\", \"real_gdp\": 41.549, \"non_annualized_gdp\": 1.3439679984389532}, {\"year\": 1979, \"quarter\": \"Q1\", \"real_gdp\": 41.624, \"non_annualized_gdp\": 0.18050975956100712}, {\"year\": 1979, \"quarter\": \"Q2\", \"real_gdp\": 41.669, \"non_annualized_gdp\": 0.108110705362278}, {\"year\": 1979, \"quarter\": \"Q3\", \"real_gdp\": 41.978, \"non_annualized_gdp\": 0.7415584727255384}, {\"year\": 1979, \"quarter\": \"Q4\", \"real_gdp\": 42.083, \"non_annualized_gdp\": 0.25013102101099827}, {\"year\": 1980, \"quarter\": \"Q1\", \"real_gdp\": 42.215, \"non_annualized_gdp\": 0.31366585081863224}, {\"year\": 1980, \"quarter\": \"Q2\", \"real_gdp\": 41.346, \"non_annualized_gdp\": -2.058510008290908}, {\"year\": 1980, \"quarter\": \"Q3\", \"real_gdp\": 41.296, \"non_annualized_gdp\": -0.12093068253276534}, {\"year\": 1980, \"quarter\": \"Q4\", \"real_gdp\": 42.067, \"non_annualized_gdp\": 1.8670089112747017}, {\"year\": 1981, \"quarter\": \"Q1\", \"real_gdp\": 42.891, \"non_annualized_gdp\": 1.9587800413625838}, {\"year\": 1981, \"quarter\": \"Q2\", \"real_gdp\": 42.573, \"non_annualized_gdp\": -0.7414142827166489}, {\"year\": 1981, \"quarter\": \"Q3\", \"real_gdp\": 43.083, \"non_annualized_gdp\": 1.1979423578324244}, {\"year\": 1981, \"quarter\": \"Q4\", \"real_gdp\": 42.613, \"non_annualized_gdp\": -1.090917531276835}, {\"year\": 1982, \"quarter\": \"Q1\", \"real_gdp\": 41.951, \"non_annualized_gdp\": -1.55351653251355}, {\"year\": 1982, \"quarter\": \"Q2\", \"real_gdp\": 42.143, \"non_annualized_gdp\": 0.45767681342518696}, {\"year\": 1982, \"quarter\": \"Q3\", \"real_gdp\": 41.982, \"non_annualized_gdp\": -0.38203260327931415}, {\"year\": 1982, \"quarter\": \"Q4\", \"real_gdp\": 41.998, \"non_annualized_gdp\": 0.03811157162593073}, {\"year\": 1983, \"quarter\": \"Q1\", \"real_gdp\": 42.552, \"non_annualized_gdp\": 1.3191104338301873}, {\"year\": 1983, \"quarter\": \"Q2\", \"real_gdp\": 43.52, \"non_annualized_gdp\": 2.2748636961835014}, {\"year\": 1983, \"quarter\": \"Q3\", \"real_gdp\": 44.39, \"non_annualized_gdp\": 1.9990808823529351}, {\"year\": 1983, \"quarter\": \"Q4\", \"real_gdp\": 45.316, \"non_annualized_gdp\": 2.0860554178869157}, {\"year\": 1984, \"quarter\": \"Q1\", \"real_gdp\": 46.202, \"non_annualized_gdp\": 1.9551593256244937}, {\"year\": 1984, \"quarter\": \"Q2\", \"real_gdp\": 47.0, \"non_annualized_gdp\": 1.727197956798411}, {\"year\": 1984, \"quarter\": \"Q3\", \"real_gdp\": 47.454, \"non_annualized_gdp\": 0.965957446808512}, {\"year\": 1984, \"quarter\": \"Q4\", \"real_gdp\": 47.843, \"non_annualized_gdp\": 0.8197412230791986}, {\"year\": 1985, \"quarter\": \"Q1\", \"real_gdp\": 48.307, \"non_annualized_gdp\": 0.9698388478983312}, {\"year\": 1985, \"quarter\": \"Q2\", \"real_gdp\": 48.732, \"non_annualized_gdp\": 0.8797896785144951}, {\"year\": 1985, \"quarter\": \"Q3\", \"real_gdp\": 49.476, \"non_annualized_gdp\": 1.526717557251908}, {\"year\": 1985, \"quarter\": \"Q4\", \"real_gdp\": 49.844, \"non_annualized_gdp\": 0.74379497129922}, {\"year\": 1986, \"quarter\": \"Q1\", \"real_gdp\": 50.309, \"non_annualized_gdp\": 0.9329106813257289}, {\"year\": 1986, \"quarter\": \"Q2\", \"real_gdp\": 50.536, \"non_annualized_gdp\": 0.45121151285059113}, {\"year\": 1986, \"quarter\": \"Q3\", \"real_gdp\": 51.02, \"non_annualized_gdp\": 0.9577331011556154}, {\"year\": 1986, \"quarter\": \"Q4\", \"real_gdp\": 51.294, \"non_annualized_gdp\": 0.5370442963543587}, {\"year\": 1987, \"quarter\": \"Q1\", \"real_gdp\": 51.676, \"non_annualized_gdp\": 0.7447264787304656}, {\"year\": 1987, \"quarter\": \"Q2\", \"real_gdp\": 52.233, \"non_annualized_gdp\": 1.0778698041643993}, {\"year\": 1987, \"quarter\": \"Q3\", \"real_gdp\": 52.686, \"non_annualized_gdp\": 0.8672678191947676}, {\"year\": 1987, \"quarter\": \"Q4\", \"real_gdp\": 53.591, \"non_annualized_gdp\": 1.7177238735147877}, {\"year\": 1988, \"quarter\": \"Q1\", \"real_gdp\": 53.868, \"non_annualized_gdp\": 0.5168778339646601}, {\"year\": 1988, \"quarter\": \"Q2\", \"real_gdp\": 54.576, \"non_annualized_gdp\": 1.3143239028736882}, {\"year\": 1988, \"quarter\": \"Q3\", \"real_gdp\": 54.896, \"non_annualized_gdp\": 0.5863383172090301}, {\"year\": 1988, \"quarter\": \"Q4\", \"real_gdp\": 55.627, \"non_annualized_gdp\": 1.3316088603905596}, {\"year\": 1989, \"quarter\": \"Q1\", \"real_gdp\": 56.193, \"non_annualized_gdp\": 1.0174915059233742}, {\"year\": 1989, \"quarter\": \"Q2\", \"real_gdp\": 56.621, \"non_annualized_gdp\": 0.7616607050700344}, {\"year\": 1989, \"quarter\": \"Q3\", \"real_gdp\": 57.041, \"non_annualized_gdp\": 0.7417742533688818}, {\"year\": 1989, \"quarter\": \"Q4\", \"real_gdp\": 57.153, \"non_annualized_gdp\": 0.196349993864066}, {\"year\": 1990, \"quarter\": \"Q1\", \"real_gdp\": 57.778, \"non_annualized_gdp\": 1.0935558938288454}, {\"year\": 1990, \"quarter\": \"Q2\", \"real_gdp\": 57.988, \"non_annualized_gdp\": 0.36346014053792247}, {\"year\": 1990, \"quarter\": \"Q3\", \"real_gdp\": 58.026, \"non_annualized_gdp\": 0.06553079947576018}, {\"year\": 1990, \"quarter\": \"Q4\", \"real_gdp\": 57.498, \"non_annualized_gdp\": -0.9099369248268118}, {\"year\": 1991, \"quarter\": \"Q1\", \"real_gdp\": 57.229, \"non_annualized_gdp\": -0.4678423597342488}, {\"year\": 1991, \"quarter\": \"Q2\", \"real_gdp\": 57.675, \"non_annualized_gdp\": 0.7793251673102762}, {\"year\": 1991, \"quarter\": \"Q3\", \"real_gdp\": 57.967, \"non_annualized_gdp\": 0.5062852188990058}, {\"year\": 1991, \"quarter\": \"Q4\", \"real_gdp\": 58.169, \"non_annualized_gdp\": 0.34847413183362635}, {\"year\": 1992, \"quarter\": \"Q1\", \"real_gdp\": 58.865, \"non_annualized_gdp\": 1.1965136069040296}, {\"year\": 1992, \"quarter\": \"Q2\", \"real_gdp\": 59.503, \"non_annualized_gdp\": 1.0838358956935328}, {\"year\": 1992, \"quarter\": \"Q3\", \"real_gdp\": 60.091, \"non_annualized_gdp\": 0.9881854696401878}, {\"year\": 1992, \"quarter\": \"Q4\", \"real_gdp\": 60.718, \"non_annualized_gdp\": 1.0434174834833876}, {\"year\": 1993, \"quarter\": \"Q1\", \"real_gdp\": 60.82, \"non_annualized_gdp\": 0.16798972298164755}, {\"year\": 1993, \"quarter\": \"Q2\", \"real_gdp\": 61.174, \"non_annualized_gdp\": 0.582045379809272}, {\"year\": 1993, \"quarter\": \"Q3\", \"real_gdp\": 61.466, \"non_annualized_gdp\": 0.47732696897374965}, {\"year\": 1993, \"quarter\": \"Q4\", \"real_gdp\": 62.302, \"non_annualized_gdp\": 1.360101519539255}, {\"year\": 1994, \"quarter\": \"Q1\", \"real_gdp\": 62.906, \"non_annualized_gdp\": 0.9694712850309768}, {\"year\": 1994, \"quarter\": \"Q2\", \"real_gdp\": 63.759, \"non_annualized_gdp\": 1.355991479350144}, {\"year\": 1994, \"quarter\": \"Q3\", \"real_gdp\": 64.131, \"non_annualized_gdp\": 0.5834470427704322}, {\"year\": 1994, \"quarter\": \"Q4\", \"real_gdp\": 64.866, \"non_annualized_gdp\": 1.1460915937690033}, {\"year\": 1995, \"quarter\": \"Q1\", \"real_gdp\": 65.096, \"non_annualized_gdp\": 0.3545771282335954}, {\"year\": 1995, \"quarter\": \"Q2\", \"real_gdp\": 65.29, \"non_annualized_gdp\": 0.2980213838023882}, {\"year\": 1995, \"quarter\": \"Q3\", \"real_gdp\": 65.846, \"non_annualized_gdp\": 0.8515852351049125}, {\"year\": 1995, \"quarter\": \"Q4\", \"real_gdp\": 66.293, \"non_annualized_gdp\": 0.6788567263007664}, {\"year\": 1996, \"quarter\": \"Q1\", \"real_gdp\": 66.789, \"non_annualized_gdp\": 0.7481936252696288}, {\"year\": 1996, \"quarter\": \"Q2\", \"real_gdp\": 67.903, \"non_annualized_gdp\": 1.6679393313270212}, {\"year\": 1996, \"quarter\": \"Q3\", \"real_gdp\": 68.513, \"non_annualized_gdp\": 0.898340279516368}, {\"year\": 1996, \"quarter\": \"Q4\", \"real_gdp\": 69.224, \"non_annualized_gdp\": 1.0377592573672128}, {\"year\": 1997, \"quarter\": \"Q1\", \"real_gdp\": 69.671, \"non_annualized_gdp\": 0.6457298046920182}, {\"year\": 1997, \"quarter\": \"Q2\", \"real_gdp\": 70.829, \"non_annualized_gdp\": 1.6620975728782232}, {\"year\": 1997, \"quarter\": \"Q3\", \"real_gdp\": 71.715, \"non_annualized_gdp\": 1.250900055062206}, {\"year\": 1997, \"quarter\": \"Q4\", \"real_gdp\": 72.331, \"non_annualized_gdp\": 0.8589555880917514}, {\"year\": 1998, \"quarter\": \"Q1\", \"real_gdp\": 73.054, \"non_annualized_gdp\": 0.9995714147460963}, {\"year\": 1998, \"quarter\": \"Q2\", \"real_gdp\": 73.73, \"non_annualized_gdp\": 0.9253428970350727}, {\"year\": 1998, \"quarter\": \"Q3\", \"real_gdp\": 74.653, \"non_annualized_gdp\": 1.2518649125186516}, {\"year\": 1998, \"quarter\": \"Q4\", \"real_gdp\": 75.86, \"non_annualized_gdp\": 1.6168137918100993}, {\"year\": 1999, \"quarter\": \"Q1\", \"real_gdp\": 76.578, \"non_annualized_gdp\": 0.946480358555238}, {\"year\": 1999, \"quarter\": \"Q2\", \"real_gdp\": 77.167, \"non_annualized_gdp\": 0.7691504087335771}, {\"year\": 1999, \"quarter\": \"Q3\", \"real_gdp\": 78.177, \"non_annualized_gdp\": 1.3088496377985475}, {\"year\": 1999, \"quarter\": \"Q4\", \"real_gdp\": 79.506, \"non_annualized_gdp\": 1.6999884876626032}, {\"year\": 2000, \"quarter\": \"Q1\", \"real_gdp\": 79.794, \"non_annualized_gdp\": 0.3622368123160475}, {\"year\": 2000, \"quarter\": \"Q2\", \"real_gdp\": 81.255, \"non_annualized_gdp\": 1.8309647341905388}, {\"year\": 2000, \"quarter\": \"Q3\", \"real_gdp\": 81.363, \"non_annualized_gdp\": 0.13291489754477154}, {\"year\": 2000, \"quarter\": \"Q4\", \"real_gdp\": 81.87, \"non_annualized_gdp\": 0.6231333652888967}, {\"year\": 2001, \"quarter\": \"Q1\", \"real_gdp\": 81.637, \"non_annualized_gdp\": -0.28459753267375604}, {\"year\": 2001, \"quarter\": \"Q2\", \"real_gdp\": 82.114, \"non_annualized_gdp\": 0.5842938863505566}, {\"year\": 2001, \"quarter\": \"Q3\", \"real_gdp\": 81.773, \"non_annualized_gdp\": -0.4152763231604941}, {\"year\": 2001, \"quarter\": \"Q4\", \"real_gdp\": 81.996, \"non_annualized_gdp\": 0.27270614995169434}, {\"year\": 2002, \"quarter\": \"Q1\", \"real_gdp\": 82.713, \"non_annualized_gdp\": 0.8744328991658115}, {\"year\": 2002, \"quarter\": \"Q2\", \"real_gdp\": 83.214, \"non_annualized_gdp\": 0.6057088970294934}, {\"year\": 2002, \"quarter\": \"Q3\", \"real_gdp\": 83.584, \"non_annualized_gdp\": 0.44463671978273434}, {\"year\": 2002, \"quarter\": \"Q4\", \"real_gdp\": 83.713, \"non_annualized_gdp\": 0.15433575803980507}, {\"year\": 2003, \"quarter\": \"Q1\", \"real_gdp\": 84.178, \"non_annualized_gdp\": 0.5554692819514334}, {\"year\": 2003, \"quarter\": \"Q2\", \"real_gdp\": 84.902, \"non_annualized_gdp\": 0.8600822067523627}, {\"year\": 2003, \"quarter\": \"Q3\", \"real_gdp\": 86.344, \"non_annualized_gdp\": 1.6984287767072541}, {\"year\": 2003, \"quarter\": \"Q4\", \"real_gdp\": 87.335, \"non_annualized_gdp\": 1.1477346428240522}, {\"year\": 2004, \"quarter\": \"Q1\", \"real_gdp\": 87.801, \"non_annualized_gdp\": 0.533577603480859}, {\"year\": 2004, \"quarter\": \"Q2\", \"real_gdp\": 88.47, \"non_annualized_gdp\": 0.7619503194724399}, {\"year\": 2004, \"quarter\": \"Q3\", \"real_gdp\": 89.307, \"non_annualized_gdp\": 0.9460834181078369}, {\"year\": 2004, \"quarter\": \"Q4\", \"real_gdp\": 90.201, \"non_annualized_gdp\": 1.001041351741735}, {\"year\": 2005, \"quarter\": \"Q1\", \"real_gdp\": 91.2, \"non_annualized_gdp\": 1.1075265240961958}, {\"year\": 2005, \"quarter\": \"Q2\", \"real_gdp\": 91.621, \"non_annualized_gdp\": 0.46162280701753533}, {\"year\": 2005, \"quarter\": \"Q3\", \"real_gdp\": 92.437, \"non_annualized_gdp\": 0.8906255116185181}, {\"year\": 2005, \"quarter\": \"Q4\", \"real_gdp\": 93.021, \"non_annualized_gdp\": 0.6317816458777363}, {\"year\": 2006, \"quarter\": \"Q1\", \"real_gdp\": 94.258, \"non_annualized_gdp\": 1.3298072478257543}, {\"year\": 2006, \"quarter\": \"Q2\", \"real_gdp\": 94.479, \"non_annualized_gdp\": 0.2344628572641088}, {\"year\": 2006, \"quarter\": \"Q3\", \"real_gdp\": 94.625, \"non_annualized_gdp\": 0.154531694873994}, {\"year\": 2006, \"quarter\": \"Q4\", \"real_gdp\": 95.431, \"non_annualized_gdp\": 0.8517833553500633}, {\"year\": 2007, \"quarter\": \"Q1\", \"real_gdp\": 95.655, \"non_annualized_gdp\": 0.23472456539280082}, {\"year\": 2007, \"quarter\": \"Q2\", \"real_gdp\": 96.203, \"non_annualized_gdp\": 0.5728921645496856}, {\"year\": 2007, \"quarter\": \"Q3\", \"real_gdp\": 96.726, \"non_annualized_gdp\": 0.5436420901635044}, {\"year\": 2007, \"quarter\": \"Q4\", \"real_gdp\": 97.314, \"non_annualized_gdp\": 0.6079027355623037}, {\"year\": 2008, \"quarter\": \"Q1\", \"real_gdp\": 96.755, \"non_annualized_gdp\": -0.5744291674373652}, {\"year\": 2008, \"quarter\": \"Q2\", \"real_gdp\": 97.254, \"non_annualized_gdp\": 0.5157356208981546}, {\"year\": 2008, \"quarter\": \"Q3\", \"real_gdp\": 96.728, \"non_annualized_gdp\": -0.540851790157742}, {\"year\": 2008, \"quarter\": \"Q4\", \"real_gdp\": 94.635, \"non_annualized_gdp\": -2.1637995203043476}, {\"year\": 2009, \"quarter\": \"Q1\", \"real_gdp\": 93.572, \"non_annualized_gdp\": -1.1232630633486578}, {\"year\": 2009, \"quarter\": \"Q2\", \"real_gdp\": 93.438, \"non_annualized_gdp\": -0.14320523233445936}, {\"year\": 2009, \"quarter\": \"Q3\", \"real_gdp\": 93.778, \"non_annualized_gdp\": 0.3638776514908318}, {\"year\": 2009, \"quarter\": \"Q4\", \"real_gdp\": 94.808, \"non_annualized_gdp\": 1.0983386295293152}, {\"year\": 2010, \"quarter\": \"Q1\", \"real_gdp\": 95.173, \"non_annualized_gdp\": 0.38498860855623457}, {\"year\": 2010, \"quarter\": \"Q2\", \"real_gdp\": 96.05, \"non_annualized_gdp\": 0.9214798314648012}, {\"year\": 2010, \"quarter\": \"Q3\", \"real_gdp\": 96.758, \"non_annualized_gdp\": 0.7371160853722003}, {\"year\": 2010, \"quarter\": \"Q4\", \"real_gdp\": 97.244, \"non_annualized_gdp\": 0.502284048864181}, {\"year\": 2011, \"quarter\": \"Q1\", \"real_gdp\": 97.01, \"non_annualized_gdp\": -0.24063181275965065}, {\"year\": 2011, \"quarter\": \"Q2\", \"real_gdp\": 97.704, \"non_annualized_gdp\": 0.7153901659622599}, {\"year\": 2011, \"quarter\": \"Q3\", \"real_gdp\": 97.677, \"non_annualized_gdp\": -0.027634487840811853}, {\"year\": 2011, \"quarter\": \"Q4\", \"real_gdp\": 98.809, \"non_annualized_gdp\": 1.1589217523060604}, {\"year\": 2012, \"quarter\": \"Q1\", \"real_gdp\": 99.583, \"non_annualized_gdp\": 0.7833294537946958}, {\"year\": 2012, \"quarter\": \"Q2\", \"real_gdp\": 100.011, \"non_annualized_gdp\": 0.4297922336141684}, {\"year\": 2012, \"quarter\": \"Q3\", \"real_gdp\": 100.146, \"non_annualized_gdp\": 0.13498515163332545}, {\"year\": 2012, \"quarter\": \"Q4\", \"real_gdp\": 100.26, \"non_annualized_gdp\": 0.11383380264813805}, {\"year\": 2013, \"quarter\": \"Q1\", \"real_gdp\": 101.148, \"non_annualized_gdp\": 0.8856971873129772}, {\"year\": 2013, \"quarter\": \"Q2\", \"real_gdp\": 101.273, \"non_annualized_gdp\": 0.12358128682722347}, {\"year\": 2013, \"quarter\": \"Q3\", \"real_gdp\": 102.066, \"non_annualized_gdp\": 0.7830320026068215}, {\"year\": 2013, \"quarter\": \"Q4\", \"real_gdp\": 102.881, \"non_annualized_gdp\": 0.7985029294770029}, {\"year\": 2014, \"quarter\": \"Q1\", \"real_gdp\": 102.59, \"non_annualized_gdp\": -0.2828510609344746}, {\"year\": 2014, \"quarter\": \"Q2\", \"real_gdp\": 103.979, \"non_annualized_gdp\": 1.3539331318841952}, {\"year\": 2014, \"quarter\": \"Q3\", \"real_gdp\": 105.248, \"non_annualized_gdp\": 1.2204387424383822}, {\"year\": 2014, \"quarter\": \"Q4\", \"real_gdp\": 105.841, \"non_annualized_gdp\": 0.5634311340832978}, {\"year\": 2015, \"quarter\": \"Q1\", \"real_gdp\": 106.845, \"non_annualized_gdp\": 0.9485927003713164}, {\"year\": 2015, \"quarter\": \"Q2\", \"real_gdp\": 107.568, \"non_annualized_gdp\": 0.6766811736627816}, {\"year\": 2015, \"quarter\": \"Q3\", \"real_gdp\": 107.958, \"non_annualized_gdp\": 0.3625613565372607}, {\"year\": 2015, \"quarter\": \"Q4\", \"real_gdp\": 108.131, \"non_annualized_gdp\": 0.16024750365883197}, {\"year\": 2016, \"quarter\": \"Q1\", \"real_gdp\": 108.744, \"non_annualized_gdp\": 0.5669049578751695}, {\"year\": 2016, \"quarter\": \"Q2\", \"real_gdp\": 109.083, \"non_annualized_gdp\": 0.3117413374530996}, {\"year\": 2016, \"quarter\": \"Q3\", \"real_gdp\": 109.677, \"non_annualized_gdp\": 0.5445394791122432}, {\"year\": 2016, \"quarter\": \"Q4\", \"real_gdp\": 110.367, \"non_annualized_gdp\": 0.6291200525178458}, {\"year\": 2017, \"quarter\": \"Q1\", \"real_gdp\": 110.991, \"non_annualized_gdp\": 0.5653863926717182}, {\"year\": 2017, \"quarter\": \"Q2\", \"real_gdp\": 111.465, \"non_annualized_gdp\": 0.4270616536475964}, {\"year\": 2017, \"quarter\": \"Q3\", \"real_gdp\": 112.278, \"non_annualized_gdp\": 0.7293769344637351}, {\"year\": 2017, \"quarter\": \"Q4\", \"real_gdp\": 113.351, \"non_annualized_gdp\": 0.955663620655866}, {\"year\": 2018, \"quarter\": \"Q1\", \"real_gdp\": 114.407, \"non_annualized_gdp\": 0.9316194828453188}, {\"year\": 2018, \"quarter\": \"Q2\", \"real_gdp\": 115.172, \"non_annualized_gdp\": 0.6686653788666783}, {\"year\": 2018, \"quarter\": \"Q3\", \"real_gdp\": 115.777, \"non_annualized_gdp\": 0.5253012885076269}, {\"year\": 2018, \"quarter\": \"Q4\", \"real_gdp\": 116.157, \"non_annualized_gdp\": 0.32821717612306023}, {\"year\": 2019, \"quarter\": \"Q1\", \"real_gdp\": 116.999, \"non_annualized_gdp\": 0.7248809800528585}, {\"year\": 2019, \"quarter\": \"Q2\", \"real_gdp\": 117.433, \"non_annualized_gdp\": 0.3709433413960903}, {\"year\": 2019, \"quarter\": \"Q3\", \"real_gdp\": 118.181, \"non_annualized_gdp\": 0.6369589468037012}, {\"year\": 2019, \"quarter\": \"Q4\", \"real_gdp\": 118.874, \"non_annualized_gdp\": 0.5863886749985174}, {\"year\": 2020, \"quarter\": \"Q1\", \"real_gdp\": 117.373, \"non_annualized_gdp\": -1.2626814946918508}, {\"year\": 2020, \"quarter\": \"Q2\", \"real_gdp\": 106.228, \"non_annualized_gdp\": -9.495369463164451}]}}, {\"actions\": false, \"mode\": \"vega-lite\"});\n",
       "</script>"
      ],
      "text/plain": [
       "alt.Chart(...)"
      ]
     },
     "execution_count": 107,
     "metadata": {},
     "output_type": "execute_result"
    }
   ],
   "source": [
    "alt.Chart(usa_gdp).mark_bar(width=3.25).encode(\n",
    "    x=alt.X('quarter:O', title=None, axis=alt.Axis(labels=False, ticks=False)),\n",
    "    y='real_gdp:Q',\n",
    "    column=alt.Facet('year:O', spacing=0, header=alt.Header(labels=False, title=None)),\n",
    "    #detail='quarter:N',\n",
    "    color=alt.condition(alt.datum.non_annualized_gdp > 0, alt.value('#76a4a5'), alt.value('#d0573a'))\n",
    ").configure_axis(grid=True).configure_view(strokeWidth=0, step=4)"
   ]
  },
  {
   "cell_type": "markdown",
   "metadata": {},
   "source": [
    "Finally let's plot the non-annualized GDP. We will see that it's no longer close to -30 but to -10, just like the chart in the article."
   ]
  },
  {
   "cell_type": "code",
   "execution_count": 108,
   "metadata": {},
   "outputs": [
    {
     "data": {
      "text/html": [
       "\n",
       "<div id=\"altair-viz-a3dd0ba8d26549ffa4ebb3c8f9bf7ecb\"></div>\n",
       "<script type=\"text/javascript\">\n",
       "  (function(spec, embedOpt){\n",
       "    let outputDiv = document.currentScript.previousElementSibling;\n",
       "    if (outputDiv.id !== \"altair-viz-a3dd0ba8d26549ffa4ebb3c8f9bf7ecb\") {\n",
       "      outputDiv = document.getElementById(\"altair-viz-a3dd0ba8d26549ffa4ebb3c8f9bf7ecb\");\n",
       "    }\n",
       "    const paths = {\n",
       "      \"vega\": \"https://cdn.jsdelivr.net/npm//vega@5?noext\",\n",
       "      \"vega-lib\": \"https://cdn.jsdelivr.net/npm//vega-lib?noext\",\n",
       "      \"vega-lite\": \"https://cdn.jsdelivr.net/npm//vega-lite@4.8.1?noext\",\n",
       "      \"vega-embed\": \"https://cdn.jsdelivr.net/npm//vega-embed@6?noext\",\n",
       "    };\n",
       "\n",
       "    function loadScript(lib) {\n",
       "      return new Promise(function(resolve, reject) {\n",
       "        var s = document.createElement('script');\n",
       "        s.src = paths[lib];\n",
       "        s.async = true;\n",
       "        s.onload = () => resolve(paths[lib]);\n",
       "        s.onerror = () => reject(`Error loading script: ${paths[lib]}`);\n",
       "        document.getElementsByTagName(\"head\")[0].appendChild(s);\n",
       "      });\n",
       "    }\n",
       "\n",
       "    function showError(err) {\n",
       "      outputDiv.innerHTML = `<div class=\"error\" style=\"color:red;\">${err}</div>`;\n",
       "      throw err;\n",
       "    }\n",
       "\n",
       "    function displayChart(vegaEmbed) {\n",
       "      vegaEmbed(outputDiv, spec, embedOpt)\n",
       "        .catch(err => showError(`Javascript Error: ${err.message}<br>This usually means there's a typo in your chart specification. See the javascript console for the full traceback.`));\n",
       "    }\n",
       "\n",
       "    if(typeof define === \"function\" && define.amd) {\n",
       "      requirejs.config({paths});\n",
       "      require([\"vega-embed\"], displayChart, err => showError(`Error loading script: ${err.message}`));\n",
       "    } else if (typeof vegaEmbed === \"function\") {\n",
       "      displayChart(vegaEmbed);\n",
       "    } else {\n",
       "      loadScript(\"vega\")\n",
       "        .then(() => loadScript(\"vega-lite\"))\n",
       "        .then(() => loadScript(\"vega-embed\"))\n",
       "        .catch(showError)\n",
       "        .then(() => displayChart(vegaEmbed));\n",
       "    }\n",
       "  })({\"config\": {\"view\": {\"continuousWidth\": 400, \"continuousHeight\": 300, \"step\": 4, \"strokeWidth\": 0}, \"axis\": {\"grid\": false}}, \"data\": {\"name\": \"data-0b495975e1ca313988d800b5612785fc\"}, \"mark\": {\"type\": \"bar\", \"width\": 3.25}, \"encoding\": {\"color\": {\"condition\": {\"value\": \"#76a4a5\", \"test\": \"(datum.non_annualized_gdp > 0)\"}, \"value\": \"#d0573a\"}, \"column\": {\"type\": \"ordinal\", \"field\": \"year\", \"header\": {\"labels\": false, \"title\": null}, \"spacing\": 0}, \"x\": {\"type\": \"ordinal\", \"axis\": {\"labels\": false, \"ticks\": false}, \"field\": \"quarter\", \"title\": null}, \"y\": {\"type\": \"quantitative\", \"field\": \"non_annualized_gdp\"}}, \"$schema\": \"https://vega.github.io/schema/vega-lite/v4.8.1.json\", \"datasets\": {\"data-0b495975e1ca313988d800b5612785fc\": [{\"year\": 1947, \"quarter\": \"Q1\", \"real_gdp\": 12.552, \"non_annualized_gdp\": null}, {\"year\": 1947, \"quarter\": \"Q2\", \"real_gdp\": 12.519, \"non_annualized_gdp\": -0.2629063097514298}, {\"year\": 1947, \"quarter\": \"Q3\", \"real_gdp\": 12.493, \"non_annualized_gdp\": -0.20768431983385094}, {\"year\": 1947, \"quarter\": \"Q4\", \"real_gdp\": 12.688, \"non_annualized_gdp\": 1.5608740894901167}, {\"year\": 1948, \"quarter\": \"Q1\", \"real_gdp\": 12.879, \"non_annualized_gdp\": 1.5053593947036485}, {\"year\": 1948, \"quarter\": \"Q2\", \"real_gdp\": 13.092, \"non_annualized_gdp\": 1.6538551129746175}, {\"year\": 1948, \"quarter\": \"Q3\", \"real_gdp\": 13.167, \"non_annualized_gdp\": 0.572868927589362}, {\"year\": 1948, \"quarter\": \"Q4\", \"real_gdp\": 13.181, \"non_annualized_gdp\": 0.10632642211589084}, {\"year\": 1949, \"quarter\": \"Q1\", \"real_gdp\": 13.0, \"non_annualized_gdp\": -1.3731886806767255}, {\"year\": 1949, \"quarter\": \"Q2\", \"real_gdp\": 12.955, \"non_annualized_gdp\": -0.3461538461538456}, {\"year\": 1949, \"quarter\": \"Q3\", \"real_gdp\": 13.089, \"non_annualized_gdp\": 1.034349671941338}, {\"year\": 1949, \"quarter\": \"Q4\", \"real_gdp\": 12.979, \"non_annualized_gdp\": -0.8404003361601436}, {\"year\": 1950, \"quarter\": \"Q1\", \"real_gdp\": 13.489, \"non_annualized_gdp\": 3.9294244548886788}, {\"year\": 1950, \"quarter\": \"Q2\", \"real_gdp\": 13.901, \"non_annualized_gdp\": 3.0543405738008675}, {\"year\": 1950, \"quarter\": \"Q3\", \"real_gdp\": 14.438, \"non_annualized_gdp\": 3.8630314365873017}, {\"year\": 1950, \"quarter\": \"Q4\", \"real_gdp\": 14.714, \"non_annualized_gdp\": 1.9116221083252511}, {\"year\": 1951, \"quarter\": \"Q1\", \"real_gdp\": 14.914, \"non_annualized_gdp\": 1.359249694168814}, {\"year\": 1951, \"quarter\": \"Q2\", \"real_gdp\": 15.173, \"non_annualized_gdp\": 1.7366233069599057}, {\"year\": 1951, \"quarter\": \"Q3\", \"real_gdp\": 15.485, \"non_annualized_gdp\": 2.0562841890199657}, {\"year\": 1951, \"quarter\": \"Q4\", \"real_gdp\": 15.519, \"non_annualized_gdp\": 0.21956732321602}, {\"year\": 1952, \"quarter\": \"Q1\", \"real_gdp\": 15.685, \"non_annualized_gdp\": 1.0696565500354427}, {\"year\": 1952, \"quarter\": \"Q2\", \"real_gdp\": 15.719, \"non_annualized_gdp\": 0.21676761236849806}, {\"year\": 1952, \"quarter\": \"Q3\", \"real_gdp\": 15.833, \"non_annualized_gdp\": 0.7252369743622417}, {\"year\": 1952, \"quarter\": \"Q4\", \"real_gdp\": 16.353, \"non_annualized_gdp\": 3.284279669045673}, {\"year\": 1953, \"quarter\": \"Q1\", \"real_gdp\": 16.657, \"non_annualized_gdp\": 1.858986118754959}, {\"year\": 1953, \"quarter\": \"Q2\", \"real_gdp\": 16.785, \"non_annualized_gdp\": 0.7684456985051337}, {\"year\": 1953, \"quarter\": \"Q3\", \"real_gdp\": 16.691, \"non_annualized_gdp\": -0.5600238308013178}, {\"year\": 1953, \"quarter\": \"Q4\", \"real_gdp\": 16.438, \"non_annualized_gdp\": -1.5157869510514657}, {\"year\": 1954, \"quarter\": \"Q1\", \"real_gdp\": 16.36, \"non_annualized_gdp\": -0.474510281056086}, {\"year\": 1954, \"quarter\": \"Q2\", \"real_gdp\": 16.377, \"non_annualized_gdp\": 0.1039119804400945}, {\"year\": 1954, \"quarter\": \"Q3\", \"real_gdp\": 16.562, \"non_annualized_gdp\": 1.1296330219210007}, {\"year\": 1954, \"quarter\": \"Q4\", \"real_gdp\": 16.886, \"non_annualized_gdp\": 1.9562854727689774}, {\"year\": 1955, \"quarter\": \"Q1\", \"real_gdp\": 17.369, \"non_annualized_gdp\": 2.8603576927632393}, {\"year\": 1955, \"quarter\": \"Q2\", \"real_gdp\": 17.651, \"non_annualized_gdp\": 1.6235822442282228}, {\"year\": 1955, \"quarter\": \"Q3\", \"real_gdp\": 17.89, \"non_annualized_gdp\": 1.3540309330916138}, {\"year\": 1955, \"quarter\": \"Q4\", \"real_gdp\": 17.997, \"non_annualized_gdp\": 0.598099496925653}, {\"year\": 1956, \"quarter\": \"Q1\", \"real_gdp\": 17.927, \"non_annualized_gdp\": -0.3889537145079751}, {\"year\": 1956, \"quarter\": \"Q2\", \"real_gdp\": 18.075, \"non_annualized_gdp\": 0.8255703687175752}, {\"year\": 1956, \"quarter\": \"Q3\", \"real_gdp\": 18.059, \"non_annualized_gdp\": -0.08852005532502483}, {\"year\": 1956, \"quarter\": \"Q4\", \"real_gdp\": 18.356, \"non_annualized_gdp\": 1.644609336065123}, {\"year\": 1957, \"quarter\": \"Q1\", \"real_gdp\": 18.474, \"non_annualized_gdp\": 0.6428415776857624}, {\"year\": 1957, \"quarter\": \"Q2\", \"real_gdp\": 18.433, \"non_annualized_gdp\": -0.22193352820179912}, {\"year\": 1957, \"quarter\": \"Q3\", \"real_gdp\": 18.614, \"non_annualized_gdp\": 0.9819345738621003}, {\"year\": 1957, \"quarter\": \"Q4\", \"real_gdp\": 18.421, \"non_annualized_gdp\": -1.036853980874618}, {\"year\": 1958, \"quarter\": \"Q1\", \"real_gdp\": 17.943, \"non_annualized_gdp\": -2.5948645567558657}, {\"year\": 1958, \"quarter\": \"Q2\", \"real_gdp\": 18.061, \"non_annualized_gdp\": 0.657638076129959}, {\"year\": 1958, \"quarter\": \"Q3\", \"real_gdp\": 18.479, \"non_annualized_gdp\": 2.3143790487791334}, {\"year\": 1958, \"quarter\": \"Q4\", \"real_gdp\": 18.911, \"non_annualized_gdp\": 2.3377888413875327}, {\"year\": 1959, \"quarter\": \"Q1\", \"real_gdp\": 19.275, \"non_annualized_gdp\": 1.9248056686584378}, {\"year\": 1959, \"quarter\": \"Q2\", \"real_gdp\": 19.71, \"non_annualized_gdp\": 2.2568093385214127}, {\"year\": 1959, \"quarter\": \"Q3\", \"real_gdp\": 19.724, \"non_annualized_gdp\": 0.07102993404362935}, {\"year\": 1959, \"quarter\": \"Q4\", \"real_gdp\": 19.78, \"non_annualized_gdp\": 0.2839180693571331}, {\"year\": 1960, \"quarter\": \"Q1\", \"real_gdp\": 20.224, \"non_annualized_gdp\": 2.244691607684525}, {\"year\": 1960, \"quarter\": \"Q2\", \"real_gdp\": 20.115, \"non_annualized_gdp\": -0.5389636075949454}, {\"year\": 1960, \"quarter\": \"Q3\", \"real_gdp\": 20.214, \"non_annualized_gdp\": 0.4921700223713657}, {\"year\": 1960, \"quarter\": \"Q4\", \"real_gdp\": 19.954, \"non_annualized_gdp\": -1.286237261304037}, {\"year\": 1961, \"quarter\": \"Q1\", \"real_gdp\": 20.089, \"non_annualized_gdp\": 0.6765560789816478}, {\"year\": 1961, \"quarter\": \"Q2\", \"real_gdp\": 20.43, \"non_annualized_gdp\": 1.6974463636816224}, {\"year\": 1961, \"quarter\": \"Q3\", \"real_gdp\": 20.822, \"non_annualized_gdp\": 1.91874694077337}, {\"year\": 1961, \"quarter\": \"Q4\", \"real_gdp\": 21.231, \"non_annualized_gdp\": 1.9642685620977933}, {\"year\": 1962, \"quarter\": \"Q1\", \"real_gdp\": 21.609, \"non_annualized_gdp\": 1.7804154302670627}, {\"year\": 1962, \"quarter\": \"Q2\", \"real_gdp\": 21.805, \"non_annualized_gdp\": 0.9070294784580404}, {\"year\": 1962, \"quarter\": \"Q3\", \"real_gdp\": 22.072, \"non_annualized_gdp\": 1.224489795918365}, {\"year\": 1962, \"quarter\": \"Q4\", \"real_gdp\": 22.145, \"non_annualized_gdp\": 0.33073577383110003}, {\"year\": 1963, \"quarter\": \"Q1\", \"real_gdp\": 22.387, \"non_annualized_gdp\": 1.0927974712124673}, {\"year\": 1963, \"quarter\": \"Q2\", \"real_gdp\": 22.638, \"non_annualized_gdp\": 1.1211864028230722}, {\"year\": 1963, \"quarter\": \"Q3\", \"real_gdp\": 23.136, \"non_annualized_gdp\": 2.1998409753511683}, {\"year\": 1963, \"quarter\": \"Q4\", \"real_gdp\": 23.287, \"non_annualized_gdp\": 0.6526625172890724}, {\"year\": 1964, \"quarter\": \"Q1\", \"real_gdp\": 23.778, \"non_annualized_gdp\": 2.108472538326103}, {\"year\": 1964, \"quarter\": \"Q2\", \"real_gdp\": 24.037, \"non_annualized_gdp\": 1.0892421566153603}, {\"year\": 1964, \"quarter\": \"Q3\", \"real_gdp\": 24.413, \"non_annualized_gdp\": 1.564255106710493}, {\"year\": 1964, \"quarter\": \"Q4\", \"real_gdp\": 24.488, \"non_annualized_gdp\": 0.30721336992585624}, {\"year\": 1965, \"quarter\": \"Q1\", \"real_gdp\": 25.081, \"non_annualized_gdp\": 2.421594250245018}, {\"year\": 1965, \"quarter\": \"Q2\", \"real_gdp\": 25.397, \"non_annualized_gdp\": 1.259917866113787}, {\"year\": 1965, \"quarter\": \"Q3\", \"real_gdp\": 25.962, \"non_annualized_gdp\": 2.2246722053785932}, {\"year\": 1965, \"quarter\": \"Q4\", \"real_gdp\": 26.56, \"non_annualized_gdp\": 2.3033664586703604}, {\"year\": 1966, \"quarter\": \"Q1\", \"real_gdp\": 27.207, \"non_annualized_gdp\": 2.435993975903622}, {\"year\": 1966, \"quarter\": \"Q2\", \"real_gdp\": 27.3, \"non_annualized_gdp\": 0.34182379534678564}, {\"year\": 1966, \"quarter\": \"Q3\", \"real_gdp\": 27.531, \"non_annualized_gdp\": 0.8461538461538392}, {\"year\": 1966, \"quarter\": \"Q4\", \"real_gdp\": 27.757, \"non_annualized_gdp\": 0.8208928117395033}, {\"year\": 1967, \"quarter\": \"Q1\", \"real_gdp\": 28.003, \"non_annualized_gdp\": 0.8862629246676466}, {\"year\": 1967, \"quarter\": \"Q2\", \"real_gdp\": 28.02, \"non_annualized_gdp\": 0.060707781309143526}, {\"year\": 1967, \"quarter\": \"Q3\", \"real_gdp\": 28.285, \"non_annualized_gdp\": 0.9457530335474682}, {\"year\": 1967, \"quarter\": \"Q4\", \"real_gdp\": 28.498, \"non_annualized_gdp\": 0.7530493194272617}, {\"year\": 1968, \"quarter\": \"Q1\", \"real_gdp\": 29.079, \"non_annualized_gdp\": 2.038739560670922}, {\"year\": 1968, \"quarter\": \"Q2\", \"real_gdp\": 29.565, \"non_annualized_gdp\": 1.6713091922005592}, {\"year\": 1968, \"quarter\": \"Q3\", \"real_gdp\": 29.794, \"non_annualized_gdp\": 0.7745645188567536}, {\"year\": 1968, \"quarter\": \"Q4\", \"real_gdp\": 29.912, \"non_annualized_gdp\": 0.39605289655634873}, {\"year\": 1969, \"quarter\": \"Q1\", \"real_gdp\": 30.38, \"non_annualized_gdp\": 1.5645894624231076}, {\"year\": 1969, \"quarter\": \"Q2\", \"real_gdp\": 30.472, \"non_annualized_gdp\": 0.3028308097432597}, {\"year\": 1969, \"quarter\": \"Q3\", \"real_gdp\": 30.673, \"non_annualized_gdp\": 0.6596219480178425}, {\"year\": 1969, \"quarter\": \"Q4\", \"real_gdp\": 30.524, \"non_annualized_gdp\": -0.48576924330843857}, {\"year\": 1970, \"quarter\": \"Q1\", \"real_gdp\": 30.478, \"non_annualized_gdp\": -0.15070108766871765}, {\"year\": 1970, \"quarter\": \"Q2\", \"real_gdp\": 30.522, \"non_annualized_gdp\": 0.14436642824331297}, {\"year\": 1970, \"quarter\": \"Q3\", \"real_gdp\": 30.803, \"non_annualized_gdp\": 0.9206474018740658}, {\"year\": 1970, \"quarter\": \"Q4\", \"real_gdp\": 30.473, \"non_annualized_gdp\": -1.0713242216667267}, {\"year\": 1971, \"quarter\": \"Q1\", \"real_gdp\": 31.301, \"non_annualized_gdp\": 2.717159452630195}, {\"year\": 1971, \"quarter\": \"Q2\", \"real_gdp\": 31.47, \"non_annualized_gdp\": 0.5399188524328312}, {\"year\": 1971, \"quarter\": \"Q3\", \"real_gdp\": 31.729, \"non_annualized_gdp\": 0.8230060374960291}, {\"year\": 1971, \"quarter\": \"Q4\", \"real_gdp\": 31.804, \"non_annualized_gdp\": 0.2363768161618686}, {\"year\": 1972, \"quarter\": \"Q1\", \"real_gdp\": 32.389, \"non_annualized_gdp\": 1.8393912715381853}, {\"year\": 1972, \"quarter\": \"Q2\", \"real_gdp\": 33.124, \"non_annualized_gdp\": 2.269288956127078}, {\"year\": 1972, \"quarter\": \"Q3\", \"real_gdp\": 33.436, \"non_annualized_gdp\": 0.9419152276295062}, {\"year\": 1972, \"quarter\": \"Q4\", \"real_gdp\": 33.996, \"non_annualized_gdp\": 1.6748414882163005}, {\"year\": 1973, \"quarter\": \"Q1\", \"real_gdp\": 34.838, \"non_annualized_gdp\": 2.4767619719967016}, {\"year\": 1973, \"quarter\": \"Q2\", \"real_gdp\": 35.217, \"non_annualized_gdp\": 1.0878925311441465}, {\"year\": 1973, \"quarter\": \"Q3\", \"real_gdp\": 35.032, \"non_annualized_gdp\": -0.5253144788028573}, {\"year\": 1973, \"quarter\": \"Q4\", \"real_gdp\": 35.364, \"non_annualized_gdp\": 0.9477049554692875}, {\"year\": 1974, \"quarter\": \"Q1\", \"real_gdp\": 35.06, \"non_annualized_gdp\": -0.8596312634317242}, {\"year\": 1974, \"quarter\": \"Q2\", \"real_gdp\": 35.144, \"non_annualized_gdp\": 0.2395892755276557}, {\"year\": 1974, \"quarter\": \"Q3\", \"real_gdp\": 34.811, \"non_annualized_gdp\": -0.9475301616207558}, {\"year\": 1974, \"quarter\": \"Q4\", \"real_gdp\": 34.676, \"non_annualized_gdp\": -0.38780845135157854}, {\"year\": 1975, \"quarter\": \"Q1\", \"real_gdp\": 34.254, \"non_annualized_gdp\": -1.2169800438343643}, {\"year\": 1975, \"quarter\": \"Q2\", \"real_gdp\": 34.499, \"non_annualized_gdp\": 0.7152449348981275}, {\"year\": 1975, \"quarter\": \"Q3\", \"real_gdp\": 35.089, \"non_annualized_gdp\": 1.710194498391247}, {\"year\": 1975, \"quarter\": \"Q4\", \"real_gdp\": 35.562, \"non_annualized_gdp\": 1.3480007979708712}, {\"year\": 1976, \"quarter\": \"Q1\", \"real_gdp\": 36.362, \"non_annualized_gdp\": 2.2495922614026327}, {\"year\": 1976, \"quarter\": \"Q2\", \"real_gdp\": 36.628, \"non_annualized_gdp\": 0.7315329189813493}, {\"year\": 1976, \"quarter\": \"Q3\", \"real_gdp\": 36.829, \"non_annualized_gdp\": 0.5487605110844177}, {\"year\": 1976, \"quarter\": \"Q4\", \"real_gdp\": 37.096, \"non_annualized_gdp\": 0.7249721686714162}, {\"year\": 1977, \"quarter\": \"Q1\", \"real_gdp\": 37.535, \"non_annualized_gdp\": 1.1834160017252535}, {\"year\": 1977, \"quarter\": \"Q2\", \"real_gdp\": 38.264, \"non_annualized_gdp\": 1.9421872918609469}, {\"year\": 1977, \"quarter\": \"Q3\", \"real_gdp\": 38.955, \"non_annualized_gdp\": 1.8058749738657625}, {\"year\": 1977, \"quarter\": \"Q4\", \"real_gdp\": 38.956, \"non_annualized_gdp\": 0.0025670645616859837}, {\"year\": 1978, \"quarter\": \"Q1\", \"real_gdp\": 39.08, \"non_annualized_gdp\": 0.3183078344799138}, {\"year\": 1978, \"quarter\": \"Q2\", \"real_gdp\": 40.59, \"non_annualized_gdp\": 3.8638689866939746}, {\"year\": 1978, \"quarter\": \"Q3\", \"real_gdp\": 40.998, \"non_annualized_gdp\": 1.005173688100503}, {\"year\": 1978, \"quarter\": \"Q4\", \"real_gdp\": 41.549, \"non_annualized_gdp\": 1.3439679984389532}, {\"year\": 1979, \"quarter\": \"Q1\", \"real_gdp\": 41.624, \"non_annualized_gdp\": 0.18050975956100712}, {\"year\": 1979, \"quarter\": \"Q2\", \"real_gdp\": 41.669, \"non_annualized_gdp\": 0.108110705362278}, {\"year\": 1979, \"quarter\": \"Q3\", \"real_gdp\": 41.978, \"non_annualized_gdp\": 0.7415584727255384}, {\"year\": 1979, \"quarter\": \"Q4\", \"real_gdp\": 42.083, \"non_annualized_gdp\": 0.25013102101099827}, {\"year\": 1980, \"quarter\": \"Q1\", \"real_gdp\": 42.215, \"non_annualized_gdp\": 0.31366585081863224}, {\"year\": 1980, \"quarter\": \"Q2\", \"real_gdp\": 41.346, \"non_annualized_gdp\": -2.058510008290908}, {\"year\": 1980, \"quarter\": \"Q3\", \"real_gdp\": 41.296, \"non_annualized_gdp\": -0.12093068253276534}, {\"year\": 1980, \"quarter\": \"Q4\", \"real_gdp\": 42.067, \"non_annualized_gdp\": 1.8670089112747017}, {\"year\": 1981, \"quarter\": \"Q1\", \"real_gdp\": 42.891, \"non_annualized_gdp\": 1.9587800413625838}, {\"year\": 1981, \"quarter\": \"Q2\", \"real_gdp\": 42.573, \"non_annualized_gdp\": -0.7414142827166489}, {\"year\": 1981, \"quarter\": \"Q3\", \"real_gdp\": 43.083, \"non_annualized_gdp\": 1.1979423578324244}, {\"year\": 1981, \"quarter\": \"Q4\", \"real_gdp\": 42.613, \"non_annualized_gdp\": -1.090917531276835}, {\"year\": 1982, \"quarter\": \"Q1\", \"real_gdp\": 41.951, \"non_annualized_gdp\": -1.55351653251355}, {\"year\": 1982, \"quarter\": \"Q2\", \"real_gdp\": 42.143, \"non_annualized_gdp\": 0.45767681342518696}, {\"year\": 1982, \"quarter\": \"Q3\", \"real_gdp\": 41.982, \"non_annualized_gdp\": -0.38203260327931415}, {\"year\": 1982, \"quarter\": \"Q4\", \"real_gdp\": 41.998, \"non_annualized_gdp\": 0.03811157162593073}, {\"year\": 1983, \"quarter\": \"Q1\", \"real_gdp\": 42.552, \"non_annualized_gdp\": 1.3191104338301873}, {\"year\": 1983, \"quarter\": \"Q2\", \"real_gdp\": 43.52, \"non_annualized_gdp\": 2.2748636961835014}, {\"year\": 1983, \"quarter\": \"Q3\", \"real_gdp\": 44.39, \"non_annualized_gdp\": 1.9990808823529351}, {\"year\": 1983, \"quarter\": \"Q4\", \"real_gdp\": 45.316, \"non_annualized_gdp\": 2.0860554178869157}, {\"year\": 1984, \"quarter\": \"Q1\", \"real_gdp\": 46.202, \"non_annualized_gdp\": 1.9551593256244937}, {\"year\": 1984, \"quarter\": \"Q2\", \"real_gdp\": 47.0, \"non_annualized_gdp\": 1.727197956798411}, {\"year\": 1984, \"quarter\": \"Q3\", \"real_gdp\": 47.454, \"non_annualized_gdp\": 0.965957446808512}, {\"year\": 1984, \"quarter\": \"Q4\", \"real_gdp\": 47.843, \"non_annualized_gdp\": 0.8197412230791986}, {\"year\": 1985, \"quarter\": \"Q1\", \"real_gdp\": 48.307, \"non_annualized_gdp\": 0.9698388478983312}, {\"year\": 1985, \"quarter\": \"Q2\", \"real_gdp\": 48.732, \"non_annualized_gdp\": 0.8797896785144951}, {\"year\": 1985, \"quarter\": \"Q3\", \"real_gdp\": 49.476, \"non_annualized_gdp\": 1.526717557251908}, {\"year\": 1985, \"quarter\": \"Q4\", \"real_gdp\": 49.844, \"non_annualized_gdp\": 0.74379497129922}, {\"year\": 1986, \"quarter\": \"Q1\", \"real_gdp\": 50.309, \"non_annualized_gdp\": 0.9329106813257289}, {\"year\": 1986, \"quarter\": \"Q2\", \"real_gdp\": 50.536, \"non_annualized_gdp\": 0.45121151285059113}, {\"year\": 1986, \"quarter\": \"Q3\", \"real_gdp\": 51.02, \"non_annualized_gdp\": 0.9577331011556154}, {\"year\": 1986, \"quarter\": \"Q4\", \"real_gdp\": 51.294, \"non_annualized_gdp\": 0.5370442963543587}, {\"year\": 1987, \"quarter\": \"Q1\", \"real_gdp\": 51.676, \"non_annualized_gdp\": 0.7447264787304656}, {\"year\": 1987, \"quarter\": \"Q2\", \"real_gdp\": 52.233, \"non_annualized_gdp\": 1.0778698041643993}, {\"year\": 1987, \"quarter\": \"Q3\", \"real_gdp\": 52.686, \"non_annualized_gdp\": 0.8672678191947676}, {\"year\": 1987, \"quarter\": \"Q4\", \"real_gdp\": 53.591, \"non_annualized_gdp\": 1.7177238735147877}, {\"year\": 1988, \"quarter\": \"Q1\", \"real_gdp\": 53.868, \"non_annualized_gdp\": 0.5168778339646601}, {\"year\": 1988, \"quarter\": \"Q2\", \"real_gdp\": 54.576, \"non_annualized_gdp\": 1.3143239028736882}, {\"year\": 1988, \"quarter\": \"Q3\", \"real_gdp\": 54.896, \"non_annualized_gdp\": 0.5863383172090301}, {\"year\": 1988, \"quarter\": \"Q4\", \"real_gdp\": 55.627, \"non_annualized_gdp\": 1.3316088603905596}, {\"year\": 1989, \"quarter\": \"Q1\", \"real_gdp\": 56.193, \"non_annualized_gdp\": 1.0174915059233742}, {\"year\": 1989, \"quarter\": \"Q2\", \"real_gdp\": 56.621, \"non_annualized_gdp\": 0.7616607050700344}, {\"year\": 1989, \"quarter\": \"Q3\", \"real_gdp\": 57.041, \"non_annualized_gdp\": 0.7417742533688818}, {\"year\": 1989, \"quarter\": \"Q4\", \"real_gdp\": 57.153, \"non_annualized_gdp\": 0.196349993864066}, {\"year\": 1990, \"quarter\": \"Q1\", \"real_gdp\": 57.778, \"non_annualized_gdp\": 1.0935558938288454}, {\"year\": 1990, \"quarter\": \"Q2\", \"real_gdp\": 57.988, \"non_annualized_gdp\": 0.36346014053792247}, {\"year\": 1990, \"quarter\": \"Q3\", \"real_gdp\": 58.026, \"non_annualized_gdp\": 0.06553079947576018}, {\"year\": 1990, \"quarter\": \"Q4\", \"real_gdp\": 57.498, \"non_annualized_gdp\": -0.9099369248268118}, {\"year\": 1991, \"quarter\": \"Q1\", \"real_gdp\": 57.229, \"non_annualized_gdp\": -0.4678423597342488}, {\"year\": 1991, \"quarter\": \"Q2\", \"real_gdp\": 57.675, \"non_annualized_gdp\": 0.7793251673102762}, {\"year\": 1991, \"quarter\": \"Q3\", \"real_gdp\": 57.967, \"non_annualized_gdp\": 0.5062852188990058}, {\"year\": 1991, \"quarter\": \"Q4\", \"real_gdp\": 58.169, \"non_annualized_gdp\": 0.34847413183362635}, {\"year\": 1992, \"quarter\": \"Q1\", \"real_gdp\": 58.865, \"non_annualized_gdp\": 1.1965136069040296}, {\"year\": 1992, \"quarter\": \"Q2\", \"real_gdp\": 59.503, \"non_annualized_gdp\": 1.0838358956935328}, {\"year\": 1992, \"quarter\": \"Q3\", \"real_gdp\": 60.091, \"non_annualized_gdp\": 0.9881854696401878}, {\"year\": 1992, \"quarter\": \"Q4\", \"real_gdp\": 60.718, \"non_annualized_gdp\": 1.0434174834833876}, {\"year\": 1993, \"quarter\": \"Q1\", \"real_gdp\": 60.82, \"non_annualized_gdp\": 0.16798972298164755}, {\"year\": 1993, \"quarter\": \"Q2\", \"real_gdp\": 61.174, \"non_annualized_gdp\": 0.582045379809272}, {\"year\": 1993, \"quarter\": \"Q3\", \"real_gdp\": 61.466, \"non_annualized_gdp\": 0.47732696897374965}, {\"year\": 1993, \"quarter\": \"Q4\", \"real_gdp\": 62.302, \"non_annualized_gdp\": 1.360101519539255}, {\"year\": 1994, \"quarter\": \"Q1\", \"real_gdp\": 62.906, \"non_annualized_gdp\": 0.9694712850309768}, {\"year\": 1994, \"quarter\": \"Q2\", \"real_gdp\": 63.759, \"non_annualized_gdp\": 1.355991479350144}, {\"year\": 1994, \"quarter\": \"Q3\", \"real_gdp\": 64.131, \"non_annualized_gdp\": 0.5834470427704322}, {\"year\": 1994, \"quarter\": \"Q4\", \"real_gdp\": 64.866, \"non_annualized_gdp\": 1.1460915937690033}, {\"year\": 1995, \"quarter\": \"Q1\", \"real_gdp\": 65.096, \"non_annualized_gdp\": 0.3545771282335954}, {\"year\": 1995, \"quarter\": \"Q2\", \"real_gdp\": 65.29, \"non_annualized_gdp\": 0.2980213838023882}, {\"year\": 1995, \"quarter\": \"Q3\", \"real_gdp\": 65.846, \"non_annualized_gdp\": 0.8515852351049125}, {\"year\": 1995, \"quarter\": \"Q4\", \"real_gdp\": 66.293, \"non_annualized_gdp\": 0.6788567263007664}, {\"year\": 1996, \"quarter\": \"Q1\", \"real_gdp\": 66.789, \"non_annualized_gdp\": 0.7481936252696288}, {\"year\": 1996, \"quarter\": \"Q2\", \"real_gdp\": 67.903, \"non_annualized_gdp\": 1.6679393313270212}, {\"year\": 1996, \"quarter\": \"Q3\", \"real_gdp\": 68.513, \"non_annualized_gdp\": 0.898340279516368}, {\"year\": 1996, \"quarter\": \"Q4\", \"real_gdp\": 69.224, \"non_annualized_gdp\": 1.0377592573672128}, {\"year\": 1997, \"quarter\": \"Q1\", \"real_gdp\": 69.671, \"non_annualized_gdp\": 0.6457298046920182}, {\"year\": 1997, \"quarter\": \"Q2\", \"real_gdp\": 70.829, \"non_annualized_gdp\": 1.6620975728782232}, {\"year\": 1997, \"quarter\": \"Q3\", \"real_gdp\": 71.715, \"non_annualized_gdp\": 1.250900055062206}, {\"year\": 1997, \"quarter\": \"Q4\", \"real_gdp\": 72.331, \"non_annualized_gdp\": 0.8589555880917514}, {\"year\": 1998, \"quarter\": \"Q1\", \"real_gdp\": 73.054, \"non_annualized_gdp\": 0.9995714147460963}, {\"year\": 1998, \"quarter\": \"Q2\", \"real_gdp\": 73.73, \"non_annualized_gdp\": 0.9253428970350727}, {\"year\": 1998, \"quarter\": \"Q3\", \"real_gdp\": 74.653, \"non_annualized_gdp\": 1.2518649125186516}, {\"year\": 1998, \"quarter\": \"Q4\", \"real_gdp\": 75.86, \"non_annualized_gdp\": 1.6168137918100993}, {\"year\": 1999, \"quarter\": \"Q1\", \"real_gdp\": 76.578, \"non_annualized_gdp\": 0.946480358555238}, {\"year\": 1999, \"quarter\": \"Q2\", \"real_gdp\": 77.167, \"non_annualized_gdp\": 0.7691504087335771}, {\"year\": 1999, \"quarter\": \"Q3\", \"real_gdp\": 78.177, \"non_annualized_gdp\": 1.3088496377985475}, {\"year\": 1999, \"quarter\": \"Q4\", \"real_gdp\": 79.506, \"non_annualized_gdp\": 1.6999884876626032}, {\"year\": 2000, \"quarter\": \"Q1\", \"real_gdp\": 79.794, \"non_annualized_gdp\": 0.3622368123160475}, {\"year\": 2000, \"quarter\": \"Q2\", \"real_gdp\": 81.255, \"non_annualized_gdp\": 1.8309647341905388}, {\"year\": 2000, \"quarter\": \"Q3\", \"real_gdp\": 81.363, \"non_annualized_gdp\": 0.13291489754477154}, {\"year\": 2000, \"quarter\": \"Q4\", \"real_gdp\": 81.87, \"non_annualized_gdp\": 0.6231333652888967}, {\"year\": 2001, \"quarter\": \"Q1\", \"real_gdp\": 81.637, \"non_annualized_gdp\": -0.28459753267375604}, {\"year\": 2001, \"quarter\": \"Q2\", \"real_gdp\": 82.114, \"non_annualized_gdp\": 0.5842938863505566}, {\"year\": 2001, \"quarter\": \"Q3\", \"real_gdp\": 81.773, \"non_annualized_gdp\": -0.4152763231604941}, {\"year\": 2001, \"quarter\": \"Q4\", \"real_gdp\": 81.996, \"non_annualized_gdp\": 0.27270614995169434}, {\"year\": 2002, \"quarter\": \"Q1\", \"real_gdp\": 82.713, \"non_annualized_gdp\": 0.8744328991658115}, {\"year\": 2002, \"quarter\": \"Q2\", \"real_gdp\": 83.214, \"non_annualized_gdp\": 0.6057088970294934}, {\"year\": 2002, \"quarter\": \"Q3\", \"real_gdp\": 83.584, \"non_annualized_gdp\": 0.44463671978273434}, {\"year\": 2002, \"quarter\": \"Q4\", \"real_gdp\": 83.713, \"non_annualized_gdp\": 0.15433575803980507}, {\"year\": 2003, \"quarter\": \"Q1\", \"real_gdp\": 84.178, \"non_annualized_gdp\": 0.5554692819514334}, {\"year\": 2003, \"quarter\": \"Q2\", \"real_gdp\": 84.902, \"non_annualized_gdp\": 0.8600822067523627}, {\"year\": 2003, \"quarter\": \"Q3\", \"real_gdp\": 86.344, \"non_annualized_gdp\": 1.6984287767072541}, {\"year\": 2003, \"quarter\": \"Q4\", \"real_gdp\": 87.335, \"non_annualized_gdp\": 1.1477346428240522}, {\"year\": 2004, \"quarter\": \"Q1\", \"real_gdp\": 87.801, \"non_annualized_gdp\": 0.533577603480859}, {\"year\": 2004, \"quarter\": \"Q2\", \"real_gdp\": 88.47, \"non_annualized_gdp\": 0.7619503194724399}, {\"year\": 2004, \"quarter\": \"Q3\", \"real_gdp\": 89.307, \"non_annualized_gdp\": 0.9460834181078369}, {\"year\": 2004, \"quarter\": \"Q4\", \"real_gdp\": 90.201, \"non_annualized_gdp\": 1.001041351741735}, {\"year\": 2005, \"quarter\": \"Q1\", \"real_gdp\": 91.2, \"non_annualized_gdp\": 1.1075265240961958}, {\"year\": 2005, \"quarter\": \"Q2\", \"real_gdp\": 91.621, \"non_annualized_gdp\": 0.46162280701753533}, {\"year\": 2005, \"quarter\": \"Q3\", \"real_gdp\": 92.437, \"non_annualized_gdp\": 0.8906255116185181}, {\"year\": 2005, \"quarter\": \"Q4\", \"real_gdp\": 93.021, \"non_annualized_gdp\": 0.6317816458777363}, {\"year\": 2006, \"quarter\": \"Q1\", \"real_gdp\": 94.258, \"non_annualized_gdp\": 1.3298072478257543}, {\"year\": 2006, \"quarter\": \"Q2\", \"real_gdp\": 94.479, \"non_annualized_gdp\": 0.2344628572641088}, {\"year\": 2006, \"quarter\": \"Q3\", \"real_gdp\": 94.625, \"non_annualized_gdp\": 0.154531694873994}, {\"year\": 2006, \"quarter\": \"Q4\", \"real_gdp\": 95.431, \"non_annualized_gdp\": 0.8517833553500633}, {\"year\": 2007, \"quarter\": \"Q1\", \"real_gdp\": 95.655, \"non_annualized_gdp\": 0.23472456539280082}, {\"year\": 2007, \"quarter\": \"Q2\", \"real_gdp\": 96.203, \"non_annualized_gdp\": 0.5728921645496856}, {\"year\": 2007, \"quarter\": \"Q3\", \"real_gdp\": 96.726, \"non_annualized_gdp\": 0.5436420901635044}, {\"year\": 2007, \"quarter\": \"Q4\", \"real_gdp\": 97.314, \"non_annualized_gdp\": 0.6079027355623037}, {\"year\": 2008, \"quarter\": \"Q1\", \"real_gdp\": 96.755, \"non_annualized_gdp\": -0.5744291674373652}, {\"year\": 2008, \"quarter\": \"Q2\", \"real_gdp\": 97.254, \"non_annualized_gdp\": 0.5157356208981546}, {\"year\": 2008, \"quarter\": \"Q3\", \"real_gdp\": 96.728, \"non_annualized_gdp\": -0.540851790157742}, {\"year\": 2008, \"quarter\": \"Q4\", \"real_gdp\": 94.635, \"non_annualized_gdp\": -2.1637995203043476}, {\"year\": 2009, \"quarter\": \"Q1\", \"real_gdp\": 93.572, \"non_annualized_gdp\": -1.1232630633486578}, {\"year\": 2009, \"quarter\": \"Q2\", \"real_gdp\": 93.438, \"non_annualized_gdp\": -0.14320523233445936}, {\"year\": 2009, \"quarter\": \"Q3\", \"real_gdp\": 93.778, \"non_annualized_gdp\": 0.3638776514908318}, {\"year\": 2009, \"quarter\": \"Q4\", \"real_gdp\": 94.808, \"non_annualized_gdp\": 1.0983386295293152}, {\"year\": 2010, \"quarter\": \"Q1\", \"real_gdp\": 95.173, \"non_annualized_gdp\": 0.38498860855623457}, {\"year\": 2010, \"quarter\": \"Q2\", \"real_gdp\": 96.05, \"non_annualized_gdp\": 0.9214798314648012}, {\"year\": 2010, \"quarter\": \"Q3\", \"real_gdp\": 96.758, \"non_annualized_gdp\": 0.7371160853722003}, {\"year\": 2010, \"quarter\": \"Q4\", \"real_gdp\": 97.244, \"non_annualized_gdp\": 0.502284048864181}, {\"year\": 2011, \"quarter\": \"Q1\", \"real_gdp\": 97.01, \"non_annualized_gdp\": -0.24063181275965065}, {\"year\": 2011, \"quarter\": \"Q2\", \"real_gdp\": 97.704, \"non_annualized_gdp\": 0.7153901659622599}, {\"year\": 2011, \"quarter\": \"Q3\", \"real_gdp\": 97.677, \"non_annualized_gdp\": -0.027634487840811853}, {\"year\": 2011, \"quarter\": \"Q4\", \"real_gdp\": 98.809, \"non_annualized_gdp\": 1.1589217523060604}, {\"year\": 2012, \"quarter\": \"Q1\", \"real_gdp\": 99.583, \"non_annualized_gdp\": 0.7833294537946958}, {\"year\": 2012, \"quarter\": \"Q2\", \"real_gdp\": 100.011, \"non_annualized_gdp\": 0.4297922336141684}, {\"year\": 2012, \"quarter\": \"Q3\", \"real_gdp\": 100.146, \"non_annualized_gdp\": 0.13498515163332545}, {\"year\": 2012, \"quarter\": \"Q4\", \"real_gdp\": 100.26, \"non_annualized_gdp\": 0.11383380264813805}, {\"year\": 2013, \"quarter\": \"Q1\", \"real_gdp\": 101.148, \"non_annualized_gdp\": 0.8856971873129772}, {\"year\": 2013, \"quarter\": \"Q2\", \"real_gdp\": 101.273, \"non_annualized_gdp\": 0.12358128682722347}, {\"year\": 2013, \"quarter\": \"Q3\", \"real_gdp\": 102.066, \"non_annualized_gdp\": 0.7830320026068215}, {\"year\": 2013, \"quarter\": \"Q4\", \"real_gdp\": 102.881, \"non_annualized_gdp\": 0.7985029294770029}, {\"year\": 2014, \"quarter\": \"Q1\", \"real_gdp\": 102.59, \"non_annualized_gdp\": -0.2828510609344746}, {\"year\": 2014, \"quarter\": \"Q2\", \"real_gdp\": 103.979, \"non_annualized_gdp\": 1.3539331318841952}, {\"year\": 2014, \"quarter\": \"Q3\", \"real_gdp\": 105.248, \"non_annualized_gdp\": 1.2204387424383822}, {\"year\": 2014, \"quarter\": \"Q4\", \"real_gdp\": 105.841, \"non_annualized_gdp\": 0.5634311340832978}, {\"year\": 2015, \"quarter\": \"Q1\", \"real_gdp\": 106.845, \"non_annualized_gdp\": 0.9485927003713164}, {\"year\": 2015, \"quarter\": \"Q2\", \"real_gdp\": 107.568, \"non_annualized_gdp\": 0.6766811736627816}, {\"year\": 2015, \"quarter\": \"Q3\", \"real_gdp\": 107.958, \"non_annualized_gdp\": 0.3625613565372607}, {\"year\": 2015, \"quarter\": \"Q4\", \"real_gdp\": 108.131, \"non_annualized_gdp\": 0.16024750365883197}, {\"year\": 2016, \"quarter\": \"Q1\", \"real_gdp\": 108.744, \"non_annualized_gdp\": 0.5669049578751695}, {\"year\": 2016, \"quarter\": \"Q2\", \"real_gdp\": 109.083, \"non_annualized_gdp\": 0.3117413374530996}, {\"year\": 2016, \"quarter\": \"Q3\", \"real_gdp\": 109.677, \"non_annualized_gdp\": 0.5445394791122432}, {\"year\": 2016, \"quarter\": \"Q4\", \"real_gdp\": 110.367, \"non_annualized_gdp\": 0.6291200525178458}, {\"year\": 2017, \"quarter\": \"Q1\", \"real_gdp\": 110.991, \"non_annualized_gdp\": 0.5653863926717182}, {\"year\": 2017, \"quarter\": \"Q2\", \"real_gdp\": 111.465, \"non_annualized_gdp\": 0.4270616536475964}, {\"year\": 2017, \"quarter\": \"Q3\", \"real_gdp\": 112.278, \"non_annualized_gdp\": 0.7293769344637351}, {\"year\": 2017, \"quarter\": \"Q4\", \"real_gdp\": 113.351, \"non_annualized_gdp\": 0.955663620655866}, {\"year\": 2018, \"quarter\": \"Q1\", \"real_gdp\": 114.407, \"non_annualized_gdp\": 0.9316194828453188}, {\"year\": 2018, \"quarter\": \"Q2\", \"real_gdp\": 115.172, \"non_annualized_gdp\": 0.6686653788666783}, {\"year\": 2018, \"quarter\": \"Q3\", \"real_gdp\": 115.777, \"non_annualized_gdp\": 0.5253012885076269}, {\"year\": 2018, \"quarter\": \"Q4\", \"real_gdp\": 116.157, \"non_annualized_gdp\": 0.32821717612306023}, {\"year\": 2019, \"quarter\": \"Q1\", \"real_gdp\": 116.999, \"non_annualized_gdp\": 0.7248809800528585}, {\"year\": 2019, \"quarter\": \"Q2\", \"real_gdp\": 117.433, \"non_annualized_gdp\": 0.3709433413960903}, {\"year\": 2019, \"quarter\": \"Q3\", \"real_gdp\": 118.181, \"non_annualized_gdp\": 0.6369589468037012}, {\"year\": 2019, \"quarter\": \"Q4\", \"real_gdp\": 118.874, \"non_annualized_gdp\": 0.5863886749985174}, {\"year\": 2020, \"quarter\": \"Q1\", \"real_gdp\": 117.373, \"non_annualized_gdp\": -1.2626814946918508}, {\"year\": 2020, \"quarter\": \"Q2\", \"real_gdp\": 106.228, \"non_annualized_gdp\": -9.495369463164451}]}}, {\"actions\": false, \"mode\": \"vega-lite\"});\n",
       "</script>"
      ],
      "text/plain": [
       "alt.Chart(...)"
      ]
     },
     "execution_count": 108,
     "metadata": {},
     "output_type": "execute_result"
    }
   ],
   "source": [
    "alt.Chart(usa_gdp).mark_bar(width=3.25).encode(\n",
    "    x=alt.X('quarter:O', title=None, axis=alt.Axis(labels=False, ticks=False)),\n",
    "    y='non_annualized_gdp:Q',\n",
    "    column=alt.Facet('year:O', spacing=0, header=alt.Header(labels=False, title=None)),\n",
    "    #detail='quarter:N',\n",
    "    color=alt.condition(alt.datum.non_annualized_gdp > 0, alt.value('#76a4a5'), alt.value('#d0573a'))\n",
    ").configure_axis(grid=False).configure_view(strokeWidth=0, step=4)"
   ]
  },
  {
   "cell_type": "markdown",
   "metadata": {},
   "source": [
    "Let's add annualized gdp data to real and non-annualized gdp data to that we may plot them together for a bigger picture"
   ]
  },
  {
   "cell_type": "code",
   "execution_count": 109,
   "metadata": {},
   "outputs": [
    {
     "name": "stdout",
     "output_type": "stream",
     "text": [
      "After function reshape_concat_column ran, shape of dataframe is - (293, 6), execution time is - 0:00:00.003945\n"
     ]
    },
    {
     "data": {
      "text/html": [
       "<div>\n",
       "<style scoped>\n",
       "    .dataframe tbody tr th:only-of-type {\n",
       "        vertical-align: middle;\n",
       "    }\n",
       "\n",
       "    .dataframe tbody tr th {\n",
       "        vertical-align: top;\n",
       "    }\n",
       "\n",
       "    .dataframe thead th {\n",
       "        text-align: right;\n",
       "    }\n",
       "</style>\n",
       "<table border=\"1\" class=\"dataframe\">\n",
       "  <thead>\n",
       "    <tr style=\"text-align: right;\">\n",
       "      <th></th>\n",
       "      <th>index</th>\n",
       "      <th>year</th>\n",
       "      <th>quarter</th>\n",
       "      <th>real_gdp</th>\n",
       "      <th>non_annualized_gdp</th>\n",
       "      <th>annualized_gdp</th>\n",
       "    </tr>\n",
       "  </thead>\n",
       "  <tbody>\n",
       "    <tr>\n",
       "      <th>0</th>\n",
       "      <td>1</td>\n",
       "      <td>1947-01-01</td>\n",
       "      <td>Q2</td>\n",
       "      <td>12.519</td>\n",
       "      <td>-0.262906</td>\n",
       "      <td>-1.0</td>\n",
       "    </tr>\n",
       "    <tr>\n",
       "      <th>1</th>\n",
       "      <td>2</td>\n",
       "      <td>1947-01-01</td>\n",
       "      <td>Q3</td>\n",
       "      <td>12.493</td>\n",
       "      <td>-0.207684</td>\n",
       "      <td>-0.8</td>\n",
       "    </tr>\n",
       "    <tr>\n",
       "      <th>2</th>\n",
       "      <td>3</td>\n",
       "      <td>1947-01-01</td>\n",
       "      <td>Q4</td>\n",
       "      <td>12.688</td>\n",
       "      <td>1.560874</td>\n",
       "      <td>6.4</td>\n",
       "    </tr>\n",
       "    <tr>\n",
       "      <th>3</th>\n",
       "      <td>4</td>\n",
       "      <td>1948-01-01</td>\n",
       "      <td>Q1</td>\n",
       "      <td>12.879</td>\n",
       "      <td>1.505359</td>\n",
       "      <td>6.2</td>\n",
       "    </tr>\n",
       "    <tr>\n",
       "      <th>4</th>\n",
       "      <td>5</td>\n",
       "      <td>1948-01-01</td>\n",
       "      <td>Q2</td>\n",
       "      <td>13.092</td>\n",
       "      <td>1.653855</td>\n",
       "      <td>6.8</td>\n",
       "    </tr>\n",
       "  </tbody>\n",
       "</table>\n",
       "</div>"
      ],
      "text/plain": [
       "   index       year quarter  real_gdp  non_annualized_gdp  annualized_gdp\n",
       "0      1 1947-01-01      Q2    12.519           -0.262906            -1.0\n",
       "1      2 1947-01-01      Q3    12.493           -0.207684            -0.8\n",
       "2      3 1947-01-01      Q4    12.688            1.560874             6.4\n",
       "3      4 1948-01-01      Q1    12.879            1.505359             6.2\n",
       "4      5 1948-01-01      Q2    13.092            1.653855             6.8"
      ]
     },
     "execution_count": 109,
     "metadata": {},
     "output_type": "execute_result"
    }
   ],
   "source": [
    "usa_gdp = (usa_gdp\n",
    "          .pipe(reshape_concat_column, ann_gdp['ann_gdp']) # because Annualized GDP and Real GDP have different shapes\n",
    "          .pipe(year_as_time))\n",
    "\n",
    "usa_gdp.head()"
   ]
  },
  {
   "cell_type": "markdown",
   "metadata": {},
   "source": [
    "To see the contrast b/w the two to understand how misleading annualized gdp can be we will layer them on top of each other -"
   ]
  },
  {
   "cell_type": "code",
   "execution_count": 110,
   "metadata": {},
   "outputs": [
    {
     "data": {
      "text/html": [
       "\n",
       "<div id=\"altair-viz-7a259b0ccd1b46009fc22948e6c89c72\"></div>\n",
       "<script type=\"text/javascript\">\n",
       "  (function(spec, embedOpt){\n",
       "    let outputDiv = document.currentScript.previousElementSibling;\n",
       "    if (outputDiv.id !== \"altair-viz-7a259b0ccd1b46009fc22948e6c89c72\") {\n",
       "      outputDiv = document.getElementById(\"altair-viz-7a259b0ccd1b46009fc22948e6c89c72\");\n",
       "    }\n",
       "    const paths = {\n",
       "      \"vega\": \"https://cdn.jsdelivr.net/npm//vega@5?noext\",\n",
       "      \"vega-lib\": \"https://cdn.jsdelivr.net/npm//vega-lib?noext\",\n",
       "      \"vega-lite\": \"https://cdn.jsdelivr.net/npm//vega-lite@4.8.1?noext\",\n",
       "      \"vega-embed\": \"https://cdn.jsdelivr.net/npm//vega-embed@6?noext\",\n",
       "    };\n",
       "\n",
       "    function loadScript(lib) {\n",
       "      return new Promise(function(resolve, reject) {\n",
       "        var s = document.createElement('script');\n",
       "        s.src = paths[lib];\n",
       "        s.async = true;\n",
       "        s.onload = () => resolve(paths[lib]);\n",
       "        s.onerror = () => reject(`Error loading script: ${paths[lib]}`);\n",
       "        document.getElementsByTagName(\"head\")[0].appendChild(s);\n",
       "      });\n",
       "    }\n",
       "\n",
       "    function showError(err) {\n",
       "      outputDiv.innerHTML = `<div class=\"error\" style=\"color:red;\">${err}</div>`;\n",
       "      throw err;\n",
       "    }\n",
       "\n",
       "    function displayChart(vegaEmbed) {\n",
       "      vegaEmbed(outputDiv, spec, embedOpt)\n",
       "        .catch(err => showError(`Javascript Error: ${err.message}<br>This usually means there's a typo in your chart specification. See the javascript console for the full traceback.`));\n",
       "    }\n",
       "\n",
       "    if(typeof define === \"function\" && define.amd) {\n",
       "      requirejs.config({paths});\n",
       "      require([\"vega-embed\"], displayChart, err => showError(`Error loading script: ${err.message}`));\n",
       "    } else if (typeof vegaEmbed === \"function\") {\n",
       "      displayChart(vegaEmbed);\n",
       "    } else {\n",
       "      loadScript(\"vega\")\n",
       "        .then(() => loadScript(\"vega-lite\"))\n",
       "        .then(() => loadScript(\"vega-embed\"))\n",
       "        .catch(showError)\n",
       "        .then(() => displayChart(vegaEmbed));\n",
       "    }\n",
       "  })({\"config\": {\"view\": {\"continuousWidth\": 400, \"continuousHeight\": 300, \"step\": 4, \"strokeWidth\": 0}, \"axis\": {\"domain\": false, \"domainColor\": \"lightgrey\", \"labelColor\": \"grey\", \"tickColor\": \"lightgrey\", \"titleColor\": \"grey\"}, \"axisY\": {\"grid\": true}}, \"data\": {\"name\": \"data-6dd8e0ae9a6085856f85968eb97fa98d\"}, \"facet\": {\"column\": {\"type\": \"temporal\", \"field\": \"year\", \"header\": {\"format\": \"%y\", \"formatType\": \"time\", \"labelColor\": \"grey\", \"labelOrient\": \"bottom\", \"labels\": true, \"title\": null}}}, \"spec\": {\"layer\": [{\"mark\": {\"type\": \"bar\", \"width\": 3.25}, \"encoding\": {\"color\": {\"condition\": {\"value\": \"orange\", \"test\": \"(datum.annualized_gdp > 0)\"}, \"value\": \"violet\"}, \"x\": {\"type\": \"ordinal\", \"axis\": {\"labels\": false, \"ticks\": false}, \"field\": \"quarter\", \"title\": null}, \"y\": {\"type\": \"quantitative\", \"field\": \"annualized_gdp\"}}}, {\"mark\": {\"type\": \"bar\", \"width\": 3.25}, \"encoding\": {\"color\": {\"condition\": {\"value\": \"blue\", \"test\": \"(datum.non_annualized_gdp > 0)\"}, \"value\": \"maroon\"}, \"x\": {\"type\": \"ordinal\", \"axis\": {\"domain\": false, \"labels\": false, \"ticks\": false}, \"field\": \"quarter\", \"title\": null}, \"y\": {\"type\": \"quantitative\", \"field\": \"non_annualized_gdp\"}}}, {\"mark\": {\"type\": \"text\", \"color\": \"maroon\", \"dx\": -12, \"dy\": 7, \"fontSize\": 12}, \"encoding\": {\"text\": {\"type\": \"quantitative\", \"aggregate\": \"min\", \"field\": \"non_annualized_gdp\", \"format\": \".2\"}, \"x\": {\"type\": \"ordinal\", \"aggregate\": {\"argmin\": \"non_annualized_gdp\"}, \"field\": \"quarter\", \"title\": null}, \"y\": {\"type\": \"quantitative\", \"aggregate\": \"min\", \"field\": \"non_annualized_gdp\"}}, \"transform\": [{\"filter\": {\"field\": \"year\", \"oneOf\": [2008, 2020], \"timeUnit\": \"year\"}}]}, {\"mark\": {\"type\": \"text\", \"color\": \"violet\", \"dx\": -12, \"dy\": 0, \"fontSize\": 12}, \"encoding\": {\"text\": {\"type\": \"quantitative\", \"aggregate\": \"min\", \"field\": \"annualized_gdp\", \"format\": \".2\"}, \"x\": {\"type\": \"ordinal\", \"aggregate\": {\"argmin\": \"annualized_gdp\"}, \"field\": \"quarter\", \"title\": null}, \"y\": {\"type\": \"quantitative\", \"aggregate\": \"min\", \"field\": \"annualized_gdp\", \"title\": \"Annualized GDP,  Real GDP\"}}, \"transform\": [{\"filter\": {\"field\": \"year\", \"oneOf\": [2008, 2020], \"timeUnit\": \"year\"}}]}]}, \"bounds\": \"flush\", \"spacing\": 0, \"$schema\": \"https://vega.github.io/schema/vega-lite/v4.8.1.json\", \"datasets\": {\"data-6dd8e0ae9a6085856f85968eb97fa98d\": [{\"index\": 1, \"year\": \"1947-01-01T00:00:00\", \"quarter\": \"Q2\", \"real_gdp\": 12.519, \"non_annualized_gdp\": -0.2629063097514298, \"annualized_gdp\": -1.0}, {\"index\": 2, \"year\": \"1947-01-01T00:00:00\", \"quarter\": \"Q3\", \"real_gdp\": 12.493, \"non_annualized_gdp\": -0.20768431983385094, \"annualized_gdp\": -0.8}, {\"index\": 3, \"year\": \"1947-01-01T00:00:00\", \"quarter\": \"Q4\", \"real_gdp\": 12.688, \"non_annualized_gdp\": 1.5608740894901167, \"annualized_gdp\": 6.4}, {\"index\": 4, \"year\": \"1948-01-01T00:00:00\", \"quarter\": \"Q1\", \"real_gdp\": 12.879, \"non_annualized_gdp\": 1.5053593947036485, \"annualized_gdp\": 6.2}, {\"index\": 5, \"year\": \"1948-01-01T00:00:00\", \"quarter\": \"Q2\", \"real_gdp\": 13.092, \"non_annualized_gdp\": 1.6538551129746175, \"annualized_gdp\": 6.8}, {\"index\": 6, \"year\": \"1948-01-01T00:00:00\", \"quarter\": \"Q3\", \"real_gdp\": 13.167, \"non_annualized_gdp\": 0.572868927589362, \"annualized_gdp\": 2.3}, {\"index\": 7, \"year\": \"1948-01-01T00:00:00\", \"quarter\": \"Q4\", \"real_gdp\": 13.181, \"non_annualized_gdp\": 0.10632642211589084, \"annualized_gdp\": 0.4}, {\"index\": 8, \"year\": \"1949-01-01T00:00:00\", \"quarter\": \"Q1\", \"real_gdp\": 13.0, \"non_annualized_gdp\": -1.3731886806767255, \"annualized_gdp\": -5.4}, {\"index\": 9, \"year\": \"1949-01-01T00:00:00\", \"quarter\": \"Q2\", \"real_gdp\": 12.955, \"non_annualized_gdp\": -0.3461538461538456, \"annualized_gdp\": -1.4}, {\"index\": 10, \"year\": \"1949-01-01T00:00:00\", \"quarter\": \"Q3\", \"real_gdp\": 13.089, \"non_annualized_gdp\": 1.034349671941338, \"annualized_gdp\": 4.2}, {\"index\": 11, \"year\": \"1949-01-01T00:00:00\", \"quarter\": \"Q4\", \"real_gdp\": 12.979, \"non_annualized_gdp\": -0.8404003361601436, \"annualized_gdp\": -3.3}, {\"index\": 12, \"year\": \"1950-01-01T00:00:00\", \"quarter\": \"Q1\", \"real_gdp\": 13.489, \"non_annualized_gdp\": 3.9294244548886788, \"annualized_gdp\": 16.7}, {\"index\": 13, \"year\": \"1950-01-01T00:00:00\", \"quarter\": \"Q2\", \"real_gdp\": 13.901, \"non_annualized_gdp\": 3.0543405738008675, \"annualized_gdp\": 12.8}, {\"index\": 14, \"year\": \"1950-01-01T00:00:00\", \"quarter\": \"Q3\", \"real_gdp\": 14.438, \"non_annualized_gdp\": 3.8630314365873017, \"annualized_gdp\": 16.4}, {\"index\": 15, \"year\": \"1950-01-01T00:00:00\", \"quarter\": \"Q4\", \"real_gdp\": 14.714, \"non_annualized_gdp\": 1.9116221083252511, \"annualized_gdp\": 7.9}, {\"index\": 16, \"year\": \"1951-01-01T00:00:00\", \"quarter\": \"Q1\", \"real_gdp\": 14.914, \"non_annualized_gdp\": 1.359249694168814, \"annualized_gdp\": 5.5}, {\"index\": 17, \"year\": \"1951-01-01T00:00:00\", \"quarter\": \"Q2\", \"real_gdp\": 15.173, \"non_annualized_gdp\": 1.7366233069599057, \"annualized_gdp\": 7.1}, {\"index\": 18, \"year\": \"1951-01-01T00:00:00\", \"quarter\": \"Q3\", \"real_gdp\": 15.485, \"non_annualized_gdp\": 2.0562841890199657, \"annualized_gdp\": 8.5}, {\"index\": 19, \"year\": \"1951-01-01T00:00:00\", \"quarter\": \"Q4\", \"real_gdp\": 15.519, \"non_annualized_gdp\": 0.21956732321602, \"annualized_gdp\": 0.9}, {\"index\": 20, \"year\": \"1952-01-01T00:00:00\", \"quarter\": \"Q1\", \"real_gdp\": 15.685, \"non_annualized_gdp\": 1.0696565500354427, \"annualized_gdp\": 4.3}, {\"index\": 21, \"year\": \"1952-01-01T00:00:00\", \"quarter\": \"Q2\", \"real_gdp\": 15.719, \"non_annualized_gdp\": 0.21676761236849806, \"annualized_gdp\": 0.9}, {\"index\": 22, \"year\": \"1952-01-01T00:00:00\", \"quarter\": \"Q3\", \"real_gdp\": 15.833, \"non_annualized_gdp\": 0.7252369743622417, \"annualized_gdp\": 2.9}, {\"index\": 23, \"year\": \"1952-01-01T00:00:00\", \"quarter\": \"Q4\", \"real_gdp\": 16.353, \"non_annualized_gdp\": 3.284279669045673, \"annualized_gdp\": 13.8}, {\"index\": 24, \"year\": \"1953-01-01T00:00:00\", \"quarter\": \"Q1\", \"real_gdp\": 16.657, \"non_annualized_gdp\": 1.858986118754959, \"annualized_gdp\": 7.6}, {\"index\": 25, \"year\": \"1953-01-01T00:00:00\", \"quarter\": \"Q2\", \"real_gdp\": 16.785, \"non_annualized_gdp\": 0.7684456985051337, \"annualized_gdp\": 3.1}, {\"index\": 26, \"year\": \"1953-01-01T00:00:00\", \"quarter\": \"Q3\", \"real_gdp\": 16.691, \"non_annualized_gdp\": -0.5600238308013178, \"annualized_gdp\": -2.2}, {\"index\": 27, \"year\": \"1953-01-01T00:00:00\", \"quarter\": \"Q4\", \"real_gdp\": 16.438, \"non_annualized_gdp\": -1.5157869510514657, \"annualized_gdp\": -5.9}, {\"index\": 28, \"year\": \"1954-01-01T00:00:00\", \"quarter\": \"Q1\", \"real_gdp\": 16.36, \"non_annualized_gdp\": -0.474510281056086, \"annualized_gdp\": -1.9}, {\"index\": 29, \"year\": \"1954-01-01T00:00:00\", \"quarter\": \"Q2\", \"real_gdp\": 16.377, \"non_annualized_gdp\": 0.1039119804400945, \"annualized_gdp\": 0.4}, {\"index\": 30, \"year\": \"1954-01-01T00:00:00\", \"quarter\": \"Q3\", \"real_gdp\": 16.562, \"non_annualized_gdp\": 1.1296330219210007, \"annualized_gdp\": 4.6}, {\"index\": 31, \"year\": \"1954-01-01T00:00:00\", \"quarter\": \"Q4\", \"real_gdp\": 16.886, \"non_annualized_gdp\": 1.9562854727689774, \"annualized_gdp\": 8.1}, {\"index\": 32, \"year\": \"1955-01-01T00:00:00\", \"quarter\": \"Q1\", \"real_gdp\": 17.369, \"non_annualized_gdp\": 2.8603576927632393, \"annualized_gdp\": 11.9}, {\"index\": 33, \"year\": \"1955-01-01T00:00:00\", \"quarter\": \"Q2\", \"real_gdp\": 17.651, \"non_annualized_gdp\": 1.6235822442282228, \"annualized_gdp\": 6.7}, {\"index\": 34, \"year\": \"1955-01-01T00:00:00\", \"quarter\": \"Q3\", \"real_gdp\": 17.89, \"non_annualized_gdp\": 1.3540309330916138, \"annualized_gdp\": 5.5}, {\"index\": 35, \"year\": \"1955-01-01T00:00:00\", \"quarter\": \"Q4\", \"real_gdp\": 17.997, \"non_annualized_gdp\": 0.598099496925653, \"annualized_gdp\": 2.4}, {\"index\": 36, \"year\": \"1956-01-01T00:00:00\", \"quarter\": \"Q1\", \"real_gdp\": 17.927, \"non_annualized_gdp\": -0.3889537145079751, \"annualized_gdp\": -1.5}, {\"index\": 37, \"year\": \"1956-01-01T00:00:00\", \"quarter\": \"Q2\", \"real_gdp\": 18.075, \"non_annualized_gdp\": 0.8255703687175752, \"annualized_gdp\": 3.3}, {\"index\": 38, \"year\": \"1956-01-01T00:00:00\", \"quarter\": \"Q3\", \"real_gdp\": 18.059, \"non_annualized_gdp\": -0.08852005532502483, \"annualized_gdp\": -0.4}, {\"index\": 39, \"year\": \"1956-01-01T00:00:00\", \"quarter\": \"Q4\", \"real_gdp\": 18.356, \"non_annualized_gdp\": 1.644609336065123, \"annualized_gdp\": 6.7}, {\"index\": 40, \"year\": \"1957-01-01T00:00:00\", \"quarter\": \"Q1\", \"real_gdp\": 18.474, \"non_annualized_gdp\": 0.6428415776857624, \"annualized_gdp\": 2.6}, {\"index\": 41, \"year\": \"1957-01-01T00:00:00\", \"quarter\": \"Q2\", \"real_gdp\": 18.433, \"non_annualized_gdp\": -0.22193352820179912, \"annualized_gdp\": -0.9}, {\"index\": 42, \"year\": \"1957-01-01T00:00:00\", \"quarter\": \"Q3\", \"real_gdp\": 18.614, \"non_annualized_gdp\": 0.9819345738621003, \"annualized_gdp\": 4.0}, {\"index\": 43, \"year\": \"1957-01-01T00:00:00\", \"quarter\": \"Q4\", \"real_gdp\": 18.421, \"non_annualized_gdp\": -1.036853980874618, \"annualized_gdp\": -4.1}, {\"index\": 44, \"year\": \"1958-01-01T00:00:00\", \"quarter\": \"Q1\", \"real_gdp\": 17.943, \"non_annualized_gdp\": -2.5948645567558657, \"annualized_gdp\": -10.0}, {\"index\": 45, \"year\": \"1958-01-01T00:00:00\", \"quarter\": \"Q2\", \"real_gdp\": 18.061, \"non_annualized_gdp\": 0.657638076129959, \"annualized_gdp\": 2.7}, {\"index\": 46, \"year\": \"1958-01-01T00:00:00\", \"quarter\": \"Q3\", \"real_gdp\": 18.479, \"non_annualized_gdp\": 2.3143790487791334, \"annualized_gdp\": 9.6}, {\"index\": 47, \"year\": \"1958-01-01T00:00:00\", \"quarter\": \"Q4\", \"real_gdp\": 18.911, \"non_annualized_gdp\": 2.3377888413875327, \"annualized_gdp\": 9.7}, {\"index\": 48, \"year\": \"1959-01-01T00:00:00\", \"quarter\": \"Q1\", \"real_gdp\": 19.275, \"non_annualized_gdp\": 1.9248056686584378, \"annualized_gdp\": 7.9}, {\"index\": 49, \"year\": \"1959-01-01T00:00:00\", \"quarter\": \"Q2\", \"real_gdp\": 19.71, \"non_annualized_gdp\": 2.2568093385214127, \"annualized_gdp\": 9.3}, {\"index\": 50, \"year\": \"1959-01-01T00:00:00\", \"quarter\": \"Q3\", \"real_gdp\": 19.724, \"non_annualized_gdp\": 0.07102993404362935, \"annualized_gdp\": 0.3}, {\"index\": 51, \"year\": \"1959-01-01T00:00:00\", \"quarter\": \"Q4\", \"real_gdp\": 19.78, \"non_annualized_gdp\": 0.2839180693571331, \"annualized_gdp\": 1.1}, {\"index\": 52, \"year\": \"1960-01-01T00:00:00\", \"quarter\": \"Q1\", \"real_gdp\": 20.224, \"non_annualized_gdp\": 2.244691607684525, \"annualized_gdp\": 9.3}, {\"index\": 53, \"year\": \"1960-01-01T00:00:00\", \"quarter\": \"Q2\", \"real_gdp\": 20.115, \"non_annualized_gdp\": -0.5389636075949454, \"annualized_gdp\": -2.1}, {\"index\": 54, \"year\": \"1960-01-01T00:00:00\", \"quarter\": \"Q3\", \"real_gdp\": 20.214, \"non_annualized_gdp\": 0.4921700223713657, \"annualized_gdp\": 2.0}, {\"index\": 55, \"year\": \"1960-01-01T00:00:00\", \"quarter\": \"Q4\", \"real_gdp\": 19.954, \"non_annualized_gdp\": -1.286237261304037, \"annualized_gdp\": -5.0}, {\"index\": 56, \"year\": \"1961-01-01T00:00:00\", \"quarter\": \"Q1\", \"real_gdp\": 20.089, \"non_annualized_gdp\": 0.6765560789816478, \"annualized_gdp\": 2.7}, {\"index\": 57, \"year\": \"1961-01-01T00:00:00\", \"quarter\": \"Q2\", \"real_gdp\": 20.43, \"non_annualized_gdp\": 1.6974463636816224, \"annualized_gdp\": 7.0}, {\"index\": 58, \"year\": \"1961-01-01T00:00:00\", \"quarter\": \"Q3\", \"real_gdp\": 20.822, \"non_annualized_gdp\": 1.91874694077337, \"annualized_gdp\": 7.9}, {\"index\": 59, \"year\": \"1961-01-01T00:00:00\", \"quarter\": \"Q4\", \"real_gdp\": 21.231, \"non_annualized_gdp\": 1.9642685620977933, \"annualized_gdp\": 8.1}, {\"index\": 60, \"year\": \"1962-01-01T00:00:00\", \"quarter\": \"Q1\", \"real_gdp\": 21.609, \"non_annualized_gdp\": 1.7804154302670627, \"annualized_gdp\": 7.3}, {\"index\": 61, \"year\": \"1962-01-01T00:00:00\", \"quarter\": \"Q2\", \"real_gdp\": 21.805, \"non_annualized_gdp\": 0.9070294784580404, \"annualized_gdp\": 3.7}, {\"index\": 62, \"year\": \"1962-01-01T00:00:00\", \"quarter\": \"Q3\", \"real_gdp\": 22.072, \"non_annualized_gdp\": 1.224489795918365, \"annualized_gdp\": 5.0}, {\"index\": 63, \"year\": \"1962-01-01T00:00:00\", \"quarter\": \"Q4\", \"real_gdp\": 22.145, \"non_annualized_gdp\": 0.33073577383110003, \"annualized_gdp\": 1.3}, {\"index\": 64, \"year\": \"1963-01-01T00:00:00\", \"quarter\": \"Q1\", \"real_gdp\": 22.387, \"non_annualized_gdp\": 1.0927974712124673, \"annualized_gdp\": 4.4}, {\"index\": 65, \"year\": \"1963-01-01T00:00:00\", \"quarter\": \"Q2\", \"real_gdp\": 22.638, \"non_annualized_gdp\": 1.1211864028230722, \"annualized_gdp\": 4.6}, {\"index\": 66, \"year\": \"1963-01-01T00:00:00\", \"quarter\": \"Q3\", \"real_gdp\": 23.136, \"non_annualized_gdp\": 2.1998409753511683, \"annualized_gdp\": 9.1}, {\"index\": 67, \"year\": \"1963-01-01T00:00:00\", \"quarter\": \"Q4\", \"real_gdp\": 23.287, \"non_annualized_gdp\": 0.6526625172890724, \"annualized_gdp\": 2.6}, {\"index\": 68, \"year\": \"1964-01-01T00:00:00\", \"quarter\": \"Q1\", \"real_gdp\": 23.778, \"non_annualized_gdp\": 2.108472538326103, \"annualized_gdp\": 8.7}, {\"index\": 69, \"year\": \"1964-01-01T00:00:00\", \"quarter\": \"Q2\", \"real_gdp\": 24.037, \"non_annualized_gdp\": 1.0892421566153603, \"annualized_gdp\": 4.4}, {\"index\": 70, \"year\": \"1964-01-01T00:00:00\", \"quarter\": \"Q3\", \"real_gdp\": 24.413, \"non_annualized_gdp\": 1.564255106710493, \"annualized_gdp\": 6.4}, {\"index\": 71, \"year\": \"1964-01-01T00:00:00\", \"quarter\": \"Q4\", \"real_gdp\": 24.488, \"non_annualized_gdp\": 0.30721336992585624, \"annualized_gdp\": 1.2}, {\"index\": 72, \"year\": \"1965-01-01T00:00:00\", \"quarter\": \"Q1\", \"real_gdp\": 25.081, \"non_annualized_gdp\": 2.421594250245018, \"annualized_gdp\": 10.0}, {\"index\": 73, \"year\": \"1965-01-01T00:00:00\", \"quarter\": \"Q2\", \"real_gdp\": 25.397, \"non_annualized_gdp\": 1.259917866113787, \"annualized_gdp\": 5.1}, {\"index\": 74, \"year\": \"1965-01-01T00:00:00\", \"quarter\": \"Q3\", \"real_gdp\": 25.962, \"non_annualized_gdp\": 2.2246722053785932, \"annualized_gdp\": 9.2}, {\"index\": 75, \"year\": \"1965-01-01T00:00:00\", \"quarter\": \"Q4\", \"real_gdp\": 26.56, \"non_annualized_gdp\": 2.3033664586703604, \"annualized_gdp\": 9.5}, {\"index\": 76, \"year\": \"1966-01-01T00:00:00\", \"quarter\": \"Q1\", \"real_gdp\": 27.207, \"non_annualized_gdp\": 2.435993975903622, \"annualized_gdp\": 10.1}, {\"index\": 77, \"year\": \"1966-01-01T00:00:00\", \"quarter\": \"Q2\", \"real_gdp\": 27.3, \"non_annualized_gdp\": 0.34182379534678564, \"annualized_gdp\": 1.4}, {\"index\": 78, \"year\": \"1966-01-01T00:00:00\", \"quarter\": \"Q3\", \"real_gdp\": 27.531, \"non_annualized_gdp\": 0.8461538461538392, \"annualized_gdp\": 3.4}, {\"index\": 79, \"year\": \"1966-01-01T00:00:00\", \"quarter\": \"Q4\", \"real_gdp\": 27.757, \"non_annualized_gdp\": 0.8208928117395033, \"annualized_gdp\": 3.3}, {\"index\": 80, \"year\": \"1967-01-01T00:00:00\", \"quarter\": \"Q1\", \"real_gdp\": 28.003, \"non_annualized_gdp\": 0.8862629246676466, \"annualized_gdp\": 3.6}, {\"index\": 81, \"year\": \"1967-01-01T00:00:00\", \"quarter\": \"Q2\", \"real_gdp\": 28.02, \"non_annualized_gdp\": 0.060707781309143526, \"annualized_gdp\": 0.2}, {\"index\": 82, \"year\": \"1967-01-01T00:00:00\", \"quarter\": \"Q3\", \"real_gdp\": 28.285, \"non_annualized_gdp\": 0.9457530335474682, \"annualized_gdp\": 3.8}, {\"index\": 83, \"year\": \"1967-01-01T00:00:00\", \"quarter\": \"Q4\", \"real_gdp\": 28.498, \"non_annualized_gdp\": 0.7530493194272617, \"annualized_gdp\": 3.0}, {\"index\": 84, \"year\": \"1968-01-01T00:00:00\", \"quarter\": \"Q1\", \"real_gdp\": 29.079, \"non_annualized_gdp\": 2.038739560670922, \"annualized_gdp\": 8.4}, {\"index\": 85, \"year\": \"1968-01-01T00:00:00\", \"quarter\": \"Q2\", \"real_gdp\": 29.565, \"non_annualized_gdp\": 1.6713091922005592, \"annualized_gdp\": 6.9}, {\"index\": 86, \"year\": \"1968-01-01T00:00:00\", \"quarter\": \"Q3\", \"real_gdp\": 29.794, \"non_annualized_gdp\": 0.7745645188567536, \"annualized_gdp\": 3.1}, {\"index\": 87, \"year\": \"1968-01-01T00:00:00\", \"quarter\": \"Q4\", \"real_gdp\": 29.912, \"non_annualized_gdp\": 0.39605289655634873, \"annualized_gdp\": 1.6}, {\"index\": 88, \"year\": \"1969-01-01T00:00:00\", \"quarter\": \"Q1\", \"real_gdp\": 30.38, \"non_annualized_gdp\": 1.5645894624231076, \"annualized_gdp\": 6.4}, {\"index\": 89, \"year\": \"1969-01-01T00:00:00\", \"quarter\": \"Q2\", \"real_gdp\": 30.472, \"non_annualized_gdp\": 0.3028308097432597, \"annualized_gdp\": 1.2}, {\"index\": 90, \"year\": \"1969-01-01T00:00:00\", \"quarter\": \"Q3\", \"real_gdp\": 30.673, \"non_annualized_gdp\": 0.6596219480178425, \"annualized_gdp\": 2.7}, {\"index\": 91, \"year\": \"1969-01-01T00:00:00\", \"quarter\": \"Q4\", \"real_gdp\": 30.524, \"non_annualized_gdp\": -0.48576924330843857, \"annualized_gdp\": -1.9}, {\"index\": 92, \"year\": \"1970-01-01T00:00:00\", \"quarter\": \"Q1\", \"real_gdp\": 30.478, \"non_annualized_gdp\": -0.15070108766871765, \"annualized_gdp\": -0.6}, {\"index\": 93, \"year\": \"1970-01-01T00:00:00\", \"quarter\": \"Q2\", \"real_gdp\": 30.522, \"non_annualized_gdp\": 0.14436642824331297, \"annualized_gdp\": 0.6}, {\"index\": 94, \"year\": \"1970-01-01T00:00:00\", \"quarter\": \"Q3\", \"real_gdp\": 30.803, \"non_annualized_gdp\": 0.9206474018740658, \"annualized_gdp\": 3.7}, {\"index\": 95, \"year\": \"1970-01-01T00:00:00\", \"quarter\": \"Q4\", \"real_gdp\": 30.473, \"non_annualized_gdp\": -1.0713242216667267, \"annualized_gdp\": -4.2}, {\"index\": 96, \"year\": \"1971-01-01T00:00:00\", \"quarter\": \"Q1\", \"real_gdp\": 31.301, \"non_annualized_gdp\": 2.717159452630195, \"annualized_gdp\": 11.3}, {\"index\": 97, \"year\": \"1971-01-01T00:00:00\", \"quarter\": \"Q2\", \"real_gdp\": 31.47, \"non_annualized_gdp\": 0.5399188524328312, \"annualized_gdp\": 2.2}, {\"index\": 98, \"year\": \"1971-01-01T00:00:00\", \"quarter\": \"Q3\", \"real_gdp\": 31.729, \"non_annualized_gdp\": 0.8230060374960291, \"annualized_gdp\": 3.3}, {\"index\": 99, \"year\": \"1971-01-01T00:00:00\", \"quarter\": \"Q4\", \"real_gdp\": 31.804, \"non_annualized_gdp\": 0.2363768161618686, \"annualized_gdp\": 0.9}, {\"index\": 100, \"year\": \"1972-01-01T00:00:00\", \"quarter\": \"Q1\", \"real_gdp\": 32.389, \"non_annualized_gdp\": 1.8393912715381853, \"annualized_gdp\": 7.6}, {\"index\": 101, \"year\": \"1972-01-01T00:00:00\", \"quarter\": \"Q2\", \"real_gdp\": 33.124, \"non_annualized_gdp\": 2.269288956127078, \"annualized_gdp\": 9.4}, {\"index\": 102, \"year\": \"1972-01-01T00:00:00\", \"quarter\": \"Q3\", \"real_gdp\": 33.436, \"non_annualized_gdp\": 0.9419152276295062, \"annualized_gdp\": 3.8}, {\"index\": 103, \"year\": \"1972-01-01T00:00:00\", \"quarter\": \"Q4\", \"real_gdp\": 33.996, \"non_annualized_gdp\": 1.6748414882163005, \"annualized_gdp\": 6.9}, {\"index\": 104, \"year\": \"1973-01-01T00:00:00\", \"quarter\": \"Q1\", \"real_gdp\": 34.838, \"non_annualized_gdp\": 2.4767619719967016, \"annualized_gdp\": 10.3}, {\"index\": 105, \"year\": \"1973-01-01T00:00:00\", \"quarter\": \"Q2\", \"real_gdp\": 35.217, \"non_annualized_gdp\": 1.0878925311441465, \"annualized_gdp\": 4.4}, {\"index\": 106, \"year\": \"1973-01-01T00:00:00\", \"quarter\": \"Q3\", \"real_gdp\": 35.032, \"non_annualized_gdp\": -0.5253144788028573, \"annualized_gdp\": -2.1}, {\"index\": 107, \"year\": \"1973-01-01T00:00:00\", \"quarter\": \"Q4\", \"real_gdp\": 35.364, \"non_annualized_gdp\": 0.9477049554692875, \"annualized_gdp\": 3.8}, {\"index\": 108, \"year\": \"1974-01-01T00:00:00\", \"quarter\": \"Q1\", \"real_gdp\": 35.06, \"non_annualized_gdp\": -0.8596312634317242, \"annualized_gdp\": -3.4}, {\"index\": 109, \"year\": \"1974-01-01T00:00:00\", \"quarter\": \"Q2\", \"real_gdp\": 35.144, \"non_annualized_gdp\": 0.2395892755276557, \"annualized_gdp\": 1.0}, {\"index\": 110, \"year\": \"1974-01-01T00:00:00\", \"quarter\": \"Q3\", \"real_gdp\": 34.811, \"non_annualized_gdp\": -0.9475301616207558, \"annualized_gdp\": -3.7}, {\"index\": 111, \"year\": \"1974-01-01T00:00:00\", \"quarter\": \"Q4\", \"real_gdp\": 34.676, \"non_annualized_gdp\": -0.38780845135157854, \"annualized_gdp\": -1.5}, {\"index\": 112, \"year\": \"1975-01-01T00:00:00\", \"quarter\": \"Q1\", \"real_gdp\": 34.254, \"non_annualized_gdp\": -1.2169800438343643, \"annualized_gdp\": -4.8}, {\"index\": 113, \"year\": \"1975-01-01T00:00:00\", \"quarter\": \"Q2\", \"real_gdp\": 34.499, \"non_annualized_gdp\": 0.7152449348981275, \"annualized_gdp\": 2.9}, {\"index\": 114, \"year\": \"1975-01-01T00:00:00\", \"quarter\": \"Q3\", \"real_gdp\": 35.089, \"non_annualized_gdp\": 1.710194498391247, \"annualized_gdp\": 7.0}, {\"index\": 115, \"year\": \"1975-01-01T00:00:00\", \"quarter\": \"Q4\", \"real_gdp\": 35.562, \"non_annualized_gdp\": 1.3480007979708712, \"annualized_gdp\": 5.5}, {\"index\": 116, \"year\": \"1976-01-01T00:00:00\", \"quarter\": \"Q1\", \"real_gdp\": 36.362, \"non_annualized_gdp\": 2.2495922614026327, \"annualized_gdp\": 9.3}, {\"index\": 117, \"year\": \"1976-01-01T00:00:00\", \"quarter\": \"Q2\", \"real_gdp\": 36.628, \"non_annualized_gdp\": 0.7315329189813493, \"annualized_gdp\": 3.0}, {\"index\": 118, \"year\": \"1976-01-01T00:00:00\", \"quarter\": \"Q3\", \"real_gdp\": 36.829, \"non_annualized_gdp\": 0.5487605110844177, \"annualized_gdp\": 2.2}, {\"index\": 119, \"year\": \"1976-01-01T00:00:00\", \"quarter\": \"Q4\", \"real_gdp\": 37.096, \"non_annualized_gdp\": 0.7249721686714162, \"annualized_gdp\": 2.9}, {\"index\": 120, \"year\": \"1977-01-01T00:00:00\", \"quarter\": \"Q1\", \"real_gdp\": 37.535, \"non_annualized_gdp\": 1.1834160017252535, \"annualized_gdp\": 4.8}, {\"index\": 121, \"year\": \"1977-01-01T00:00:00\", \"quarter\": \"Q2\", \"real_gdp\": 38.264, \"non_annualized_gdp\": 1.9421872918609469, \"annualized_gdp\": 8.0}, {\"index\": 122, \"year\": \"1977-01-01T00:00:00\", \"quarter\": \"Q3\", \"real_gdp\": 38.955, \"non_annualized_gdp\": 1.8058749738657625, \"annualized_gdp\": 7.4}, {\"index\": 123, \"year\": \"1977-01-01T00:00:00\", \"quarter\": \"Q4\", \"real_gdp\": 38.956, \"non_annualized_gdp\": 0.0025670645616859837, \"annualized_gdp\": 0.0}, {\"index\": 124, \"year\": \"1978-01-01T00:00:00\", \"quarter\": \"Q1\", \"real_gdp\": 39.08, \"non_annualized_gdp\": 0.3183078344799138, \"annualized_gdp\": 1.3}, {\"index\": 125, \"year\": \"1978-01-01T00:00:00\", \"quarter\": \"Q2\", \"real_gdp\": 40.59, \"non_annualized_gdp\": 3.8638689866939746, \"annualized_gdp\": 16.4}, {\"index\": 126, \"year\": \"1978-01-01T00:00:00\", \"quarter\": \"Q3\", \"real_gdp\": 40.998, \"non_annualized_gdp\": 1.005173688100503, \"annualized_gdp\": 4.1}, {\"index\": 127, \"year\": \"1978-01-01T00:00:00\", \"quarter\": \"Q4\", \"real_gdp\": 41.549, \"non_annualized_gdp\": 1.3439679984389532, \"annualized_gdp\": 5.5}, {\"index\": 128, \"year\": \"1979-01-01T00:00:00\", \"quarter\": \"Q1\", \"real_gdp\": 41.624, \"non_annualized_gdp\": 0.18050975956100712, \"annualized_gdp\": 0.7}, {\"index\": 129, \"year\": \"1979-01-01T00:00:00\", \"quarter\": \"Q2\", \"real_gdp\": 41.669, \"non_annualized_gdp\": 0.108110705362278, \"annualized_gdp\": 0.4}, {\"index\": 130, \"year\": \"1979-01-01T00:00:00\", \"quarter\": \"Q3\", \"real_gdp\": 41.978, \"non_annualized_gdp\": 0.7415584727255384, \"annualized_gdp\": 3.0}, {\"index\": 131, \"year\": \"1979-01-01T00:00:00\", \"quarter\": \"Q4\", \"real_gdp\": 42.083, \"non_annualized_gdp\": 0.25013102101099827, \"annualized_gdp\": 1.0}, {\"index\": 132, \"year\": \"1980-01-01T00:00:00\", \"quarter\": \"Q1\", \"real_gdp\": 42.215, \"non_annualized_gdp\": 0.31366585081863224, \"annualized_gdp\": 1.3}, {\"index\": 133, \"year\": \"1980-01-01T00:00:00\", \"quarter\": \"Q2\", \"real_gdp\": 41.346, \"non_annualized_gdp\": -2.058510008290908, \"annualized_gdp\": -8.0}, {\"index\": 134, \"year\": \"1980-01-01T00:00:00\", \"quarter\": \"Q3\", \"real_gdp\": 41.296, \"non_annualized_gdp\": -0.12093068253276534, \"annualized_gdp\": -0.5}, {\"index\": 135, \"year\": \"1980-01-01T00:00:00\", \"quarter\": \"Q4\", \"real_gdp\": 42.067, \"non_annualized_gdp\": 1.8670089112747017, \"annualized_gdp\": 7.7}, {\"index\": 136, \"year\": \"1981-01-01T00:00:00\", \"quarter\": \"Q1\", \"real_gdp\": 42.891, \"non_annualized_gdp\": 1.9587800413625838, \"annualized_gdp\": 8.1}, {\"index\": 137, \"year\": \"1981-01-01T00:00:00\", \"quarter\": \"Q2\", \"real_gdp\": 42.573, \"non_annualized_gdp\": -0.7414142827166489, \"annualized_gdp\": -2.9}, {\"index\": 138, \"year\": \"1981-01-01T00:00:00\", \"quarter\": \"Q3\", \"real_gdp\": 43.083, \"non_annualized_gdp\": 1.1979423578324244, \"annualized_gdp\": 4.9}, {\"index\": 139, \"year\": \"1981-01-01T00:00:00\", \"quarter\": \"Q4\", \"real_gdp\": 42.613, \"non_annualized_gdp\": -1.090917531276835, \"annualized_gdp\": -4.3}, {\"index\": 140, \"year\": \"1982-01-01T00:00:00\", \"quarter\": \"Q1\", \"real_gdp\": 41.951, \"non_annualized_gdp\": -1.55351653251355, \"annualized_gdp\": -6.1}, {\"index\": 141, \"year\": \"1982-01-01T00:00:00\", \"quarter\": \"Q2\", \"real_gdp\": 42.143, \"non_annualized_gdp\": 0.45767681342518696, \"annualized_gdp\": 1.8}, {\"index\": 142, \"year\": \"1982-01-01T00:00:00\", \"quarter\": \"Q3\", \"real_gdp\": 41.982, \"non_annualized_gdp\": -0.38203260327931415, \"annualized_gdp\": -1.5}, {\"index\": 143, \"year\": \"1982-01-01T00:00:00\", \"quarter\": \"Q4\", \"real_gdp\": 41.998, \"non_annualized_gdp\": 0.03811157162593073, \"annualized_gdp\": 0.2}, {\"index\": 144, \"year\": \"1983-01-01T00:00:00\", \"quarter\": \"Q1\", \"real_gdp\": 42.552, \"non_annualized_gdp\": 1.3191104338301873, \"annualized_gdp\": 5.4}, {\"index\": 145, \"year\": \"1983-01-01T00:00:00\", \"quarter\": \"Q2\", \"real_gdp\": 43.52, \"non_annualized_gdp\": 2.2748636961835014, \"annualized_gdp\": 9.4}, {\"index\": 146, \"year\": \"1983-01-01T00:00:00\", \"quarter\": \"Q3\", \"real_gdp\": 44.39, \"non_annualized_gdp\": 1.9990808823529351, \"annualized_gdp\": 8.2}, {\"index\": 147, \"year\": \"1983-01-01T00:00:00\", \"quarter\": \"Q4\", \"real_gdp\": 45.316, \"non_annualized_gdp\": 2.0860554178869157, \"annualized_gdp\": 8.6}, {\"index\": 148, \"year\": \"1984-01-01T00:00:00\", \"quarter\": \"Q1\", \"real_gdp\": 46.202, \"non_annualized_gdp\": 1.9551593256244937, \"annualized_gdp\": 8.1}, {\"index\": 149, \"year\": \"1984-01-01T00:00:00\", \"quarter\": \"Q2\", \"real_gdp\": 47.0, \"non_annualized_gdp\": 1.727197956798411, \"annualized_gdp\": 7.1}, {\"index\": 150, \"year\": \"1984-01-01T00:00:00\", \"quarter\": \"Q3\", \"real_gdp\": 47.454, \"non_annualized_gdp\": 0.965957446808512, \"annualized_gdp\": 3.9}, {\"index\": 151, \"year\": \"1984-01-01T00:00:00\", \"quarter\": \"Q4\", \"real_gdp\": 47.843, \"non_annualized_gdp\": 0.8197412230791986, \"annualized_gdp\": 3.3}, {\"index\": 152, \"year\": \"1985-01-01T00:00:00\", \"quarter\": \"Q1\", \"real_gdp\": 48.307, \"non_annualized_gdp\": 0.9698388478983312, \"annualized_gdp\": 3.9}, {\"index\": 153, \"year\": \"1985-01-01T00:00:00\", \"quarter\": \"Q2\", \"real_gdp\": 48.732, \"non_annualized_gdp\": 0.8797896785144951, \"annualized_gdp\": 3.6}, {\"index\": 154, \"year\": \"1985-01-01T00:00:00\", \"quarter\": \"Q3\", \"real_gdp\": 49.476, \"non_annualized_gdp\": 1.526717557251908, \"annualized_gdp\": 6.2}, {\"index\": 155, \"year\": \"1985-01-01T00:00:00\", \"quarter\": \"Q4\", \"real_gdp\": 49.844, \"non_annualized_gdp\": 0.74379497129922, \"annualized_gdp\": 3.0}, {\"index\": 156, \"year\": \"1986-01-01T00:00:00\", \"quarter\": \"Q1\", \"real_gdp\": 50.309, \"non_annualized_gdp\": 0.9329106813257289, \"annualized_gdp\": 3.8}, {\"index\": 157, \"year\": \"1986-01-01T00:00:00\", \"quarter\": \"Q2\", \"real_gdp\": 50.536, \"non_annualized_gdp\": 0.45121151285059113, \"annualized_gdp\": 1.8}, {\"index\": 158, \"year\": \"1986-01-01T00:00:00\", \"quarter\": \"Q3\", \"real_gdp\": 51.02, \"non_annualized_gdp\": 0.9577331011556154, \"annualized_gdp\": 3.9}, {\"index\": 159, \"year\": \"1986-01-01T00:00:00\", \"quarter\": \"Q4\", \"real_gdp\": 51.294, \"non_annualized_gdp\": 0.5370442963543587, \"annualized_gdp\": 2.2}, {\"index\": 160, \"year\": \"1987-01-01T00:00:00\", \"quarter\": \"Q1\", \"real_gdp\": 51.676, \"non_annualized_gdp\": 0.7447264787304656, \"annualized_gdp\": 3.0}, {\"index\": 161, \"year\": \"1987-01-01T00:00:00\", \"quarter\": \"Q2\", \"real_gdp\": 52.233, \"non_annualized_gdp\": 1.0778698041643993, \"annualized_gdp\": 4.4}, {\"index\": 162, \"year\": \"1987-01-01T00:00:00\", \"quarter\": \"Q3\", \"real_gdp\": 52.686, \"non_annualized_gdp\": 0.8672678191947676, \"annualized_gdp\": 3.5}, {\"index\": 163, \"year\": \"1987-01-01T00:00:00\", \"quarter\": \"Q4\", \"real_gdp\": 53.591, \"non_annualized_gdp\": 1.7177238735147877, \"annualized_gdp\": 7.0}, {\"index\": 164, \"year\": \"1988-01-01T00:00:00\", \"quarter\": \"Q1\", \"real_gdp\": 53.868, \"non_annualized_gdp\": 0.5168778339646601, \"annualized_gdp\": 2.1}, {\"index\": 165, \"year\": \"1988-01-01T00:00:00\", \"quarter\": \"Q2\", \"real_gdp\": 54.576, \"non_annualized_gdp\": 1.3143239028736882, \"annualized_gdp\": 5.4}, {\"index\": 166, \"year\": \"1988-01-01T00:00:00\", \"quarter\": \"Q3\", \"real_gdp\": 54.896, \"non_annualized_gdp\": 0.5863383172090301, \"annualized_gdp\": 2.4}, {\"index\": 167, \"year\": \"1988-01-01T00:00:00\", \"quarter\": \"Q4\", \"real_gdp\": 55.627, \"non_annualized_gdp\": 1.3316088603905596, \"annualized_gdp\": 5.4}, {\"index\": 168, \"year\": \"1989-01-01T00:00:00\", \"quarter\": \"Q1\", \"real_gdp\": 56.193, \"non_annualized_gdp\": 1.0174915059233742, \"annualized_gdp\": 4.1}, {\"index\": 169, \"year\": \"1989-01-01T00:00:00\", \"quarter\": \"Q2\", \"real_gdp\": 56.621, \"non_annualized_gdp\": 0.7616607050700344, \"annualized_gdp\": 3.1}, {\"index\": 170, \"year\": \"1989-01-01T00:00:00\", \"quarter\": \"Q3\", \"real_gdp\": 57.041, \"non_annualized_gdp\": 0.7417742533688818, \"annualized_gdp\": 3.0}, {\"index\": 171, \"year\": \"1989-01-01T00:00:00\", \"quarter\": \"Q4\", \"real_gdp\": 57.153, \"non_annualized_gdp\": 0.196349993864066, \"annualized_gdp\": 0.8}, {\"index\": 172, \"year\": \"1990-01-01T00:00:00\", \"quarter\": \"Q1\", \"real_gdp\": 57.778, \"non_annualized_gdp\": 1.0935558938288454, \"annualized_gdp\": 4.4}, {\"index\": 173, \"year\": \"1990-01-01T00:00:00\", \"quarter\": \"Q2\", \"real_gdp\": 57.988, \"non_annualized_gdp\": 0.36346014053792247, \"annualized_gdp\": 1.5}, {\"index\": 174, \"year\": \"1990-01-01T00:00:00\", \"quarter\": \"Q3\", \"real_gdp\": 58.026, \"non_annualized_gdp\": 0.06553079947576018, \"annualized_gdp\": 0.3}, {\"index\": 175, \"year\": \"1990-01-01T00:00:00\", \"quarter\": \"Q4\", \"real_gdp\": 57.498, \"non_annualized_gdp\": -0.9099369248268118, \"annualized_gdp\": -3.6}, {\"index\": 176, \"year\": \"1991-01-01T00:00:00\", \"quarter\": \"Q1\", \"real_gdp\": 57.229, \"non_annualized_gdp\": -0.4678423597342488, \"annualized_gdp\": -1.9}, {\"index\": 177, \"year\": \"1991-01-01T00:00:00\", \"quarter\": \"Q2\", \"real_gdp\": 57.675, \"non_annualized_gdp\": 0.7793251673102762, \"annualized_gdp\": 3.2}, {\"index\": 178, \"year\": \"1991-01-01T00:00:00\", \"quarter\": \"Q3\", \"real_gdp\": 57.967, \"non_annualized_gdp\": 0.5062852188990058, \"annualized_gdp\": 2.0}, {\"index\": 179, \"year\": \"1991-01-01T00:00:00\", \"quarter\": \"Q4\", \"real_gdp\": 58.169, \"non_annualized_gdp\": 0.34847413183362635, \"annualized_gdp\": 1.4}, {\"index\": 180, \"year\": \"1992-01-01T00:00:00\", \"quarter\": \"Q1\", \"real_gdp\": 58.865, \"non_annualized_gdp\": 1.1965136069040296, \"annualized_gdp\": 4.9}, {\"index\": 181, \"year\": \"1992-01-01T00:00:00\", \"quarter\": \"Q2\", \"real_gdp\": 59.503, \"non_annualized_gdp\": 1.0838358956935328, \"annualized_gdp\": 4.4}, {\"index\": 182, \"year\": \"1992-01-01T00:00:00\", \"quarter\": \"Q3\", \"real_gdp\": 60.091, \"non_annualized_gdp\": 0.9881854696401878, \"annualized_gdp\": 4.0}, {\"index\": 183, \"year\": \"1992-01-01T00:00:00\", \"quarter\": \"Q4\", \"real_gdp\": 60.718, \"non_annualized_gdp\": 1.0434174834833876, \"annualized_gdp\": 4.2}, {\"index\": 184, \"year\": \"1993-01-01T00:00:00\", \"quarter\": \"Q1\", \"real_gdp\": 60.82, \"non_annualized_gdp\": 0.16798972298164755, \"annualized_gdp\": 0.7}, {\"index\": 185, \"year\": \"1993-01-01T00:00:00\", \"quarter\": \"Q2\", \"real_gdp\": 61.174, \"non_annualized_gdp\": 0.582045379809272, \"annualized_gdp\": 2.3}, {\"index\": 186, \"year\": \"1993-01-01T00:00:00\", \"quarter\": \"Q3\", \"real_gdp\": 61.466, \"non_annualized_gdp\": 0.47732696897374965, \"annualized_gdp\": 1.9}, {\"index\": 187, \"year\": \"1993-01-01T00:00:00\", \"quarter\": \"Q4\", \"real_gdp\": 62.302, \"non_annualized_gdp\": 1.360101519539255, \"annualized_gdp\": 5.6}, {\"index\": 188, \"year\": \"1994-01-01T00:00:00\", \"quarter\": \"Q1\", \"real_gdp\": 62.906, \"non_annualized_gdp\": 0.9694712850309768, \"annualized_gdp\": 3.9}, {\"index\": 189, \"year\": \"1994-01-01T00:00:00\", \"quarter\": \"Q2\", \"real_gdp\": 63.759, \"non_annualized_gdp\": 1.355991479350144, \"annualized_gdp\": 5.5}, {\"index\": 190, \"year\": \"1994-01-01T00:00:00\", \"quarter\": \"Q3\", \"real_gdp\": 64.131, \"non_annualized_gdp\": 0.5834470427704322, \"annualized_gdp\": 2.4}, {\"index\": 191, \"year\": \"1994-01-01T00:00:00\", \"quarter\": \"Q4\", \"real_gdp\": 64.866, \"non_annualized_gdp\": 1.1460915937690033, \"annualized_gdp\": 4.7}, {\"index\": 192, \"year\": \"1995-01-01T00:00:00\", \"quarter\": \"Q1\", \"real_gdp\": 65.096, \"non_annualized_gdp\": 0.3545771282335954, \"annualized_gdp\": 1.4}, {\"index\": 193, \"year\": \"1995-01-01T00:00:00\", \"quarter\": \"Q2\", \"real_gdp\": 65.29, \"non_annualized_gdp\": 0.2980213838023882, \"annualized_gdp\": 1.2}, {\"index\": 194, \"year\": \"1995-01-01T00:00:00\", \"quarter\": \"Q3\", \"real_gdp\": 65.846, \"non_annualized_gdp\": 0.8515852351049125, \"annualized_gdp\": 3.5}, {\"index\": 195, \"year\": \"1995-01-01T00:00:00\", \"quarter\": \"Q4\", \"real_gdp\": 66.293, \"non_annualized_gdp\": 0.6788567263007664, \"annualized_gdp\": 2.7}, {\"index\": 196, \"year\": \"1996-01-01T00:00:00\", \"quarter\": \"Q1\", \"real_gdp\": 66.789, \"non_annualized_gdp\": 0.7481936252696288, \"annualized_gdp\": 3.0}, {\"index\": 197, \"year\": \"1996-01-01T00:00:00\", \"quarter\": \"Q2\", \"real_gdp\": 67.903, \"non_annualized_gdp\": 1.6679393313270212, \"annualized_gdp\": 6.8}, {\"index\": 198, \"year\": \"1996-01-01T00:00:00\", \"quarter\": \"Q3\", \"real_gdp\": 68.513, \"non_annualized_gdp\": 0.898340279516368, \"annualized_gdp\": 3.6}, {\"index\": 199, \"year\": \"1996-01-01T00:00:00\", \"quarter\": \"Q4\", \"real_gdp\": 69.224, \"non_annualized_gdp\": 1.0377592573672128, \"annualized_gdp\": 4.2}, {\"index\": 200, \"year\": \"1997-01-01T00:00:00\", \"quarter\": \"Q1\", \"real_gdp\": 69.671, \"non_annualized_gdp\": 0.6457298046920182, \"annualized_gdp\": 2.6}, {\"index\": 201, \"year\": \"1997-01-01T00:00:00\", \"quarter\": \"Q2\", \"real_gdp\": 70.829, \"non_annualized_gdp\": 1.6620975728782232, \"annualized_gdp\": 6.8}, {\"index\": 202, \"year\": \"1997-01-01T00:00:00\", \"quarter\": \"Q3\", \"real_gdp\": 71.715, \"non_annualized_gdp\": 1.250900055062206, \"annualized_gdp\": 5.1}, {\"index\": 203, \"year\": \"1997-01-01T00:00:00\", \"quarter\": \"Q4\", \"real_gdp\": 72.331, \"non_annualized_gdp\": 0.8589555880917514, \"annualized_gdp\": 3.5}, {\"index\": 204, \"year\": \"1998-01-01T00:00:00\", \"quarter\": \"Q1\", \"real_gdp\": 73.054, \"non_annualized_gdp\": 0.9995714147460963, \"annualized_gdp\": 4.1}, {\"index\": 205, \"year\": \"1998-01-01T00:00:00\", \"quarter\": \"Q2\", \"real_gdp\": 73.73, \"non_annualized_gdp\": 0.9253428970350727, \"annualized_gdp\": 3.8}, {\"index\": 206, \"year\": \"1998-01-01T00:00:00\", \"quarter\": \"Q3\", \"real_gdp\": 74.653, \"non_annualized_gdp\": 1.2518649125186516, \"annualized_gdp\": 5.1}, {\"index\": 207, \"year\": \"1998-01-01T00:00:00\", \"quarter\": \"Q4\", \"real_gdp\": 75.86, \"non_annualized_gdp\": 1.6168137918100993, \"annualized_gdp\": 6.6}, {\"index\": 208, \"year\": \"1999-01-01T00:00:00\", \"quarter\": \"Q1\", \"real_gdp\": 76.578, \"non_annualized_gdp\": 0.946480358555238, \"annualized_gdp\": 3.8}, {\"index\": 209, \"year\": \"1999-01-01T00:00:00\", \"quarter\": \"Q2\", \"real_gdp\": 77.167, \"non_annualized_gdp\": 0.7691504087335771, \"annualized_gdp\": 3.1}, {\"index\": 210, \"year\": \"1999-01-01T00:00:00\", \"quarter\": \"Q3\", \"real_gdp\": 78.177, \"non_annualized_gdp\": 1.3088496377985475, \"annualized_gdp\": 5.3}, {\"index\": 211, \"year\": \"1999-01-01T00:00:00\", \"quarter\": \"Q4\", \"real_gdp\": 79.506, \"non_annualized_gdp\": 1.6999884876626032, \"annualized_gdp\": 7.0}, {\"index\": 212, \"year\": \"2000-01-01T00:00:00\", \"quarter\": \"Q1\", \"real_gdp\": 79.794, \"non_annualized_gdp\": 0.3622368123160475, \"annualized_gdp\": 1.5}, {\"index\": 213, \"year\": \"2000-01-01T00:00:00\", \"quarter\": \"Q2\", \"real_gdp\": 81.255, \"non_annualized_gdp\": 1.8309647341905388, \"annualized_gdp\": 7.5}, {\"index\": 214, \"year\": \"2000-01-01T00:00:00\", \"quarter\": \"Q3\", \"real_gdp\": 81.363, \"non_annualized_gdp\": 0.13291489754477154, \"annualized_gdp\": 0.5}, {\"index\": 215, \"year\": \"2000-01-01T00:00:00\", \"quarter\": \"Q4\", \"real_gdp\": 81.87, \"non_annualized_gdp\": 0.6231333652888967, \"annualized_gdp\": 2.5}, {\"index\": 216, \"year\": \"2001-01-01T00:00:00\", \"quarter\": \"Q1\", \"real_gdp\": 81.637, \"non_annualized_gdp\": -0.28459753267375604, \"annualized_gdp\": -1.1}, {\"index\": 217, \"year\": \"2001-01-01T00:00:00\", \"quarter\": \"Q2\", \"real_gdp\": 82.114, \"non_annualized_gdp\": 0.5842938863505566, \"annualized_gdp\": 2.4}, {\"index\": 218, \"year\": \"2001-01-01T00:00:00\", \"quarter\": \"Q3\", \"real_gdp\": 81.773, \"non_annualized_gdp\": -0.4152763231604941, \"annualized_gdp\": -1.7}, {\"index\": 219, \"year\": \"2001-01-01T00:00:00\", \"quarter\": \"Q4\", \"real_gdp\": 81.996, \"non_annualized_gdp\": 0.27270614995169434, \"annualized_gdp\": 1.1}, {\"index\": 220, \"year\": \"2002-01-01T00:00:00\", \"quarter\": \"Q1\", \"real_gdp\": 82.713, \"non_annualized_gdp\": 0.8744328991658115, \"annualized_gdp\": 3.5}, {\"index\": 221, \"year\": \"2002-01-01T00:00:00\", \"quarter\": \"Q2\", \"real_gdp\": 83.214, \"non_annualized_gdp\": 0.6057088970294934, \"annualized_gdp\": 2.4}, {\"index\": 222, \"year\": \"2002-01-01T00:00:00\", \"quarter\": \"Q3\", \"real_gdp\": 83.584, \"non_annualized_gdp\": 0.44463671978273434, \"annualized_gdp\": 1.8}, {\"index\": 223, \"year\": \"2002-01-01T00:00:00\", \"quarter\": \"Q4\", \"real_gdp\": 83.713, \"non_annualized_gdp\": 0.15433575803980507, \"annualized_gdp\": 0.6}, {\"index\": 224, \"year\": \"2003-01-01T00:00:00\", \"quarter\": \"Q1\", \"real_gdp\": 84.178, \"non_annualized_gdp\": 0.5554692819514334, \"annualized_gdp\": 2.2}, {\"index\": 225, \"year\": \"2003-01-01T00:00:00\", \"quarter\": \"Q2\", \"real_gdp\": 84.902, \"non_annualized_gdp\": 0.8600822067523627, \"annualized_gdp\": 3.5}, {\"index\": 226, \"year\": \"2003-01-01T00:00:00\", \"quarter\": \"Q3\", \"real_gdp\": 86.344, \"non_annualized_gdp\": 1.6984287767072541, \"annualized_gdp\": 7.0}, {\"index\": 227, \"year\": \"2003-01-01T00:00:00\", \"quarter\": \"Q4\", \"real_gdp\": 87.335, \"non_annualized_gdp\": 1.1477346428240522, \"annualized_gdp\": 4.7}, {\"index\": 228, \"year\": \"2004-01-01T00:00:00\", \"quarter\": \"Q1\", \"real_gdp\": 87.801, \"non_annualized_gdp\": 0.533577603480859, \"annualized_gdp\": 2.2}, {\"index\": 229, \"year\": \"2004-01-01T00:00:00\", \"quarter\": \"Q2\", \"real_gdp\": 88.47, \"non_annualized_gdp\": 0.7619503194724399, \"annualized_gdp\": 3.1}, {\"index\": 230, \"year\": \"2004-01-01T00:00:00\", \"quarter\": \"Q3\", \"real_gdp\": 89.307, \"non_annualized_gdp\": 0.9460834181078369, \"annualized_gdp\": 3.8}, {\"index\": 231, \"year\": \"2004-01-01T00:00:00\", \"quarter\": \"Q4\", \"real_gdp\": 90.201, \"non_annualized_gdp\": 1.001041351741735, \"annualized_gdp\": 4.1}, {\"index\": 232, \"year\": \"2005-01-01T00:00:00\", \"quarter\": \"Q1\", \"real_gdp\": 91.2, \"non_annualized_gdp\": 1.1075265240961958, \"annualized_gdp\": 4.5}, {\"index\": 233, \"year\": \"2005-01-01T00:00:00\", \"quarter\": \"Q2\", \"real_gdp\": 91.621, \"non_annualized_gdp\": 0.46162280701753533, \"annualized_gdp\": 1.9}, {\"index\": 234, \"year\": \"2005-01-01T00:00:00\", \"quarter\": \"Q3\", \"real_gdp\": 92.437, \"non_annualized_gdp\": 0.8906255116185181, \"annualized_gdp\": 3.6}, {\"index\": 235, \"year\": \"2005-01-01T00:00:00\", \"quarter\": \"Q4\", \"real_gdp\": 93.021, \"non_annualized_gdp\": 0.6317816458777363, \"annualized_gdp\": 2.6}, {\"index\": 236, \"year\": \"2006-01-01T00:00:00\", \"quarter\": \"Q1\", \"real_gdp\": 94.258, \"non_annualized_gdp\": 1.3298072478257543, \"annualized_gdp\": 5.4}, {\"index\": 237, \"year\": \"2006-01-01T00:00:00\", \"quarter\": \"Q2\", \"real_gdp\": 94.479, \"non_annualized_gdp\": 0.2344628572641088, \"annualized_gdp\": 0.9}, {\"index\": 238, \"year\": \"2006-01-01T00:00:00\", \"quarter\": \"Q3\", \"real_gdp\": 94.625, \"non_annualized_gdp\": 0.154531694873994, \"annualized_gdp\": 0.6}, {\"index\": 239, \"year\": \"2006-01-01T00:00:00\", \"quarter\": \"Q4\", \"real_gdp\": 95.431, \"non_annualized_gdp\": 0.8517833553500633, \"annualized_gdp\": 3.5}, {\"index\": 240, \"year\": \"2007-01-01T00:00:00\", \"quarter\": \"Q1\", \"real_gdp\": 95.655, \"non_annualized_gdp\": 0.23472456539280082, \"annualized_gdp\": 0.9}, {\"index\": 241, \"year\": \"2007-01-01T00:00:00\", \"quarter\": \"Q2\", \"real_gdp\": 96.203, \"non_annualized_gdp\": 0.5728921645496856, \"annualized_gdp\": 2.3}, {\"index\": 242, \"year\": \"2007-01-01T00:00:00\", \"quarter\": \"Q3\", \"real_gdp\": 96.726, \"non_annualized_gdp\": 0.5436420901635044, \"annualized_gdp\": 2.2}, {\"index\": 243, \"year\": \"2007-01-01T00:00:00\", \"quarter\": \"Q4\", \"real_gdp\": 97.314, \"non_annualized_gdp\": 0.6079027355623037, \"annualized_gdp\": 2.5}, {\"index\": 244, \"year\": \"2008-01-01T00:00:00\", \"quarter\": \"Q1\", \"real_gdp\": 96.755, \"non_annualized_gdp\": -0.5744291674373652, \"annualized_gdp\": -2.3}, {\"index\": 245, \"year\": \"2008-01-01T00:00:00\", \"quarter\": \"Q2\", \"real_gdp\": 97.254, \"non_annualized_gdp\": 0.5157356208981546, \"annualized_gdp\": 2.1}, {\"index\": 246, \"year\": \"2008-01-01T00:00:00\", \"quarter\": \"Q3\", \"real_gdp\": 96.728, \"non_annualized_gdp\": -0.540851790157742, \"annualized_gdp\": -2.1}, {\"index\": 247, \"year\": \"2008-01-01T00:00:00\", \"quarter\": \"Q4\", \"real_gdp\": 94.635, \"non_annualized_gdp\": -2.1637995203043476, \"annualized_gdp\": -8.4}, {\"index\": 248, \"year\": \"2009-01-01T00:00:00\", \"quarter\": \"Q1\", \"real_gdp\": 93.572, \"non_annualized_gdp\": -1.1232630633486578, \"annualized_gdp\": -4.4}, {\"index\": 249, \"year\": \"2009-01-01T00:00:00\", \"quarter\": \"Q2\", \"real_gdp\": 93.438, \"non_annualized_gdp\": -0.14320523233445936, \"annualized_gdp\": -0.6}, {\"index\": 250, \"year\": \"2009-01-01T00:00:00\", \"quarter\": \"Q3\", \"real_gdp\": 93.778, \"non_annualized_gdp\": 0.3638776514908318, \"annualized_gdp\": 1.5}, {\"index\": 251, \"year\": \"2009-01-01T00:00:00\", \"quarter\": \"Q4\", \"real_gdp\": 94.808, \"non_annualized_gdp\": 1.0983386295293152, \"annualized_gdp\": 4.5}, {\"index\": 252, \"year\": \"2010-01-01T00:00:00\", \"quarter\": \"Q1\", \"real_gdp\": 95.173, \"non_annualized_gdp\": 0.38498860855623457, \"annualized_gdp\": 1.5}, {\"index\": 253, \"year\": \"2010-01-01T00:00:00\", \"quarter\": \"Q2\", \"real_gdp\": 96.05, \"non_annualized_gdp\": 0.9214798314648012, \"annualized_gdp\": 3.7}, {\"index\": 254, \"year\": \"2010-01-01T00:00:00\", \"quarter\": \"Q3\", \"real_gdp\": 96.758, \"non_annualized_gdp\": 0.7371160853722003, \"annualized_gdp\": 3.0}, {\"index\": 255, \"year\": \"2010-01-01T00:00:00\", \"quarter\": \"Q4\", \"real_gdp\": 97.244, \"non_annualized_gdp\": 0.502284048864181, \"annualized_gdp\": 2.0}, {\"index\": 256, \"year\": \"2011-01-01T00:00:00\", \"quarter\": \"Q1\", \"real_gdp\": 97.01, \"non_annualized_gdp\": -0.24063181275965065, \"annualized_gdp\": -1.0}, {\"index\": 257, \"year\": \"2011-01-01T00:00:00\", \"quarter\": \"Q2\", \"real_gdp\": 97.704, \"non_annualized_gdp\": 0.7153901659622599, \"annualized_gdp\": 2.9}, {\"index\": 258, \"year\": \"2011-01-01T00:00:00\", \"quarter\": \"Q3\", \"real_gdp\": 97.677, \"non_annualized_gdp\": -0.027634487840811853, \"annualized_gdp\": -0.1}, {\"index\": 259, \"year\": \"2011-01-01T00:00:00\", \"quarter\": \"Q4\", \"real_gdp\": 98.809, \"non_annualized_gdp\": 1.1589217523060604, \"annualized_gdp\": 4.7}, {\"index\": 260, \"year\": \"2012-01-01T00:00:00\", \"quarter\": \"Q1\", \"real_gdp\": 99.583, \"non_annualized_gdp\": 0.7833294537946958, \"annualized_gdp\": 3.2}, {\"index\": 261, \"year\": \"2012-01-01T00:00:00\", \"quarter\": \"Q2\", \"real_gdp\": 100.011, \"non_annualized_gdp\": 0.4297922336141684, \"annualized_gdp\": 1.7}, {\"index\": 262, \"year\": \"2012-01-01T00:00:00\", \"quarter\": \"Q3\", \"real_gdp\": 100.146, \"non_annualized_gdp\": 0.13498515163332545, \"annualized_gdp\": 0.5}, {\"index\": 263, \"year\": \"2012-01-01T00:00:00\", \"quarter\": \"Q4\", \"real_gdp\": 100.26, \"non_annualized_gdp\": 0.11383380264813805, \"annualized_gdp\": 0.5}, {\"index\": 264, \"year\": \"2013-01-01T00:00:00\", \"quarter\": \"Q1\", \"real_gdp\": 101.148, \"non_annualized_gdp\": 0.8856971873129772, \"annualized_gdp\": 3.6}, {\"index\": 265, \"year\": \"2013-01-01T00:00:00\", \"quarter\": \"Q2\", \"real_gdp\": 101.273, \"non_annualized_gdp\": 0.12358128682722347, \"annualized_gdp\": 0.5}, {\"index\": 266, \"year\": \"2013-01-01T00:00:00\", \"quarter\": \"Q3\", \"real_gdp\": 102.066, \"non_annualized_gdp\": 0.7830320026068215, \"annualized_gdp\": 3.2}, {\"index\": 267, \"year\": \"2013-01-01T00:00:00\", \"quarter\": \"Q4\", \"real_gdp\": 102.881, \"non_annualized_gdp\": 0.7985029294770029, \"annualized_gdp\": 3.2}, {\"index\": 268, \"year\": \"2014-01-01T00:00:00\", \"quarter\": \"Q1\", \"real_gdp\": 102.59, \"non_annualized_gdp\": -0.2828510609344746, \"annualized_gdp\": -1.1}, {\"index\": 269, \"year\": \"2014-01-01T00:00:00\", \"quarter\": \"Q2\", \"real_gdp\": 103.979, \"non_annualized_gdp\": 1.3539331318841952, \"annualized_gdp\": 5.5}, {\"index\": 270, \"year\": \"2014-01-01T00:00:00\", \"quarter\": \"Q3\", \"real_gdp\": 105.248, \"non_annualized_gdp\": 1.2204387424383822, \"annualized_gdp\": 5.0}, {\"index\": 271, \"year\": \"2014-01-01T00:00:00\", \"quarter\": \"Q4\", \"real_gdp\": 105.841, \"non_annualized_gdp\": 0.5634311340832978, \"annualized_gdp\": 2.3}, {\"index\": 272, \"year\": \"2015-01-01T00:00:00\", \"quarter\": \"Q1\", \"real_gdp\": 106.845, \"non_annualized_gdp\": 0.9485927003713164, \"annualized_gdp\": 3.8}, {\"index\": 273, \"year\": \"2015-01-01T00:00:00\", \"quarter\": \"Q2\", \"real_gdp\": 107.568, \"non_annualized_gdp\": 0.6766811736627816, \"annualized_gdp\": 2.7}, {\"index\": 274, \"year\": \"2015-01-01T00:00:00\", \"quarter\": \"Q3\", \"real_gdp\": 107.958, \"non_annualized_gdp\": 0.3625613565372607, \"annualized_gdp\": 1.5}, {\"index\": 275, \"year\": \"2015-01-01T00:00:00\", \"quarter\": \"Q4\", \"real_gdp\": 108.131, \"non_annualized_gdp\": 0.16024750365883197, \"annualized_gdp\": 0.6}, {\"index\": 276, \"year\": \"2016-01-01T00:00:00\", \"quarter\": \"Q1\", \"real_gdp\": 108.744, \"non_annualized_gdp\": 0.5669049578751695, \"annualized_gdp\": 2.3}, {\"index\": 277, \"year\": \"2016-01-01T00:00:00\", \"quarter\": \"Q2\", \"real_gdp\": 109.083, \"non_annualized_gdp\": 0.3117413374530996, \"annualized_gdp\": 1.3}, {\"index\": 278, \"year\": \"2016-01-01T00:00:00\", \"quarter\": \"Q3\", \"real_gdp\": 109.677, \"non_annualized_gdp\": 0.5445394791122432, \"annualized_gdp\": 2.2}, {\"index\": 279, \"year\": \"2016-01-01T00:00:00\", \"quarter\": \"Q4\", \"real_gdp\": 110.367, \"non_annualized_gdp\": 0.6291200525178458, \"annualized_gdp\": 2.5}, {\"index\": 280, \"year\": \"2017-01-01T00:00:00\", \"quarter\": \"Q1\", \"real_gdp\": 110.991, \"non_annualized_gdp\": 0.5653863926717182, \"annualized_gdp\": 2.3}, {\"index\": 281, \"year\": \"2017-01-01T00:00:00\", \"quarter\": \"Q2\", \"real_gdp\": 111.465, \"non_annualized_gdp\": 0.4270616536475964, \"annualized_gdp\": 1.7}, {\"index\": 282, \"year\": \"2017-01-01T00:00:00\", \"quarter\": \"Q3\", \"real_gdp\": 112.278, \"non_annualized_gdp\": 0.7293769344637351, \"annualized_gdp\": 2.9}, {\"index\": 283, \"year\": \"2017-01-01T00:00:00\", \"quarter\": \"Q4\", \"real_gdp\": 113.351, \"non_annualized_gdp\": 0.955663620655866, \"annualized_gdp\": 3.9}, {\"index\": 284, \"year\": \"2018-01-01T00:00:00\", \"quarter\": \"Q1\", \"real_gdp\": 114.407, \"non_annualized_gdp\": 0.9316194828453188, \"annualized_gdp\": 3.8}, {\"index\": 285, \"year\": \"2018-01-01T00:00:00\", \"quarter\": \"Q2\", \"real_gdp\": 115.172, \"non_annualized_gdp\": 0.6686653788666783, \"annualized_gdp\": 2.7}, {\"index\": 286, \"year\": \"2018-01-01T00:00:00\", \"quarter\": \"Q3\", \"real_gdp\": 115.777, \"non_annualized_gdp\": 0.5253012885076269, \"annualized_gdp\": 2.1}, {\"index\": 287, \"year\": \"2018-01-01T00:00:00\", \"quarter\": \"Q4\", \"real_gdp\": 116.157, \"non_annualized_gdp\": 0.32821717612306023, \"annualized_gdp\": 1.3}, {\"index\": 288, \"year\": \"2019-01-01T00:00:00\", \"quarter\": \"Q1\", \"real_gdp\": 116.999, \"non_annualized_gdp\": 0.7248809800528585, \"annualized_gdp\": 2.9}, {\"index\": 289, \"year\": \"2019-01-01T00:00:00\", \"quarter\": \"Q2\", \"real_gdp\": 117.433, \"non_annualized_gdp\": 0.3709433413960903, \"annualized_gdp\": 1.5}, {\"index\": 290, \"year\": \"2019-01-01T00:00:00\", \"quarter\": \"Q3\", \"real_gdp\": 118.181, \"non_annualized_gdp\": 0.6369589468037012, \"annualized_gdp\": 2.6}, {\"index\": 291, \"year\": \"2019-01-01T00:00:00\", \"quarter\": \"Q4\", \"real_gdp\": 118.874, \"non_annualized_gdp\": 0.5863886749985174, \"annualized_gdp\": 2.4}, {\"index\": 292, \"year\": \"2020-01-01T00:00:00\", \"quarter\": \"Q1\", \"real_gdp\": 117.373, \"non_annualized_gdp\": -1.2626814946918508, \"annualized_gdp\": -5.0}, {\"index\": 293, \"year\": \"2020-01-01T00:00:00\", \"quarter\": \"Q2\", \"real_gdp\": 106.228, \"non_annualized_gdp\": -9.495369463164451, \"annualized_gdp\": -32.9}]}}, {\"actions\": false, \"mode\": \"vega-lite\"});\n",
       "</script>"
      ],
      "text/plain": [
       "alt.FacetChart(...)"
      ]
     },
     "execution_count": 110,
     "metadata": {},
     "output_type": "execute_result"
    }
   ],
   "source": [
    "a = alt.Chart().mark_bar(width=3.25).encode(\n",
    "    x=alt.X('quarter:O', title=None, axis=alt.Axis(labels=False, domain=False, ticks=False)),\n",
    "    y='non_annualized_gdp:Q',\n",
    "    #column=alt.Facet('year:O', spacing=0, header=alt.Header(labels=False, title=None)),\n",
    "    #detail='quarter:N',\n",
    "    color=alt.condition(alt.datum.non_annualized_gdp > 0, alt.value('blue'), alt.value('maroon')),\n",
    "    #text = 'num:Q'\n",
    ")\n",
    "\n",
    "b = alt.Chart().mark_bar(width=3.25).encode(\n",
    "    x=alt.X('quarter:O', title=None, axis=alt.Axis(labels=False, ticks=False)),\n",
    "    y='annualized_gdp:Q',\n",
    "    #column=alt.Facet('year:O', spacing=0, header=alt.Header(labels=False, title=None)),\n",
    "    #detail='quarter:N',\n",
    "    color=alt.condition(alt.datum.annualized_gdp > 0, alt.value('orange'), alt.value('violet')),\n",
    ")\n",
    "\n",
    "n_ann_gdp = alt.Chart().transform_filter({'field': 'year', 'oneOf': [2008, 2020], 'timeUnit': 'year'}).mark_text(color='maroon', dx=-12, dy=7, fontSize=12).encode(\n",
    "    x=alt.X('quarter:O', title=None, aggregate={'argmin': 'non_annualized_gdp'}),# axis=alt.Axis(labels=False, domain=False, ticks=False)),\n",
    "    y='min(non_annualized_gdp):Q',\n",
    "    text=alt.Text('min(non_annualized_gdp):Q', format='.2', )\n",
    "    #x=alt.X('quarter', aggregate={'argmin': 'non_annualized_gdp'})\n",
    ")\n",
    "\n",
    "ann_gdp = alt.Chart().transform_filter(alt.FieldOneOfPredicate(field='year', oneOf=[2008, 2020], timeUnit='year')).mark_text(color='violet', dx=-12, dy=0, fontSize=12).encode(\n",
    "    x=alt.X('quarter:O', title=None, aggregate={'argmin': 'annualized_gdp'}),# axis=alt.Axis(labels=False, domain=False, ticks=False)),\n",
    "    y=alt.Y('min(annualized_gdp):Q', title='Annualized GDP,  Real GDP'),\n",
    "    text=alt.Text('min(annualized_gdp):Q', format='.2', )\n",
    "    #x=alt.X('quarter', aggregate={'argmin': 'non_annualized_gdp'})\n",
    ")\n",
    "\n",
    "alt.layer(b, a, n_ann_gdp, ann_gdp, data=usa_gdp).facet(\n",
    "    column=alt.Facet('year:T', header=alt.Header(labels=True, labelColor='grey', labelOrient='bottom', format=\"%y\", formatType='time', title=None)),\n",
    "    spacing=0, \n",
    "    bounds='flush'\n",
    ").configure_axis(domain=False, \n",
    "                 labelColor='grey', \n",
    "                 tickColor='lightgrey', \n",
    "                 domainColor='lightgrey', \n",
    "                 titleColor='grey'\n",
    "                ).configure_view(strokeWidth=0, step=4).configure_axisY(grid=True,)"
   ]
  },
  {
   "cell_type": "markdown",
   "metadata": {},
   "source": [
    "We can see clearly that the damage to the economy is greater than the 2008 recession"
   ]
  }
 ],
 "metadata": {
  "kernelspec": {
   "display_name": "Python 3",
   "language": "python",
   "name": "python3"
  },
  "language_info": {
   "codemirror_mode": {
    "name": "ipython",
    "version": 3
   },
   "file_extension": ".py",
   "mimetype": "text/x-python",
   "name": "python",
   "nbconvert_exporter": "python",
   "pygments_lexer": "ipython3",
   "version": "3.7.3"
  }
 },
 "nbformat": 4,
 "nbformat_minor": 4
}
