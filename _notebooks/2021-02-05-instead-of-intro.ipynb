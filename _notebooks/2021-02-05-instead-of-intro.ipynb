{
 "cells": [
  {
   "cell_type": "markdown",
   "metadata": {},
   "source": [
    "# Instead of intro\n",
    "> The Limit Order Book\n",
    "\n",
    "- toc: false\n",
    "- branch: master\n",
    "- badges: false\n",
    "- comments: true\n",
    "- categories: [notebook]"
   ]
  },
  {
   "cell_type": "markdown",
   "metadata": {},
   "source": [
    "Let’s start with some interesting data. The data that has already been downloaded, stored and preprocessed to the form that can be a starting point for further analysis. I selected latest available day for one instrument.\n",
    "\n",
    "Ladies and gentlemen, let me introduce you to below numpy arrays:\n",
    "* ```price_matrix``` \n",
    "* ```count_matrix```\n",
    "* ```volume_matrix```\n",
    "* ```tradebook```\n",
    "* ```time```\n",
    "\n",
    "The first glance - shapes and datatypes. Not a surprise - ```time``` is a vector of ```numpy.datetime64```, remaining matrices contain ```floats```. In fact counts - for sure - and volumes - in most circumstances - in orderbook might be stored as ```int``` but same format might be convinient in the future. \n",
    "\n",
    "It's worth mentioning that one dimension in each array is the same and reflects count of timestamps for the particular day. Another observation is that all arrays could be stored as one matrix or ```pandas.DataFrame``` as maximum ```numpy.ndim``` (after reducing redundant dimension) is equal to 2. It's not done for a reason that will become clear when doing feature engineering."
   ]
  },
  {
   "cell_type": "code",
   "execution_count": 1,
   "metadata": {},
   "outputs": [],
   "source": [
    "#hide_input\n",
    "import os\n",
    "import sys\n",
    "sys.path.insert(0, os.path.abspath('../'))\n",
    "import matplotlib.pyplot as plt\n",
    "import pandas as pd\n",
    "\n",
    "import warnings\n",
    "from pandas.core.common import SettingWithCopyWarning\n",
    "\n",
    "warnings.simplefilter(action=\"ignore\", category=SettingWithCopyWarning)\n",
    "warnings.simplefilter(action=\"ignore\", category=RuntimeWarning)\n",
    "warnings.simplefilter(action=\"ignore\", category=FutureWarning)\n",
    "\n",
    "import utils\n",
    "import json\n",
    "import numpy as np\n",
    "from tkinter.filedialog import  askopenfilenames\n",
    "from utils_data_manipulation import calc_pressure_no_first_place, calc_pressure, calc_volume_levels\n",
    "import pandas as pd\n",
    "import datetime as dt\n",
    "import os.path\n",
    "\n",
    "import tensorflow as tf\n",
    "\n",
    "from utils import RepeatedTimer\n",
    "import sys\n",
    "from instrument import InstrumentFull\n",
    "\n",
    "from time import perf_counter_ns\n",
    "\n",
    "np.set_printoptions(precision=2)\n",
    "np.set_printoptions(suppress=True, formatter={'float_kind': '{:4.3f}'.format})\n",
    "np.set_printoptions(linewidth=200)\n",
    "\n",
    "utils.set_path()\n",
    "\n",
    "configs = json.loads(open('configs.json').read())\n",
    "filepath = askopenfilenames(initialdir='./source/raw')\n",
    "\n",
    "instrument = InstrumentFull(filepath[0], configs)\n",
    "time, tick, orderbook, tradebook = instrument.make_orderbook()\n",
    "\n",
    "final_params_list = []\n",
    "\n",
    "volume_weights = np.array([0.5, 0.6, 0.7, 0.9, 1.0])\n",
    "count_weights = np.array([0.5, 0.6, 0.7, 0.9, 1.0])\n",
    "params_list = ['vmdb', 'vwmdb', 'cmdb', 'cwmdb', 'vtb', 'ctb', 'vmda', 'vwmda', 'cmda', 'cwmda', 'vta', 'cta',\n",
    "               'vtu', 'ctu']\n",
    "temp_params = np.zeros(\n",
    "    (orderbook.shape[0], (len(params_list) + 9)))  # TODO: make + 9 as dynamic - based on params selected\n",
    "\n",
    "_temp_tl = time.reshape(-1)\n",
    "\n",
    "sp_map = np.array([[0, 1, 2, 3, 4], [4, 3, 2, 1, 0]]).transpose()\n",
    "chunk_len = orderbook.shape[0]\n",
    "\n",
    "_midprice = np.average(orderbook[:, 0, (0, 3)], axis=1)\n",
    "df = pd.DataFrame(_midprice, columns=['midprice'], index=_temp_tl)\n",
    "\n",
    "price_matrix = np.zeros((1, 10, chunk_len))  # price\n",
    "volume_matrix = np.zeros((1, 10, chunk_len))  # size of demand supply (counts)\n",
    "count_matrix = np.zeros((1, 10, chunk_len))  # count of order\n",
    "market_position = np.zeros((1, 1, chunk_len))\n",
    "\n",
    "for i in range(0, 5):\n",
    "    price_matrix[0, i] = orderbook[:, sp_map[sp_map[:, 0] == i, 1][0], 3]\n",
    "    price_matrix[0, i + 5] = orderbook[:, i, 0]\n",
    "    count_matrix[0, i] = orderbook[:, sp_map[sp_map[:, 0] == i, 1][0], 4]\n",
    "    count_matrix[0, i + 5] = orderbook[:, i, 1]\n",
    "    volume_matrix[0, i] = orderbook[:, sp_map[sp_map[:, 0] == i, 1][0], 5]\n",
    "    volume_matrix[0, i + 5] = orderbook[:, i, 2]"
   ]
  },
  {
   "cell_type": "code",
   "execution_count": 2,
   "metadata": {},
   "outputs": [
    {
     "name": "stdout",
     "output_type": "stream",
     "text": [
      "(1, 10, 52027) (1, 10, 52027) (1, 10, 52027) (52027, 3) (52027, 1)\n",
      "float64 float64 float64 float64 datetime64[us]\n"
     ]
    }
   ],
   "source": [
    "print(price_matrix.shape, count_matrix.shape, volume_matrix.shape, tradebook.shape, time.shape)\n",
    "print(price_matrix.dtype, count_matrix.dtype, volume_matrix.dtype, tradebook.dtype, time.dtype)"
   ]
  },
  {
   "cell_type": "markdown",
   "metadata": {},
   "source": [
    "## A lot of data!\n",
    "\n",
    "I guess it might be a right place to explain motivations behind why I even bother to analyze order book, not omnipresent OHLCV data. \n",
    "\n",
    "OHLCV or Open, High, Low, Close, Volume are aggregates that could be derived from ```tradebook``` array connected with ```time``` vector. So let's see what's inside a chunk of ```tradebook```.\n",
    "\n",
    "Columns of the array store:\n",
    "1. price of the transaction - self explanatory\n",
    "2. volume traded\n",
    "3. count of transactions - something that OHLCV is missing\n",
    "\n",
    "The first printed row ```[1940.   10.    3.]``` says: for the price ```1940.0``` there were ```10``` instruments traded (Volume) that were performed with ```3``` (Count) counterparties. This last piece of information is basically saying that 4 different investors performed the trade while 3 were on the same side (bid or ask) and 1 investor was on the opposite side (ask or bid). \n",
    "The last part is something I deducted preprocessing the data. It hasn't been written anywere."
   ]
  },
  {
   "cell_type": "code",
   "execution_count": 31,
   "metadata": {},
   "outputs": [
    {
     "name": "stdout",
     "output_type": "stream",
     "text": [
      "[[1940.   10.    3.]\n",
      " [   0.    0.    0.]\n",
      " [   0.    0.    0.]\n",
      " [1940.    2.    2.]\n",
      " [   0.    0.    0.]\n",
      " [   0.    0.    0.]\n",
      " [   0.    0.    0.]\n",
      " [   0.    0.    0.]\n",
      " [1940.   15.    3.]\n",
      " [   0.    0.    0.]] \n",
      " \n",
      " [['2021-02-04T08:54:59.749081']\n",
      " ['2021-02-04T08:55:00.352153']\n",
      " ['2021-02-04T08:55:00.368089']\n",
      " ['2021-02-04T08:55:00.389785']\n",
      " ['2021-02-04T08:55:00.389785']\n",
      " ['2021-02-04T08:55:01.371481']\n",
      " ['2021-02-04T08:55:01.393664']\n",
      " ['2021-02-04T08:55:01.409254']\n",
      " ['2021-02-04T08:55:01.424883']\n",
      " ['2021-02-04T08:55:01.424883']]\n"
     ]
    }
   ],
   "source": [
    "selected_range = range(160,170)\n",
    "print(tradebook[selected_range,:],'\\n', '\\n', time[selected_range])"
   ]
  },
  {
   "cell_type": "markdown",
   "metadata": {},
   "source": [
    "### Collected data\n",
    "Hmmm, tradebook array is not very populated, is it? This is a good time to explain what I actually collect, and what is stored in places occupied by zeros?\n",
    "\n",
    "Live downloading of the data gathers literally every change in the limit order book up to 5th level with the timestamp when the event has happened. There might be lots of events happenning (while OHLCV gathers only one specific - Trades). Example of events that happen every day for tens of thousands times on one instruments (apart obvious Trades):\n",
    "1. Some investor input new limit order to buy no higher than ```1939.0``` of ```3``` pieces of observed instrument. That event changes ```count_matrix``` adding ```+=1```, ```volume_matrix``` is ```+=3``` on the same place where ```1939.0``` price is in the limit orderbook.\n",
    "2. Another investor that already had an order placed as buy limit of ```5``` pieces for no more than ```1938.0``` decides that they'll shift the order lower, as bigger drop in the price is expected. Then they modifies existing order not changing volume but only price to ```1937.0```. This deducts ```-=5``` on the ```volume_matrix```, ```-=1``` on ```count_matrix``` in place where price ```1938.0``` is and at the same time adds those values one level lower.\n",
    "3. Cancelation of order\n Counting of not zero rows as percentago of all rows:"
   ]
  },
  {
   "cell_type": "code",
   "execution_count": 57,
   "metadata": {},
   "outputs": [
    {
     "name": "stdout",
     "output_type": "stream",
     "text": [
      "6.78%\n"
     ]
    }
   ],
   "source": [
    "print(f'{np.sum(tradebook[:,0]!=0)/tradebook.shape[0]*100:0.2f}%')"
   ]
  },
  {
   "cell_type": "markdown",
   "metadata": {},
   "source": [
    "**Tradebook stands only for a fraction of events that happen every day!** \n",
    "\n",
    "Of course, it might be the case that trades prices & volumes are the most important information for - let's say it for the first time - *prediction of the future prices*. But wouldn't it be also important to add some deeper layers of understanding what is going on everyday on the stock exchange? \n",
    "\n",
    "For instance, taking the above chunk of tradebook one might ask - who initiated the trade? I mean, one side of the transaction was - in the most typical situation - on the limit order book and the second executed the market order clearing the existing limit order. So who executed market order clearing limit order on the other side? Placing market order by the investor is suggesting something about their expectations of the future prices, isn't it? \n",
    "\n",
    "On top of that, what if we could detect investors ever-shifting their orders, so ones that clearly don't have intention to trade within current price range, but are present in the order book nevertheless? We're not able to identify intentions of individual investors that have orders opened with assumed no will to perform actual transactions, but maybe this is actually saying something about the most probable direction of the market?\n",
    "\n",
    "On most stock exchanges there is possibility to hide total value of your order allowing others to see just a tip of an iceberg. What if we could find out where these *shy* investors are?\n",
    "\n",
    "Let's move on to the data collected. \n",
    "Gathering literally every event allows to simply count events, regardless what has changed. Results of this simple excersise tells something on its own. Below there is 5 minutes rolling count of events across one day. Not surprisingly - the beginning and the end of the session are places with most order book activity. It looks similar to the distribution of volumes traded during the day."
   ]
  },
  {
   "cell_type": "code",
   "execution_count": 56,
   "metadata": {},
   "outputs": [
    {
     "data": {
      "image/png": "[encoded data removed]",
      "text/plain": [
       "<Figure size 432x288 with 1 Axes>"
      ]
     },
     "metadata": {
      "needs_background": "light"
     },
     "output_type": "display_data"
    }
   ],
   "source": [
    "plt.plot(time, pd.DataFrame(np.arange(time.shape[0]), index=time.reshape(-1)).rolling('5min').count().values)"
   ]
  },
  {
   "cell_type": "markdown",
   "metadata": {},
   "source": [
    "### Order book matrices\n",
    "\n",
    "For the same ```selected_range``` as in case of tradebook, let's see what the data of order book matrices looks like. I'll describe it for you: in rows you see descending order of prices. Top 5 rows are **best ask** prices, volumes and counts. They are followed by bottom 5 rows that represents 5 best **best bid** prices. First column of every matrix is image of order book for the same timestamp. So we can say that on the moment represented by the first column best prices were created by:\n",
    "* 7 investors wanting to sell 28 pieces of analyzed instrument for ```1940.0```, while\n",
    "* 4 investor wanting to buy 14 pieces of analyzed instrument for ```1939.0```\n",
    "\n",
    "Wait a second! That should enable to answer one of our questions asked above! \n",
    "\n",
    "> Important: *Please just accept that tradebook index is shifted by 3 rows. It's due to the fact that orderbook change that transaction makes is recorder before the transaction itself. It is specific to the particular data API I'm using and is most probably different elsewhere. It's also not a subject of this blog.*\n",
    "\n",
    "The transaction we're matching with change of the order book from column 1 to column 2 is ```[1940.    2.    2.]```. So market order *had to* come from the bid side! \n",
    "We also see that the count of orders at first ask decreased by 1, while count of transactions is 2. That *must've* been two investors performing market orders.\n",
    "\n",
    "Additionally, analyzed chunk of order and trade books says that there is some *pressure* from bid side (additional volume of 10 on the last level of orderbook in the first column), then there are decreases in ask side (one is most probably another transaction initiated by bid side and the second is one investor changing or cancelling their order of 10)"
   ]
  },
  {
   "cell_type": "code",
   "execution_count": 76,
   "metadata": {},
   "outputs": [
    {
     "name": "stdout",
     "output_type": "stream",
     "text": [
      "price\n",
      " [[[1944. 1944. 1944. 1944. 1944. 1944. 1944. 1944. 1944. 1944.]\n",
      "  [1943. 1943. 1943. 1943. 1943. 1943. 1943. 1943. 1943. 1943.]\n",
      "  [1942. 1942. 1942. 1942. 1942. 1942. 1942. 1942. 1942. 1942.]\n",
      "  [1941. 1941. 1941. 1941. 1941. 1941. 1941. 1941. 1941. 1941.]\n",
      "  [1940. 1940. 1940. 1940. 1940. 1940. 1940. 1940. 1940. 1940.]\n",
      "  [1939. 1939. 1939. 1939. 1939. 1939. 1939. 1939. 1939. 1939.]\n",
      "  [1938. 1938. 1938. 1938. 1938. 1938. 1938. 1938. 1938. 1938.]\n",
      "  [1937. 1937. 1937. 1937. 1937. 1937. 1937. 1937. 1937. 1937.]\n",
      "  [1936. 1936. 1936. 1936. 1936. 1936. 1936. 1936. 1936. 1936.]\n",
      "  [1935. 1935. 1935. 1935. 1935. 1935. 1935. 1935. 1935. 1935.]]] \n",
      " \n",
      " volume\n",
      " [[[ 48.  48.  48.  48.  48.  48.  48.  48.  48.  48.]\n",
      "  [ 42.  42.  42.  42.  42.  32.  32.  32.  32.  32.]\n",
      "  [ 18.  18.  18.  18.  18.  18.  18.  18.  18.  18.]\n",
      "  [ 36.  36.  36.  36.  36.  36.  36.  36.  36.  36.]\n",
      "  [ 28.  26.  26.  26.  26.  15.  15.  15.  15.  15.]\n",
      "  [ 14.  14.  14.  14.  14.  14.  14.  14.  14.  14.]\n",
      "  [ 23.  23.  23.  23.  23.  23.  23.  23.  23.  23.]\n",
      "  [ 41.  41.  41.  41.  41.  41.  41.  41.  41.  41.]\n",
      "  [139. 139. 139. 139. 139. 139. 139. 139. 139. 139.]\n",
      "  [ 43.  53.  53.  53.  53.  53.  53.  53.  53.  53.]]] \n",
      " \n",
      " count\n",
      " [[[12. 12. 12. 12. 12. 12. 12. 12. 12. 12.]\n",
      "  [11. 11. 11. 11. 11. 10. 10. 10. 10. 10.]\n",
      "  [ 6.  6.  6.  6.  6.  6.  6.  6.  6.  6.]\n",
      "  [ 7.  7.  7.  7.  7.  7.  7.  7.  7.  7.]\n",
      "  [ 7.  6.  6.  6.  6.  5.  5.  5.  5.  5.]\n",
      "  [ 4.  4.  4.  4.  4.  4.  4.  4.  4.  4.]\n",
      "  [12. 12. 12. 12. 12. 12. 12. 12. 12. 12.]\n",
      "  [18. 18. 18. 18. 18. 18. 18. 18. 18. 18.]\n",
      "  [14. 14. 14. 14. 14. 14. 14. 14. 14. 14.]\n",
      "  [19. 20. 20. 20. 20. 20. 20. 20. 20. 20.]]] \n",
      " \n",
      "\n",
      "volume diff \n",
      " [[[  0.   0.   0.   0.   0.   0.   0.   0.   0.]\n",
      "  [  0.   0.   0.   0. -10.   0.   0.   0.   0.]\n",
      "  [  0.   0.   0.   0.   0.   0.   0.   0.   0.]\n",
      "  [  0.   0.   0.   0.   0.   0.   0.   0.   0.]\n",
      "  [ -2.   0.   0.   0. -11.   0.   0.   0.   0.]\n",
      "  [  0.   0.   0.   0.   0.   0.   0.   0.   0.]\n",
      "  [  0.   0.   0.   0.   0.   0.   0.   0.   0.]\n",
      "  [  0.   0.   0.   0.   0.   0.   0.   0.   0.]\n",
      "  [  0.   0.   0.   0.   0.   0.   0.   0.   0.]\n",
      "  [ 10.   0.   0.   0.   0.   0.   0.   0.   0.]]] \n",
      " \n",
      " count diff \n",
      " [[[ 0.  0.  0.  0.  0.  0.  0.  0.  0.]\n",
      "  [ 0.  0.  0.  0. -1.  0.  0.  0.  0.]\n",
      "  [ 0.  0.  0.  0.  0.  0.  0.  0.  0.]\n",
      "  [ 0.  0.  0.  0.  0.  0.  0.  0.  0.]\n",
      "  [-1.  0.  0.  0. -1.  0.  0.  0.  0.]\n",
      "  [ 0.  0.  0.  0.  0.  0.  0.  0.  0.]\n",
      "  [ 0.  0.  0.  0.  0.  0.  0.  0.  0.]\n",
      "  [ 0.  0.  0.  0.  0.  0.  0.  0.  0.]\n",
      "  [ 0.  0.  0.  0.  0.  0.  0.  0.  0.]\n",
      "  [ 1.  0.  0.  0.  0.  0.  0.  0.  0.]]]\n"
     ]
    }
   ],
   "source": [
    "print('price\\n', price_matrix[:,:,selected_range],'\\n', '\\n','volume\\n', volume_matrix[:,:,selected_range],'\\n', '\\n','count\\n', count_matrix[:,:,selected_range],'\\n', '\\n')\n",
    "print('volume diff \\n',np.diff(volume_matrix[:,:,selected_range],axis=2),'\\n', '\\n','count diff \\n', np.diff(count_matrix[:,:,selected_range],axis=2))"
   ]
  },
  {
   "cell_type": "markdown",
   "metadata": {},
   "source": [
    "## The plot instead of summary\n",
    "\n",
    "That would be all for the first post. I hope this post made you at least a bit curious. \n",
    "\n",
    "Just to finish with a plot - let's see how the price behaved few minutes after analyzed chunk, say 1000 timestamps later. \n",
    "\n",
    "But before let's introduce wide-spread concept of ```midprice``` that will come handy later (due to the fact that transactions don't happen on every event)."
   ]
  },
  {
   "cell_type": "code",
   "execution_count": 85,
   "metadata": {},
   "outputs": [
    {
     "data": {
      "text/plain": [
       "[<matplotlib.lines.Line2D at 0x1e58e79bb38>]"
      ]
     },
     "execution_count": 85,
     "metadata": {},
     "output_type": "execute_result"
    },
    {
     "data": {
      "image/png": "[encoded data removed]",
      "text/plain": [
       "<Figure size 432x288 with 1 Axes>"
      ]
     },
     "metadata": {
      "needs_background": "light"
     },
     "output_type": "display_data"
    }
   ],
   "source": [
    "midprice=((price_matrix[:,4,:] + price_matrix[:,5,:])/2).reshape(-1)\n",
    "future = 1000\n",
    "plt.plot(time[selected_range[-1]:selected_range[-1]+future], midprice[selected_range[-1]:selected_range[-1]+future])"
   ]
  }
 ],
 "metadata": {
  "kernelspec": {
   "display_name": "Python 3",
   "language": "python",
   "name": "python3"
  },
  "language_info": {
   "codemirror_mode": {
    "name": "ipython",
    "version": 3
   },
   "file_extension": ".py",
   "mimetype": "text/x-python",
   "name": "python",
   "nbconvert_exporter": "python",
   "pygments_lexer": "ipython3",
   "version": "3.7.3"
  }
 },
 "nbformat": 4,
 "nbformat_minor": 4
}
